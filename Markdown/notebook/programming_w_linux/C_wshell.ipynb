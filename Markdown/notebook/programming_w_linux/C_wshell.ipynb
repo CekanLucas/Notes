{
 "cells": [
  {
   "cell_type": "markdown",
   "metadata": {},
   "source": [
    "# Programming with Linux\n",
    "*BY WROX*\n",
    "\n",
    "Normally when we are not working in notebook setting we need to compile the program\n",
    "\n",
    "```bash\n",
    "$ gcc -o hello hello.c\n",
    "$ ./hello\n",
    "```\n",
    "    Hello World"
   ]
  },
  {
   "cell_type": "code",
   "execution_count": null,
   "metadata": {},
   "outputs": [],
   "source": [
    "%%bash\n",
    "gcc --version\n",
    "\n",
    "# compile hello.c into hello binary then run it\n",
    "gcc -o hello hello.c \n",
    "./hello"
   ]
  },
  {
   "attachments": {},
   "cell_type": "markdown",
   "metadata": {},
   "source": [
    "> If you forget the `-o` flag then compiled program would go to `a.out` meaning assembler output *this comes from early days of UNIX when people would play games as `a.out` to avoid being caught by system administrators*"
   ]
  },
  {
   "attachments": {},
   "cell_type": "markdown",
   "metadata": {},
   "source": [
    "## Directory Structure\n",
    "\n",
    "### Applications\n",
    "\n",
    "`/usr/bin` supplied by system for general use including program development\n",
    "\n",
    "`/usr/local/bin` or `/opt` applications added by sys admins for a specific host computer or local network\n",
    "\n",
    "\n"
   ]
  },
  {
   "cell_type": "code",
   "execution_count": null,
   "metadata": {},
   "outputs": [],
   "source": [
    "%%bash\n",
    "echo \"--- /usr/bin ---\"\n",
    "ls /usr/bin | tail\n",
    "echo \"--- /usr/local/bin ---\"\n",
    "ls /usr/local/bin | tail"
   ]
  },
  {
   "attachments": {},
   "cell_type": "markdown",
   "metadata": {},
   "source": [
    "### Header Files \n",
    "Usually located within `/usr/include` for C \n",
    "`usr/include/sys` adn `usr/include/linux`"
   ]
  },
  {
   "cell_type": "code",
   "execution_count": null,
   "metadata": {},
   "outputs": [],
   "source": [
    "%%bash\n",
    "echo \"--- /usr/include ---\"\n",
    "ls /usr/include | tail\n",
    "echo \"--- /usr/include/sys ---\"\n",
    "ls /usr/include/sys | tail\n",
    "echo \"--- /usr/include/linux ---\"\n",
    "ls /usr/include/linux | head"
   ]
  },
  {
   "cell_type": "code",
   "execution_count": null,
   "metadata": {},
   "outputs": [],
   "source": [
    "%%bash\n",
    "cd /usr/include\n",
    "grep EXIT_ *.h | head"
   ]
  },
  {
   "attachments": {},
   "cell_type": "markdown",
   "metadata": {},
   "source": [
    "### Libraries\n",
    "**Libraries** are collections of precompiled functions that have been written to be reusable\n",
    "#### Stored In\n",
    "`/lib` and `/usr/lib`\n",
    "\n",
    "- `.a` for traditional static libraries\n",
    "- `.so` for shared libraries"
   ]
  },
  {
   "cell_type": "code",
   "execution_count": null,
   "metadata": {},
   "outputs": [],
   "source": [
    "%%bash\n",
    "echo \"--- /lib ---\"\n",
    "ls /lib | head\n",
    "echo \"--- /usr/lib ---\"\n",
    "ls /usr/lib | head"
   ]
  },
  {
   "attachments": {},
   "cell_type": "markdown",
   "metadata": {},
   "source": [
    "## Static Libraries\n",
    "\n",
    "`fred.c`\n",
    "```c\n",
    "#include <stdio.h>\n",
    "void fred(int arg) {\n",
    "  printf(\"fred: you passed %d\\n\", arg);\n",
    "}\n",
    "```\n",
    "`bill.c`\n",
    "```c\n",
    "#include <stdio.h>\n",
    "void bill(char *arg) {\n",
    "  printf(\"bill: you passed %s\\n\", arg);\n",
    "}\n",
    "```"
   ]
  },
  {
   "cell_type": "code",
   "execution_count": 8,
   "metadata": {},
   "outputs": [
    {
     "name": "stdout",
     "output_type": "stream",
     "text": [
      "bill.o\n",
      "fred.o\n"
     ]
    }
   ],
   "source": [
    "%%bash\n",
    "gcc -c bill.c fred.c\n",
    "ls *.o"
   ]
  },
  {
   "attachments": {},
   "cell_type": "markdown",
   "metadata": {},
   "source": [
    "> `c` flag prevents compiler from created a complete program which is needed because `main` function has not been defined \n",
    "\n",
    "We should create a header file\n",
    "\n",
    "    lib.h\n",
    "\n",
    "```c\n",
    "/*\n",
    "This is lib.h. It declares the functions fred and bill for users\n",
    "*/\n",
    "void bill(char *);\n",
    "void fred(int);\n",
    "```\n",
    "\n",
    "We can include this header file in the calling program\n",
    "\n",
    "    program.c\n",
    "\n",
    "```c\n",
    "#include \"lib.h\"\n",
    "int main() {\n",
    "    bill(\"Hello World\");\n",
    "    exit(0);\n",
    "}\n",
    "```"
   ]
  },
  {
   "cell_type": "code",
   "execution_count": 11,
   "metadata": {},
   "outputs": [
    {
     "name": "stdout",
     "output_type": "stream",
     "text": [
      "bill: you passed Hello World\n"
     ]
    }
   ],
   "source": [
    "%%bash\n",
    "gcc -c program.c\n",
    "gcc -o program program.o bill.o\n",
    "./program"
   ]
  }
 ],
 "metadata": {
  "kernelspec": {
   "display_name": ".venv",
   "language": "python",
   "name": "python3"
  },
  "language_info": {
   "codemirror_mode": {
    "name": "ipython",
    "version": 3
   },
   "file_extension": ".py",
   "mimetype": "text/x-python",
   "name": "python",
   "nbconvert_exporter": "python",
   "pygments_lexer": "ipython3",
   "version": "3.8.10"
  },
  "orig_nbformat": 4
 },
 "nbformat": 4,
 "nbformat_minor": 2
}
