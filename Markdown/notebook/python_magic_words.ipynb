{
 "cells": [
  {
   "cell_type": "code",
   "execution_count": 44,
   "metadata": {
    "vscode": {
     "languageId": "javascript"
    }
   },
   "outputs": [
    {
     "data": {
      "application/javascript": "(function () {\n  document.addEventListener('DOMContentLoaded', function loadScript() {\n    syncListStyleWithPrevEl();\n  });\n})();\n\n/** The element before list `ul`, `ol` is usually the heading here we sync styles together so we can make list headings */\nfunction syncListStyleWithPrevEl() {\n  const listEl = Array.from(document.querySelectorAll('ul, ol'));\n  listEl.forEach((el) => {\n    const prevEl = getPrevNonEmptyEl(el);\n    if(prevEl == null)\n      return\n    const liEl = el.firstElementChild;\n    if (liEl) {\n      const liColor = window.getComputedStyle(liEl).getPropertyValue('color');\n\n      if (prevEl && prevEl.style)\n        prevEl.style.color = liColor;\n    } else {\n      console.info('No list elements found');\n    }\n  });\n}\nfunction getPrevNonEmptyEl(el) {\n  const prevEl = el.previousElementSibling;\n  if(prevEl === null){\n    return null\n  }\n  console.log(prevEl, prevEl.textContent)\n  return prevEl.textContent !== null && prevEl.textContent !== ''\n    ? prevEl\n    : getPrevNonEmptyEl(prevEl);\n}\n",
      "text/plain": [
       "<IPython.core.display.Javascript object>"
      ]
     },
     "metadata": {},
     "output_type": "display_data"
    }
   ],
   "source": [
    "%%javascript\n",
    "(function () {\n",
    "  document.addEventListener('DOMContentLoaded', function loadScript() {\n",
    "    syncListStyleWithPrevEl();\n",
    "  });\n",
    "})();\n",
    "\n",
    "/** The element before list `ul`, `ol` is usually the heading here we sync styles together so we can make list headings */\n",
    "function syncListStyleWithPrevEl() {\n",
    "  const listEl = Array.from(document.querySelectorAll('ul, ol'));\n",
    "  listEl.forEach((el) => {\n",
    "    const prevEl = getPrevNonEmptyEl(el);\n",
    "    if(prevEl == null)\n",
    "      return\n",
    "    const liEl = el.firstElementChild;\n",
    "    if (liEl) {\n",
    "      const liColor = window.getComputedStyle(liEl).getPropertyValue('color');\n",
    "\n",
    "      if (prevEl && prevEl.style)\n",
    "        prevEl.style.color = liColor;\n",
    "    } else {\n",
    "      console.info('No list elements found');\n",
    "    }\n",
    "  });\n",
    "}\n",
    "function getPrevNonEmptyEl(el) {\n",
    "  const prevEl = el.previousElementSibling;\n",
    "  if(prevEl === null){\n",
    "    return null\n",
    "  }\n",
    "  console.log(prevEl, prevEl.textContent)\n",
    "  return prevEl.textContent !== null && prevEl.textContent !== ''\n",
    "    ? prevEl\n",
    "    : getPrevNonEmptyEl(prevEl);\n",
    "}"
   ]
  },
  {
   "cell_type": "code",
   "execution_count": 45,
   "metadata": {
    "vscode": {
     "languageId": "html"
    }
   },
   "outputs": [
    {
     "data": {
      "text/html": [
       "<link rel=\"stylesheet\" href=\"../../CSS.css\">\n",
       "<script src=\"../../CSS.js\"></script>\n",
       "<blockquote class=\"text-500-red\" id=\"bq\">This is changed text</blockquote>\n",
       "<h1>This is list heading</h1>\n",
       "<ul>\n",
       "  <li>This is list element number 1</li>\n",
       "  <li>This is list element number 2</li>\n",
       "  <li>This is list element number 3</li>\n",
       "</ul>\n"
      ],
      "text/plain": [
       "<IPython.core.display.HTML object>"
      ]
     },
     "metadata": {},
     "output_type": "display_data"
    }
   ],
   "source": [
    "%%html\n",
    "<link rel=\"stylesheet\" href=\"../../CSS.css\">\n",
    "<script src=\"../../CSS.js\"></script>\n",
    "<blockquote class=\"text-500-red\" id=\"bq\">This is changed text</blockquote>\n",
    "<h1>This is list heading</h1>\n",
    "<ul>\n",
    "  <li>This is list element number 1</li>\n",
    "  <li>This is list element number 2</li>\n",
    "  <li>This is list element number 3</li>\n",
    "</ul>"
   ]
  },
  {
   "cell_type": "code",
   "execution_count": 46,
   "metadata": {
    "vscode": {
     "languageId": "javascript"
    }
   },
   "outputs": [
    {
     "data": {
      "application/javascript": "document.getElementById('bq').textContent = 'changed'\n",
      "text/plain": [
       "<IPython.core.display.Javascript object>"
      ]
     },
     "metadata": {},
     "output_type": "display_data"
    }
   ],
   "source": [
    "%%javascript\n",
    "document.getElementById('bq').textContent = 'changed'\n"
   ]
  },
  {
   "attachments": {},
   "cell_type": "markdown",
   "metadata": {},
   "source": [
    "<link rel=\"stylesheet\" href=\"../../CSS.css\">\n",
    "<script src=\"../../CSS.js\"></script>\n",
    "\n",
    "# Magic Words\n",
    "`%%html` `%%javascript`\n",
    "Magic words work in Python \n",
    "\n",
    "Magic Words | Description\n",
    "-|--\n",
    "`%%html` | Allows you to insert html into notebook\n",
    "`%%javascript` | Allows you to insert javascript into notebook\n",
    "\n",
    "Notes\n",
    "* The two magic words need to be inserted in *separate* cells\n",
    "* You can change the notebook cell code for inserted `html` and `javascript` to get the correct intellisense\n",
    "\n",
    "<script src=\"../../CSS.js\"></script>\n",
    "<script>\n",
    "(function () {\n",
    "  document.addEventListener('DOMContentLoaded', function loadScript() {\n",
    "    syncListStyleWithPrevEl();\n",
    "  });\n",
    "})();\n",
    "/** The element before list `ul`, `ol` is usually the heading here we sync styles together so we can make list headings */\n",
    "function syncListStyleWithPrevEl() {\n",
    "  const listEl = Array.from(document.querySelectorAll('ul, ol'));\n",
    "  listEl.forEach((el) => {\n",
    "    const prevEl = getPrevNonEmptyEl(el);\n",
    "    if(prevEl == null)\n",
    "      return\n",
    "    const liEl = el.firstElementChild;\n",
    "    if (liEl) {\n",
    "      const liColor = window.getComputedStyle(liEl).getPropertyValue('color');\n",
    "    if (prevEl && prevEl.style)\n",
    "      prevEl.style.color = liColor;\n",
    "    } else {\n",
    "      console.info('No list elements found');\n",
    "    }\n",
    "  });\n",
    "};\n",
    "function getPrevNonEmptyEl(el) {\n",
    "  const prevEl = el.previousElementSibling;\n",
    "  if(prevEl === null){\n",
    "    return null\n",
    "  }\n",
    "  console.log(prevEl, prevEl.textContent)\n",
    "  return prevEl.textContent !== null && prevEl.textContent !== ''\n",
    "    ? prevEl\n",
    "    : getPrevNonEmptyEl(prevEl);\n",
    "}\n",
    "</script>"
   ]
  },
  {
   "attachments": {},
   "cell_type": "markdown",
   "metadata": {},
   "source": [
    "# Markdown Cells\n",
    "Markdown cells are not affected by `%%html` but they do affect the entire document "
   ]
  }
 ],
 "metadata": {
  "kernelspec": {
   "display_name": "Python 3",
   "language": "python",
   "name": "python3"
  },
  "language_info": {
   "codemirror_mode": {
    "name": "ipython",
    "version": 3
   },
   "file_extension": ".py",
   "mimetype": "text/x-python",
   "name": "python",
   "nbconvert_exporter": "python",
   "pygments_lexer": "ipython3",
   "version": "3.8.10"
  },
  "orig_nbformat": 4
 },
 "nbformat": 4,
 "nbformat_minor": 2
}
