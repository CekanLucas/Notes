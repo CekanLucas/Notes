{
 "cells": [
  {
   "cell_type": "markdown",
   "id": "60c8544f",
   "metadata": {},
   "source": [
    "# TSLAB Notebook in Myst Format"
   ]
  },
  {
   "cell_type": "code",
   "execution_count": 1,
   "id": "22284870",
   "metadata": {},
   "outputs": [
    {
     "name": "stdout",
     "output_type": "stream",
     "text": [
      "hello world\n"
     ]
    }
   ],
   "source": [
    "console.log('hello world')"
   ]
  },
  {
   "cell_type": "code",
   "execution_count": 2,
   "id": "b8f7a99c",
   "metadata": {},
   "outputs": [
    {
     "name": "stdout",
     "output_type": "stream",
     "text": [
      "This is a string generic\n"
     ]
    },
    {
     "name": "stdout",
     "output_type": "stream",
     "text": [
      "This is a number generic\n"
     ]
    }
   ],
   "source": [
    "// A simple generic type that takes in a type parameter T\n",
    "\n",
    "type MyGeneric<T> = {\n",
    "  value: T;\n",
    "  getDescription: () => string;\n",
    "};\n",
    "\n",
    "// An example usage of the generic type with string type parameter\n",
    "\n",
    "const myStringGeneric: MyGeneric<string> = {\n",
    "  value: 'Hello, world!',\n",
    "  getDescription: () => 'This is a string generic'\n",
    "};\n",
    "\n",
    "console.log(myStringGeneric.getDescription()); // Output: This is a string generic\n",
    "\n",
    "// An example usage of the generic type with number type parameter\n",
    "const myNumberGeneric: MyGeneric<number> = {\n",
    "  value: 42,\n",
    "  getDescription: () => 'This is a number generic'\n",
    "};\n",
    "\n",
    "console.log(myNumberGeneric.getDescription()); // Output: This is a number generic"
   ]
  }
 ],
 "metadata": {
  "jupytext": {
   "formats": "md:myst",
   "text_representation": {
    "extension": ".md",
    "format_name": "myst"
   }
  },
  "kernelspec": {
   "display_name": "tslab",
   "language": "typescript",
   "name": "tslab"
  },
  "language_info": {
   "codemirror_mode": {
    "mode": "typescript",
    "name": "javascript",
    "typescript": true
   },
   "file_extension": ".ts",
   "mimetype": "text/typescript",
   "name": "typescript",
   "version": "3.7.2"
  },
  "source_map": [
   11,
   15,
   19
  ]
 },
 "nbformat": 4,
 "nbformat_minor": 5
}