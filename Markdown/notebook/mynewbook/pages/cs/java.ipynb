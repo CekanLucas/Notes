{
 "cells": [
  {
   "attachments": {},
   "cell_type": "markdown",
   "metadata": {},
   "source": [
    "# JAVA \n",
    "\n",
    "> The High Level Object Orientated Language"
   ]
  },
  {
   "cell_type": "code",
   "execution_count": 1,
   "metadata": {},
   "outputs": [
    {
     "name": "stdout",
     "output_type": "stream",
     "text": [
      "Welcome to Java!\n"
     ]
    }
   ],
   "source": [
    "System.out.println(\"Welcome to Java!\"); // print to console"
   ]
  },
  {
   "cell_type": "code",
   "execution_count": 2,
   "metadata": {},
   "outputs": [
    {
     "name": "stdout",
     "output_type": "stream",
     "text": [
      "Welcome to Java!\n"
     ]
    }
   ],
   "source": [
    "public class Welcome { // class\n",
    "  public static void main(String[] args) { //main method\n",
    "    System.out.println(\"Welcome to Java!\");\n",
    "  }\n",
    "}\n",
    "\n",
    "Welcome.main(new String[0]);"
   ]
  },
  {
   "attachments": {},
   "cell_type": "markdown",
   "metadata": {},
   "source": [
    "> **`main`** is the entry point of the program"
   ]
  },
  {
   "cell_type": "code",
   "execution_count": 3,
   "metadata": {},
   "outputs": [
    {
     "name": "stdout",
     "output_type": "stream",
     "text": [
      "(10.5 + 2 * 3) / (45 - 3.5) =0.39759036144578314\n"
     ]
    }
   ],
   "source": [
    "/** This is a JSDoc comment\n",
    " * Provide A <u>Brief Description</u> of Class\n",
    " * @author Lucas\n",
    "*/\n",
    "public class ComputeExpression {\n",
    "  public static void main(String[] args) {\n",
    "    System.out.print(\"(10.5 + 2 * 3) / (45 - 3.5) =\");\n",
    "    System.out.println((10.5 + 2 * 3) / (45 - 3.5));\n",
    "  }\n",
    "}\n",
    "\n",
    "ComputeExpression.main(new String[0]);"
   ]
  },
  {
   "attachments": {},
   "cell_type": "markdown",
   "metadata": {},
   "source": [
    "## Compiling and Running a Java Program\n",
    "\n",
    "1) Write a *sourcefile* hello_world.java \n",
    "2) In terminal `$ javac Welcome.java`\n",
    "3) Run compiled file `$ java Welcome`\n",
    "4) Output in console or terminal:\n",
    "\n",
    "> Welcome to Java!\n",
    "\n",
    "```{note} \n",
    "`javac` comes from the jdk (**J**ava **D**evelopment **K**it) it is the java compiler to compile java source files to bytecode   \n",
    "```\n",
    "\n",
    "``` {mermaid} \n",
    "graph LR;\n",
    "  javaCode(Java Code) == Compiler ==> code(Intermediary Code);\n",
    "  code == JVM ==> nativeCode(Native Code);\n",
    "```"
   ]
  },
  {
   "cell_type": "code",
   "execution_count": 4,
   "metadata": {},
   "outputs": [
    {
     "name": "stdout",
     "output_type": "stream",
     "text": [
      "1\n",
      "1.8\n"
     ]
    }
   ],
   "source": [
    "System.out.println(9 / 5); // incorrect \n",
    "System.out.println(9.0 / 5); // correct \n",
    "\n",
    "/* In java you can't divide two integers you need to convert one to floating point */"
   ]
  },
  {
   "cell_type": "code",
   "execution_count": 5,
   "metadata": {},
   "outputs": [
    {
     "name": "stdout",
     "output_type": "stream",
     "text": [
      "5\n",
      "12\n"
     ]
    }
   ],
   "source": [
    "// Variables\n",
    "\n",
    "int count; // declare integer named count\n",
    "count = 5; // assign value of 5 to variable count\n",
    "\n",
    "System.out.println(count); // print variable to console\n",
    "\n",
    "// Increase value of count by 5\n",
    "// count = count + 5; // equivalent to below\n",
    "count += 5; \n",
    "count++;\n",
    "\n",
    "System.out.println(++count); // print new value\n",
    "\n",
    "// NOTE: played around with decrement increment operators"
   ]
  },
  {
   "cell_type": "code",
   "execution_count": 6,
   "metadata": {},
   "outputs": [],
   "source": [
    "/* Start by Making Pseudo code */\n",
    "\n",
    "public class ComputeArea {\n",
    "  public static void main (String[] args) {\n",
    "    // Step 1: Read in radius\n",
    "    // Step 2: Compute area\n",
    "    // Step 3: Display\n",
    "  }\n",
    "}"
   ]
  },
  {
   "cell_type": "code",
   "execution_count": 7,
   "metadata": {},
   "outputs": [
    {
     "name": "stdout",
     "output_type": "stream",
     "text": [
      "The area for the circle of radius 20.0 is 1256.636\n"
     ]
    }
   ],
   "source": [
    "public class ComputeArea {\n",
    "  public static void main (String[] args) {\n",
    "    double radius;\n",
    "    radius = 20; // assign a radius\n",
    "    double area;\n",
    "\n",
    "    area = radius * radius * 3.14159;\n",
    "\n",
    "    System.out.println(\"The area for the circle of radius \" + radius + \" is \" + area);\n",
    "  }\n",
    "}\n",
    "ComputeArea.main(new String[0]);"
   ]
  },
  {
   "attachments": {},
   "cell_type": "markdown",
   "metadata": {},
   "source": [
    "#### Identifiers\n",
    "\n",
    "Any name in Java is termed a **identifier**\n",
    "\n",
    "Here are the rules:\n",
    "- consists of letters digits, underscores `_` and dollar signs `$`\n",
    "- can't start with digit\n",
    "- can't be reserved keyword\n",
    "- can't be `true`, `false` or `null`\n",
    "- can be of any length\n",
    "- remember Java is case sensitive"
   ]
  },
  {
   "cell_type": "code",
   "execution_count": 8,
   "metadata": {},
   "outputs": [
    {
     "data": {
      "text/plain": [
       "4"
      ]
     },
     "execution_count": 8,
     "metadata": {},
     "output_type": "execute_result"
    },
    {
     "name": "stdout",
     "output_type": "stream",
     "text": [
      "1\n",
      "1\n",
      "3\n",
      "The constant of pi is 3.14\n",
      "Float of 1.7 casted as int:\t1\n",
      "1 / 2 is wrong because Java sees both as int:\t0\n"
     ]
    }
   ],
   "source": [
    "// You can assign variables inside function\n",
    "int x;\n",
    "System.out.println(x = 1);\n",
    "\n",
    "// Equivalent to something like\n",
    "int X = 1;\n",
    "System.out.println(X);\n",
    "\n",
    "// multiple assignments\n",
    "int i, j, k; \n",
    "i = j = k = 1;\n",
    "System.out.println(i + j + k);\n",
    "\n",
    "/* Equivalent to:\n",
    " * k = 1;\n",
    " * j = k;\n",
    " * i = j;\n",
    "*/\n",
    "\n",
    "/* CONSTANTS */\n",
    "// final datatype CONSTANTNAME = value;\n",
    "// naming conventions: Capitalize everything and use _ between words\n",
    "final double PI = 3.14;\n",
    "System.out.println(\"The constant of pi is \" + PI);\n",
    "\n",
    "/* Type Casting */\n",
    "System.out.println(\"Float of 1.7 casted as int:\\t\" + (int)1.7F);\n",
    "System.out.println(\"1 / 2 is wrong because Java sees both as int:\\t\" + 1/2);\n",
    "\n",
    "int sum = 0;\n",
    "sum += 4.5; // sum becomes 4 after this statement\n",
    "// sum += 4.5 is equivalent to sum = (int)(sum + 4.5)"
   ]
  },
  {
   "attachments": {},
   "cell_type": "markdown",
   "metadata": {},
   "source": [
    "### Numeric Types\n",
    "\n",
    "| Name        | Range      | Storage Size   |\n",
    "| ----        | -----      | ------------   |\n",
    "| **byte**    | $\\pm 2^7$  | 8-bit signed   |\n",
    "| **short**   | $\\pm 2^16$ | 16-bit signed  |\n",
    "| **int**     | $\\pm 2^31$ | 32-bit signed  |\n",
    "| **long**    | $\\pm 2^63$ | 64-bit signed  |\n",
    "| **float**   |            | 32-bit IEEE    |\n",
    "| **double**  |            | 64-bit IEEE    |\n",
    "\n",
    "```{note} \n",
    "**IEEE 754** a standard approved by the Institute of Electrical and Electronics Engineers for representing floating-point numbers on computers\n",
    "```"
   ]
  },
  {
   "cell_type": "code",
   "execution_count": 9,
   "metadata": {},
   "outputs": [
    {
     "name": "stdout",
     "output_type": "stream",
     "text": [
      "127\n"
     ]
    },
    {
     "name": "stderr",
     "output_type": "stream",
     "text": [
      "REJECTED ERRONEOUS\n",
      "\n",
      "System.out.println(er = 128); // should error because going out of bounds of a byte\n",
      "\n",
      "\n",
      "incompatible types: possible lossy conversion from int to byte\n"
     ]
    }
   ],
   "source": [
    "byte er, b; // byte range is +-2^7 (8 bit) or -128 to 127\n",
    "System.out.println(b = 127);\n",
    "System.out.println(er = 128); // should error because going out of bounds of a byte\n",
    "\n"
   ]
  },
  {
   "attachments": {},
   "cell_type": "markdown",
   "metadata": {},
   "source": [
    "#### Numeric Literals\n",
    "\n",
    "literal\n",
    ": It's a constant value that appears directly in a program\n",
    "\n",
    "```java\n",
    "// 34 and 0.305 are literals\n",
    "int numberOfYears = 34;\n",
    "double weight = 0.305;\n",
    "```"
   ]
  },
  {
   "cell_type": "code",
   "execution_count": 10,
   "metadata": {},
   "outputs": [
    {
     "name": "stdout",
     "output_type": "stream",
     "text": [
      "15\n",
      "4095\n",
      "65535\n",
      "ssn:\t232454519\tCredit Card Number:\t2324454545193415\n",
      "This is a double:\t0.3333333333333333\n",
      "This is a float:\t0.33333334\n",
      "This is in scientific notation:\t505.34\n",
      "Current time:\t1683413629647\n"
     ]
    }
   ],
   "source": [
    "System.out.println(0B1111); // 0B or 0b at the start denotes a binary literal\n",
    "System.out.println(07777); // leading 0 denotes a octal number\n",
    "System.out.println(0XFFFF); // leading 0x or 0X denotes a hexadecimal literal\n",
    "\n",
    "// To improve readability you can use _ in between numbers\n",
    "long ssn = 232_45_4519;\n",
    "long creditCardNumber = 2324_4545_4519_3415L;\n",
    "\n",
    "System.out.println(\"ssn:\\t\" + ssn + \"\\tCredit Card Number:\\t\" + creditCardNumber);\n",
    "\n",
    "// FLOATING POINT LITERALS\n",
    "// by default if you use a decimal point Java sees it as a double\n",
    "System.out.println(\"This is a double:\\t\" + 1.0/3.0 + \"\\nThis is a float:\\t\" + 1.0f/3.0F);\n",
    "\n",
    "// Scientific Notation \n",
    "System.out.println(\"This is in scientific notation:\\t\" + 5.0534E+2);\n",
    "\n",
    "// displaying system time, milliseconds from UNIX epoch Jan 1, 1970 GMT\n",
    "// If you want more accuracy use System.nanoTime\n",
    "System.out.println(\"Current time:\\t\" + System.currentTimeMillis());"
   ]
  },
  {
   "attachments": {},
   "cell_type": "markdown",
   "metadata": {},
   "source": [
    "### Boolean Control Flow\n",
    "\n",
    "```java\n",
    "if (radius < 0) {\n",
    "  System.out.println(\"Incorrect input\");\n",
    "}\n",
    "else {\n",
    "  double area = radius * radius * 3.14159;\n",
    "  System.out.println(\"Area is \" + area);\n",
    "}\n",
    "```\n",
    "\n",
    "#### Relational Operators\n",
    "\n",
    "`<` `>` `<=` `>=` `==` `!=`\n",
    "\n",
    "#### Boolean data type\n",
    "\n",
    "```java\n",
    "// could be either true or false both are literals\n",
    "boolean someVariable = true;\n",
    "```\n"
   ]
  },
  {
   "cell_type": "code",
   "execution_count": 11,
   "metadata": {},
   "outputs": [
    {
     "name": "stderr",
     "output_type": "stream",
     "text": [
      "REJECTED ERRONEOUS\n",
      "\n",
      "i = (int)b;\n",
      "incompatible types: boolean cannot be converted to int\n"
     ]
    }
   ],
   "source": [
    "boolean b = true;\n",
    "i = (int)b; // can't do\n",
    "int i = 1;\n",
    "boolean b = (boolean)i;  // can't do"
   ]
  },
  {
   "attachments": {},
   "cell_type": "markdown",
   "metadata": {},
   "source": [
    "#### If statements\n",
    "\n",
    "```java\n",
    "// for single statement braces are optional\n",
    "if (boolean-expression) {\n",
    "  // execute code block if boolean-expression evaluates to true\n",
    "  statements(s);\n",
    "}\n",
    "\n",
    "if (boolean-expression) {\n",
    "  statements(s)-for-the-true-case;\n",
    "}\n",
    "else {\n",
    "  statements(s)-for-the-false-case;\n",
    "}\n",
    "```\n",
    "You can nest if or if-else within if or if-else statements\n",
    "\n",
    "#### Logical Operators\n",
    "\n",
    "`!`: not `&&`: and `||`: or `^`: exclusive or\n",
    "\n",
    "These can be used for **short-circuiting** or are known as **lazy operators**\n",
    "\n",
    "#### `switch` Statements \n",
    "``` java\n",
    "switch (status) {\n",
    "  case 0:  compute tax for single filers;\n",
    "           break;\n",
    "  case 1:  compute tax for married jointly or qualifying widow(er);\n",
    "           break;\n",
    "  case 2:  compute tax for married filing separately;\n",
    "           break;\n",
    "  case 3:  compute tax for head of household;\n",
    "           break;\n",
    "  default: System.out.println(\"Error: invalid status\");\n",
    "           System.exit(1);\n",
    "} \n",
    "```\n",
    "\n",
    "#### Conditional Operator\n",
    "```java\n",
    "y = (x > 0) ? 1 : −1;\n",
    "```"
   ]
  },
  {
   "attachments": {},
   "cell_type": "markdown",
   "metadata": {},
   "source": [
    "### Math Methods \n",
    "\n",
    "#### Trigonometric Methods\n",
    "\n",
    "| Method            | \tDescription                                            |\n",
    "| ------            | \t-----------                                            |\n",
    "| sin(radians)      | Returns the trigonometric sine of an angle in radians    |\n",
    "| cos(radians)      | Returns the trigonometric cosine of an angle in radians  |\n",
    "| tan(radians)      | Returns the trigonometric tangent of an angle in radians |\n",
    "| toRadians(degree) | Returns the angle in radians for the angle in degrees    |\n",
    "| toDegrees(radians)| Returns the angle in degrees for the angle in radians    |\n",
    "| asin(a)           | Returns the angle in radians for the inverse of sine     |\n",
    "| acos(a)           | Returns the angle in radians for the inverse of cosine   |\n",
    "| atan(a)           | Returns the angle in radians for the inverse of tangent  |\n",
    "\n",
    "#### Exponent Methods\n",
    "\n",
    "| Method    | \tDescription                                            |\n",
    "| ------    | \t-----------                                            |\n",
    "| exp (x)   | Returns e raised to power of x $e^x$                     |\n",
    "| log(x)    | Returns the natural logarithm of x $ln(x)=\\log_e{x}$     |\n",
    "| log10(x)  | Returns the base 10 logarithm of x $ln(x)=\\log_{10}{x}$  |\n",
    "| pow(a , b)| Returns a raised to the power of b $a^b$                 |\n",
    "| sqrt(x)   | Returns the square root of x $\\sqrt{x}$ for $x \\ge 0$    |\n",
    "\n",
    "#### Rounding Methods\n",
    "\n",
    "| Method   | \tDescription                                            |\n",
    "| ------   | \t-----------                                            |\n",
    "| ceil (x) | x is rounded up to its nearest integer, integer returned as a double   |\n",
    "| floor(x) | x is rounded down to its nearest integer, integer returned as a double |\n",
    "| rint(x)  | x is rounded to its nearest integer. If x is equally close to two integers the even one is returned as a double value |\n",
    "| round(x) | Returns `(int)Math.floor(x+0.5)` if x is a float and returns `(long)Math.floor(x+0.5)` if x is a double |"
   ]
  },
  {
   "cell_type": "code",
   "execution_count": 12,
   "metadata": {},
   "outputs": [
    {
     "name": "stdout",
     "output_type": "stream",
     "text": [
      " Math.ceil(2.1):\t3.0\n",
      " Math.ceil(2.0):\t2.0\n",
      " Math.ceil(-2.0):\t-2.0\n",
      " Math.ceil(-2.1):\t-2.0\n",
      " Math.floor(2.1):\t2.0\n",
      " Math.floor(2.0):\t2.0\n",
      " Math.floor(-2.0):\t-2.0\n",
      " Math.floor(-2.1):\t-3.0\n",
      " Math.rint(2.1):\t2.0\n",
      " Math.rint(-2.0):\t-2.0\n",
      " Math.rint(-2.1):\t-2.0\n",
      " Math.rint(2.5):\t2.0\n",
      " Math.rint(4.5):\t4.0\n",
      " Math.rint(-2.5):\t-2.0\n",
      " Math.round(2.6f):\t3\treturn long\n",
      " Math.round(2.0):\t2\treturn long\n",
      " Math.round(-2.0f):\t-2\treturn long\n",
      " Math.round(-2.6):\t-3\treturn long\n",
      " Math.round(-2.4):\t-2\treturn long\n"
     ]
    }
   ],
   "source": [
    "System.out.println(\" Math.ceil(2.1):\\t\" + Math.ceil(2.1));\n",
    "System.out.println(\" Math.ceil(2.0):\\t\" + Math.ceil(2.0));\n",
    "System.out.println(\" Math.ceil(-2.0):\\t\" + Math.ceil(-2.0));\n",
    "System.out.println(\" Math.ceil(-2.1):\\t\" + Math.ceil(-2.1));\n",
    "System.out.println(\" Math.floor(2.1):\\t\" + Math.floor(2.1));\n",
    "System.out.println(\" Math.floor(2.0):\\t\" + Math.floor(2.0));\n",
    "System.out.println(\" Math.floor(-2.0):\\t\" + Math.floor(-2.0));\n",
    "System.out.println(\" Math.floor(-2.1):\\t\" + Math.floor(-2.1));\n",
    "System.out.println(\" Math.rint(2.1):\\t\" + Math.rint(2.1));\n",
    "System.out.println(\" Math.rint(-2.0):\\t\" + Math.rint(-2.0));\n",
    "System.out.println(\" Math.rint(-2.1):\\t\" + Math.rint(-2.1));\n",
    "System.out.println(\" Math.rint(2.5):\\t\" + Math.rint(2.5));\n",
    "System.out.println(\" Math.rint(4.5):\\t\" + Math.rint(4.5));\n",
    "System.out.println(\" Math.rint(-2.5):\\t\" + Math.rint(-2.5));\n",
    "System.out.println(\" Math.round(2.6f):\\t\" + Math.round(2.6f) + \"\\treturn long\");\n",
    "System.out.println(\" Math.round(2.0):\\t\" + Math.round(2.0) + \"\\treturn long\");\n",
    "System.out.println(\" Math.round(-2.0f):\\t\" + Math.round(-2.0f) + \"\\treturn long\");\n",
    "System.out.println(\" Math.round(-2.6):\\t\" + Math.round(-2.6) + \"\\treturn long\");\n",
    "System.out.println(\" Math.round(-2.4):\\t\" + Math.round(-2.4) + \"\\treturn long\");\n",
    "\n",
    "// Other Methods\n",
    "Math.min(2, 3); //=> 2\n",
    "Math.max(2, 3); //=> 3\n",
    "Math.abs(-2.1); //=> 2.1\n",
    "\n",
    "// Random Method - returns random number between [0, 1] \n",
    "(int)(Math.random() * 10);      //=> int between 0 - 9\n",
    "(int)(Math.random() * 10) + 50; //=> int between 50 - 99\n",
    "\n",
    "// Character type - \"string\" 'char' note difference between single and double quotes\n",
    "char letter  = 'A';\n",
    "char numChar = '4';\n",
    "\n"
   ]
  },
  {
   "cell_type": "code",
   "execution_count": 30,
   "metadata": {},
   "outputs": [
    {
     "data": {
      "text/plain": [
       "java.io.PrintStream@1b919693"
      ]
     },
     "execution_count": 30,
     "metadata": {},
     "output_type": "execute_result"
    },
    {
     "name": "stdout",
     "output_type": "stream",
     "text": [
      "α β δ η\n",
      " false true true true false a A\n",
      " length:\t23 charAt index 1:\th \n",
      "This is a sample string by Lucas\n",
      "this is a sample string by lucas\n",
      "THIS IS A SAMPLE STRING BY LUCAS\n",
      "false\n",
      "true\n",
      "CompareTo:\t-32\t0\n",
      "startsWith T:\ttrue\tendsWith s:\ttrue\n",
      "contains Lucas:\ttrue"
     ]
    }
   ],
   "source": [
    "char ch = '\\u03b1';\n",
    "System.out.printf(\"%s %s %s %s\", ch, ++ch ,'\\u03b4', ch += 5);\n",
    "\n",
    "// Char Methods\n",
    "System.out.printf(\"\\n %s %s %s %s %s %s %s\", \n",
    "  Character.isDigit(ch),\n",
    "  Character.isLetter(ch),\n",
    "  Character.isLetterOrDigit(ch),\n",
    "  Character.isLowerCase('a'),\n",
    "  Character.isUpperCase('a'),\n",
    "  Character.toLowerCase('A'),\n",
    "  Character.toUpperCase('a')\n",
    ");\n",
    "\n",
    "String str = \"This is a sample string\";\n",
    "System.out.printf(\"\\n length:\\t%s charAt index 1:\\t%s \\n%s\\n%s\\n%s\",\n",
    "    str.length(), // return length\n",
    "    str.charAt(1), // return char at index\n",
    "    str = str.concat(\" by Lucas\"),\n",
    "    str.toLowerCase(),\n",
    "    str.toUpperCase().trim() // trim removes whitespace char both sides\n",
    ");\n",
    "\n",
    "// Comparison Methods for String\n",
    "System.out.printf(\"\\n%s\\n%s\\nCompareTo:\\t%s\\t%s\\nstartsWith T:\\t%s\\tendsWith s:\\t%s\\ncontains Lucas:\\t%s\",  \n",
    "  str.equals(str.toLowerCase()),\n",
    "  str.equalsIgnoreCase(str.toLowerCase()),\n",
    "  str.compareTo(str.toLowerCase()),\n",
    "  str.compareToIgnoreCase(str.toLowerCase()),\n",
    "  str.startsWith(\"T\"), // can't use chars need to use string\n",
    "  str.endsWith(\"s\"),\n",
    "  str.contains(\"Lucas\")\n",
    ");\n"
   ]
  }
 ],
 "metadata": {
  "kernelspec": {
   "display_name": "Ganymede 2.1.1 (Java 17)",
   "language": "java",
   "name": "ganymede-2.1.1-java-17"
  },
  "language_info": {
   "file_extension": ".java",
   "mimetype": "text/x-java",
   "name": "java",
   "version": "11"
  }
 },
 "nbformat": 4,
 "nbformat_minor": 2
}
