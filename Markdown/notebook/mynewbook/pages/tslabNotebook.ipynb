{
 "cells": [
  {
   "attachments": {},
   "cell_type": "markdown",
   "metadata": {},
   "source": [
    "# Typscript Notebook\n",
    "Remember to install `tslab` Jupyter kernal "
   ]
  },
  {
   "cell_type": "code",
   "execution_count": 4,
   "metadata": {},
   "outputs": [
    {
     "name": "stdout",
     "output_type": "stream",
     "text": [
      "Hello World\n"
     ]
    }
   ],
   "source": [
    "console.log('Hello World')"
   ]
  },
  {
   "cell_type": "code",
   "execution_count": 5,
   "metadata": {},
   "outputs": [],
   "source": [
    "const data2: string = 'hello \\u{1F5FA} world!'\n",
    "\n",
    "// Write to new file\n",
    "fs.writeFile('output2.txt', data2.toUpperCase(), err => {\n",
    "  if (err) throw err;\n",
    "  console.log('New file created!');\n",
    "});\n"
   ]
  },
  {
   "cell_type": "code",
   "execution_count": null,
   "metadata": {},
   "outputs": [
    {
     "name": "stdout",
     "output_type": "stream",
     "text": [
      "New file created!\n"
     ]
    },
    {
     "name": "stdout",
     "output_type": "stream",
     "text": [
      "New file created!\n"
     ]
    }
   ],
   "source": [
    "import * as fs from 'fs'\n",
    "\n",
    "const data: string = 'hello \\u{1F5FA} world!'\n",
    "\n",
    "// Write to new file\n",
    "fs.writeFile('output.txt', data.toUpperCase(), err => {\n",
    "  if (err) throw err;\n",
    "  console.log('New file created!');\n",
    "});\n",
    "\n",
    "// Read file\n",
    "// fs.readFile('input.txt', 'utf8', (err, data) => {\n",
    "//   if (err) throw err;\n",
    "//   console.log(data);\n",
    "// });"
   ]
  }
 ],
 "metadata": {
  "kernelspec": {
   "display_name": "TypeScript",
   "language": "typescript",
   "name": "tslab"
  },
  "language_info": {
   "codemirror_mode": {
    "mode": "typescript",
    "name": "javascript",
    "typescript": true
   },
   "file_extension": ".ts",
   "mimetype": "text/typescript",
   "name": "typescript",
   "version": "3.7.2"
  },
  "orig_nbformat": 4
 },
 "nbformat": 4,
 "nbformat_minor": 2
}
