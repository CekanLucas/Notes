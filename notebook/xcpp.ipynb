{
 "cells": [
  {
   "cell_type": "markdown",
   "metadata": {},
   "source": [
    "[![xeus-cling](images/xeus-cling.png)](https://github.com/jupyter-xeus/xeus-cling/)\n",
    "\n",
    "A Jupyter kernel for C++ based on the `cling` C++ interpreter and the `xeus` native implementation of the Jupyter protocol, xeus.\n",
    "\n",
    "- GitHub repository: https://github.com/jupyter-xeus/xeus-cling/\n",
    "- Online documentation: https://xeus-cling.readthedocs.io/\n",
    "\n",
    "- C++ reference [cppreference.com ](https://en.cppreference.com/w/)"
   ]
  },
  {
   "cell_type": "markdown",
   "metadata": {},
   "source": [
    "## Usage\n",
    "\n",
    "<div style=\"background: #efffed;\n",
    "            border: 1px solid grey;\n",
    "            margin: 8px 0 8px 0;\n",
    "            text-align: center;\n",
    "            padding: 8px; \">\n",
    "    <i class=\"fa-play fa\" \n",
    "       style=\"font-size: 40px;\n",
    "              line-height: 40px;\n",
    "              margin: 8px;\n",
    "              color: #444;\">\n",
    "    </i>\n",
    "    <div>\n",
    "    To run the selected code cell, hit <pre style=\"background: #efffed\">Shift + Enter</pre>\n",
    "    </div>\n",
    "</div>"
   ]
  },
  {
   "cell_type": "markdown",
   "metadata": {},
   "source": [
    "## Output and error streams\n",
    "\n",
    "`std::cout` and `std::cerr` are redirected to the notebook frontend."
   ]
  },
  {
   "cell_type": "code",
   "execution_count": 3,
   "metadata": {
    "vscode": {
     "languageId": "c++"
    }
   },
   "outputs": [
    {
     "name": "stdout",
     "output_type": "stream",
     "text": [
      "some output\n"
     ]
    }
   ],
   "source": [
    "#include <iostream>\n",
    "\n",
    "std::cout << \"some output\" << std::endl;"
   ]
  },
  {
   "cell_type": "code",
   "execution_count": 4,
   "metadata": {
    "vscode": {
     "languageId": "c++"
    }
   },
   "outputs": [
    {
     "name": "stderr",
     "output_type": "stream",
     "text": [
      "some error\n"
     ]
    }
   ],
   "source": [
    "std::cerr << \"some error\" << std::endl;"
   ]
  },
  {
   "cell_type": "code",
   "execution_count": 5,
   "metadata": {
    "vscode": {
     "languageId": "c++"
    }
   },
   "outputs": [],
   "source": [
    "#include <stdexcept>"
   ]
  },
  {
   "cell_type": "code",
   "execution_count": 5,
   "metadata": {
    "vscode": {
     "languageId": "c++"
    }
   },
   "outputs": [],
   "source": [
    "// throw std::runtime_error(\"Unknown exception\");"
   ]
  },
  {
   "cell_type": "markdown",
   "metadata": {},
   "source": [
    "Omitting the `;` in the last statement of a cell results in an output being printed"
   ]
  },
  {
   "cell_type": "code",
   "execution_count": 51,
   "metadata": {
    "vscode": {
     "languageId": "c++"
    }
   },
   "outputs": [],
   "source": [
    "int j = 5;"
   ]
  },
  {
   "cell_type": "code",
   "execution_count": 52,
   "metadata": {
    "vscode": {
     "languageId": "c++"
    }
   },
   "outputs": [
    {
     "data": {
      "text/plain": [
       "5"
      ]
     },
     "execution_count": 52,
     "metadata": {},
     "output_type": "execute_result"
    }
   ],
   "source": [
    "j"
   ]
  },
  {
   "cell_type": "markdown",
   "metadata": {},
   "source": [
    "# Interpreting the C++ programming language\n",
    "\n",
    "`cling` has a broad support of the features of C++. You can define functions, classes, templates, etc ..."
   ]
  },
  {
   "cell_type": "markdown",
   "metadata": {},
   "source": [
    "## Functions"
   ]
  },
  {
   "cell_type": "code",
   "execution_count": 53,
   "metadata": {
    "vscode": {
     "languageId": "c++"
    }
   },
   "outputs": [],
   "source": [
    "double sqr(double a)\n",
    "{\n",
    "    return a * a;\n",
    "}"
   ]
  },
  {
   "cell_type": "code",
   "execution_count": 54,
   "metadata": {
    "vscode": {
     "languageId": "c++"
    }
   },
   "outputs": [
    {
     "data": {
      "text/plain": [
       "6.2500000"
      ]
     },
     "execution_count": 54,
     "metadata": {},
     "output_type": "execute_result"
    }
   ],
   "source": [
    "double a = 2.5;\n",
    "double asqr = sqr(a);\n",
    "asqr"
   ]
  },
  {
   "cell_type": "markdown",
   "metadata": {},
   "source": [
    "## Classes"
   ]
  },
  {
   "cell_type": "code",
   "execution_count": 6,
   "metadata": {
    "vscode": {
     "languageId": "c++"
    }
   },
   "outputs": [],
   "source": [
    "class Foo\n",
    "{\n",
    "public:\n",
    "\n",
    "    virtual ~Foo() {}\n",
    "    \n",
    "    virtual void print(double value) const\n",
    "    {\n",
    "        std::cout << \"Foo value = \" << value << std::endl;\n",
    "    }\n",
    "};"
   ]
  },
  {
   "cell_type": "code",
   "execution_count": 7,
   "metadata": {
    "vscode": {
     "languageId": "c++"
    }
   },
   "outputs": [
    {
     "name": "stdout",
     "output_type": "stream",
     "text": [
      "Foo value = 1.2\n"
     ]
    }
   ],
   "source": [
    "Foo bar;\n",
    "bar.print(1.2);"
   ]
  },
  {
   "cell_type": "markdown",
   "metadata": {},
   "source": [
    "## Polymorphism"
   ]
  },
  {
   "cell_type": "code",
   "execution_count": 8,
   "metadata": {
    "vscode": {
     "languageId": "c++"
    }
   },
   "outputs": [],
   "source": [
    "class Bar : public Foo\n",
    "{\n",
    "public:\n",
    "\n",
    "    virtual ~Bar() {}\n",
    "    \n",
    "    virtual void print(double value) const\n",
    "    {\n",
    "        std::cout << \"Bar value = \" << 2 * value << std::endl;\n",
    "    }\n",
    "};"
   ]
  },
  {
   "cell_type": "code",
   "execution_count": 9,
   "metadata": {
    "vscode": {
     "languageId": "c++"
    }
   },
   "outputs": [
    {
     "name": "stdout",
     "output_type": "stream",
     "text": [
      "Bar value = 2.4\n"
     ]
    }
   ],
   "source": [
    "Foo* bar2 = new Bar;\n",
    "bar2->print(1.2);\n",
    "delete bar2;"
   ]
  },
  {
   "cell_type": "markdown",
   "metadata": {},
   "source": [
    "## Templates"
   ]
  },
  {
   "cell_type": "code",
   "execution_count": 60,
   "metadata": {
    "vscode": {
     "languageId": "c++"
    }
   },
   "outputs": [],
   "source": [
    "#include <typeinfo>\n",
    "\n",
    "template <class T>\n",
    "class FooT\n",
    "{\n",
    "public:\n",
    "    \n",
    "    explicit FooT(const T& t) : m_t(t) {}\n",
    "    \n",
    "    void print() const\n",
    "    {\n",
    "        std::cout << typeid(T).name() << \" m_t = \" << m_t << std::endl;\n",
    "    }\n",
    "    \n",
    "private:\n",
    "    \n",
    "    T m_t;\n",
    "};"
   ]
  },
  {
   "cell_type": "code",
   "execution_count": 61,
   "metadata": {
    "vscode": {
     "languageId": "c++"
    }
   },
   "outputs": [
    {
     "name": "stderr",
     "output_type": "stream",
     "text": [
      "input_line_83:10:52: error: use of overloaded operator '<<' is ambiguous (with operand types 'basic_ostream<char, std::char_traits<char> >' and 'const double')\n",
      "        std::cout << typeid(T).name() << \" m_t = \" << m_t << std::endl;\n",
      "        ~~~~~~~~~~~~~~~~~~~~~~~~~~~~~~~~~~~~~~~~~~ ^  ~~~\n",
      "input_line_84:3:6: note: in instantiation of member function '__cling_N567::FooT<double>::print' requested here\n",
      "foot.print();\n",
      "     ^\n",
      "/home/dubi/anaconda3/bin/../lib/gcc/../../x86_64-conda-linux-gnu/include/c++/9.4.0/ostream:166:7: note: candidate function\n",
      "      operator<<(long __n)\n",
      "      ^\n",
      "/home/dubi/anaconda3/bin/../lib/gcc/../../x86_64-conda-linux-gnu/include/c++/9.4.0/ostream:170:7: note: candidate function\n",
      "      operator<<(unsigned long __n)\n",
      "      ^\n",
      "/home/dubi/anaconda3/bin/../lib/gcc/../../x86_64-conda-linux-gnu/include/c++/9.4.0/ostream:178:7: note: candidate function\n",
      "      operator<<(short __n);\n",
      "      ^\n",
      "/home/dubi/anaconda3/bin/../lib/gcc/../../x86_64-conda-linux-gnu/include/c++/9.4.0/ostream:181:7: note: candidate function\n",
      "      operator<<(unsigned short __n)\n",
      "      ^\n",
      "/home/dubi/anaconda3/bin/../lib/gcc/../../x86_64-conda-linux-gnu/include/c++/9.4.0/ostream:189:7: note: candidate function\n",
      "      operator<<(int __n);\n",
      "      ^\n",
      "/home/dubi/anaconda3/bin/../lib/gcc/../../x86_64-conda-linux-gnu/include/c++/9.4.0/ostream:192:7: note: candidate function\n",
      "      operator<<(unsigned int __n)\n",
      "      ^\n",
      "/home/dubi/anaconda3/bin/../lib/gcc/../../x86_64-conda-linux-gnu/include/c++/9.4.0/ostream:201:7: note: candidate function\n",
      "      operator<<(long long __n)\n",
      "      ^\n",
      "/home/dubi/anaconda3/bin/../lib/gcc/../../x86_64-conda-linux-gnu/include/c++/9.4.0/ostream:205:7: note: candidate function\n",
      "      operator<<(unsigned long long __n)\n",
      "      ^\n",
      "/home/dubi/anaconda3/bin/../lib/gcc/../../x86_64-conda-linux-gnu/include/c++/9.4.0/ostream:224:7: note: candidate function\n",
      "      operator<<(float __f)\n",
      "      ^\n",
      "/home/dubi/anaconda3/bin/../lib/gcc/../../x86_64-conda-linux-gnu/include/c++/9.4.0/ostream:232:7: note: candidate function\n",
      "      operator<<(long double __f)\n",
      "      ^\n",
      "/home/dubi/anaconda3/bin/../lib/gcc/../../x86_64-conda-linux-gnu/include/c++/9.4.0/ostream:517:5: note: candidate function [with _Traits = std::char_traits<char>]\n",
      "    operator<<(basic_ostream<char, _Traits>& __out, char __c)\n",
      "    ^\n",
      "/home/dubi/anaconda3/bin/../lib/gcc/../../x86_64-conda-linux-gnu/include/c++/9.4.0/ostream:511:5: note: candidate function [with _CharT = char, _Traits = std::char_traits<char>]\n",
      "    operator<<(basic_ostream<_CharT, _Traits>& __out, char __c)\n",
      "    ^\n",
      "/home/dubi/anaconda3/bin/../lib/gcc/../../x86_64-conda-linux-gnu/include/c++/9.4.0/ostream:523:5: note: candidate function [with _Traits = std::char_traits<char>]\n",
      "    operator<<(basic_ostream<char, _Traits>& __out, signed char __c)\n",
      "    ^\n",
      "/home/dubi/anaconda3/bin/../lib/gcc/../../x86_64-conda-linux-gnu/include/c++/9.4.0/ostream:528:5: note: candidate function [with _Traits = std::char_traits<char>]\n",
      "    operator<<(basic_ostream<char, _Traits>& __out, unsigned char __c)\n",
      "    ^\n"
     ]
    },
    {
     "ename": "Interpreter Error",
     "evalue": "",
     "output_type": "error",
     "traceback": [
      "Interpreter Error: "
     ]
    }
   ],
   "source": [
    "FooT<double> foot(1.2);\n",
    "foot.print();"
   ]
  },
  {
   "cell_type": "markdown",
   "metadata": {},
   "source": [
    "## C++11 / C++14 / C++17 support"
   ]
  },
  {
   "cell_type": "code",
   "execution_count": 62,
   "metadata": {
    "vscode": {
     "languageId": "c++"
    }
   },
   "outputs": [],
   "source": [
    "class Foo11\n",
    "{\n",
    "public:\n",
    "    \n",
    "    Foo11() { std::cout << \"Foo11 default constructor\" << std::endl; }\n",
    "    Foo11(const Foo11&) { std::cout << \"Foo11 copy constructor\" << std::endl; }\n",
    "    Foo11(Foo11&&) { std::cout << \"Foo11 move constructor\" << std::endl; }\n",
    "};"
   ]
  },
  {
   "cell_type": "code",
   "execution_count": 63,
   "metadata": {
    "vscode": {
     "languageId": "c++"
    }
   },
   "outputs": [
    {
     "name": "stdout",
     "output_type": "stream",
     "text": [
      "Foo11 default constructor\n",
      "Foo11 copy constructor\n",
      "Foo11 move constructor\n"
     ]
    }
   ],
   "source": [
    "Foo11 f1;\n",
    "Foo11 f2(f1);\n",
    "Foo11 f3(std::move(f1));"
   ]
  },
  {
   "cell_type": "code",
   "execution_count": 64,
   "metadata": {
    "vscode": {
     "languageId": "c++"
    }
   },
   "outputs": [
    {
     "data": {
      "text/plain": [
       "{ 1, 2, 3 }"
      ]
     },
     "execution_count": 64,
     "metadata": {},
     "output_type": "execute_result"
    }
   ],
   "source": [
    "#include <vector>\n",
    "\n",
    "std::vector<int> v = { 1, 2, 3};\n",
    "auto iter = ++v.begin();\n",
    "v"
   ]
  },
  {
   "cell_type": "code",
   "execution_count": 65,
   "metadata": {
    "vscode": {
     "languageId": "c++"
    }
   },
   "outputs": [
    {
     "data": {
      "text/plain": [
       "2"
      ]
     },
     "execution_count": 65,
     "metadata": {},
     "output_type": "execute_result"
    }
   ],
   "source": [
    "*iter"
   ]
  },
  {
   "cell_type": "markdown",
   "metadata": {},
   "source": [
    "... and also lambda, universal references, `decltype`, etc ..."
   ]
  },
  {
   "cell_type": "markdown",
   "metadata": {},
   "source": [
    "## Documentation and completion\n",
    "\n",
    " - Documentation for types of the standard library is retrieved on cppreference.com.\n",
    " - The quick-help feature can also be enabled for user-defined types and third-party libraries. More documentation on this feature is available at https://xeus-cling.readthedocs.io/en/latest/inline_help.html.\n"
   ]
  },
  {
   "cell_type": "code",
   "execution_count": 66,
   "metadata": {
    "vscode": {
     "languageId": "c++"
    }
   },
   "outputs": [
    {
     "name": "stdout",
     "output_type": "stream",
     "text": [
      "https://en.cppreference.com/w/cpp/container/vector"
     ]
    }
   ],
   "source": [
    "?std::vector"
   ]
  },
  {
   "cell_type": "code",
   "execution_count": 67,
   "metadata": {
    "vscode": {
     "languageId": "c++"
    }
   },
   "outputs": [
    {
     "name": "stdout",
     "output_type": "stream",
     "text": [
      "https://xtensor.readthedocs.io/en/latest/api/xtensor.html#_CPPv2N2xt7xtensorE"
     ]
    }
   ],
   "source": [
    "?xt::xtensor"
   ]
  },
  {
   "cell_type": "markdown",
   "metadata": {},
   "source": [
    "## Using the `display_data` mechanism"
   ]
  },
  {
   "cell_type": "markdown",
   "metadata": {},
   "source": [
    "For a user-defined type `T`, the rich rendering in the notebook and JupyterLab can be enabled by by implementing the function `nl::json mime_bundle_repr(const T& im)`, which returns the JSON mime bundle for that type.\n",
    "\n",
    "More documentation on the rich display system of Jupyter and Xeus-cling is available at https://xeus-cling.readthedocs.io/en/latest/rich_display.html"
   ]
  },
  {
   "cell_type": "markdown",
   "metadata": {},
   "source": [
    "### Image example"
   ]
  },
  {
   "cell_type": "code",
   "execution_count": 68,
   "metadata": {
    "vscode": {
     "languageId": "c++"
    }
   },
   "outputs": [],
   "source": [
    "#include <string>\n",
    "#include <fstream>\n",
    "\n",
    "#include \"nlohmann/json.hpp\"\n",
    "\n",
    "#include \"xtl/xbase64.hpp\"\n",
    "\n",
    "namespace nl = nlohmann;\n",
    "\n",
    "namespace im\n",
    "{\n",
    "    struct image\n",
    "    {   \n",
    "        inline image(const std::string& filename)\n",
    "        {\n",
    "            std::ifstream fin(filename, std::ios::binary);   \n",
    "            m_buffer << fin.rdbuf();\n",
    "        }\n",
    "        \n",
    "        std::stringstream m_buffer;\n",
    "    };\n",
    "    \n",
    "    nl::json mime_bundle_repr(const image& i)\n",
    "    {\n",
    "        auto bundle = nl::json::object();\n",
    "        bundle[\"image/png\"] = xtl::base64encode(i.m_buffer.str());\n",
    "        return bundle;\n",
    "    }\n",
    "}"
   ]
  },
  {
   "cell_type": "code",
   "execution_count": 69,
   "metadata": {
    "vscode": {
     "languageId": "c++"
    }
   },
   "outputs": [
    {
     "data": {
      "image/png": ""
     },
     "execution_count": 69,
     "metadata": {},
     "output_type": "execute_result"
    }
   ],
   "source": [
    "im::image marie(\"images/marie.png\");\n",
    "marie"
   ]
  },
  {
   "cell_type": "markdown",
   "metadata": {},
   "source": [
    "### Audio example"
   ]
  },
  {
   "cell_type": "code",
   "execution_count": 70,
   "metadata": {
    "vscode": {
     "languageId": "c++"
    }
   },
   "outputs": [],
   "source": [
    "#include <string>\n",
    "#include <fstream>\n",
    "\n",
    "#include \"nlohmann/json.hpp\"\n",
    "\n",
    "#include \"xtl/xbase64.hpp\"\n",
    "\n",
    "namespace nl = nlohmann;\n",
    "\n",
    "namespace au\n",
    "{\n",
    "    struct audio\n",
    "    {   \n",
    "        inline audio(const std::string& filename)\n",
    "        {\n",
    "            std::ifstream fin(filename, std::ios::binary);   \n",
    "            m_buffer << fin.rdbuf();\n",
    "        }\n",
    "        \n",
    "        std::stringstream m_buffer;\n",
    "    };\n",
    "    \n",
    "    nl::json mime_bundle_repr(const audio& a)\n",
    "    {\n",
    "        auto bundle = nl::json::object();\n",
    "        bundle[\"text/html\"] =\n",
    "           std::string(\"<audio controls=\\\"controls\\\"><source src=\\\"data:audio/wav;base64,\")\n",
    "           + xtl::base64encode(a.m_buffer.str()) +\n",
    "            \"\\\" type=\\\"audio/wav\\\" /></audio>\";\n",
    "        return bundle;\n",
    "    }\n",
    "}"
   ]
  },
  {
   "cell_type": "code",
   "execution_count": 71,
   "metadata": {
    "vscode": {
     "languageId": "c++"
    }
   },
   "outputs": [
    {
     "data": {
      "text/html": [
       "<audio controls=\"controls\"><source src=\"data:audio/wav;base64,\" type=\"audio/wav\" /></audio>"
      ]
     },
     "execution_count": 71,
     "metadata": {},
     "output_type": "execute_result"
    }
   ],
   "source": [
    "au::audio drums(\"audio/audio.wav\");\n",
    "drums"
   ]
  },
  {
   "cell_type": "markdown",
   "metadata": {},
   "source": [
    "### Display"
   ]
  },
  {
   "cell_type": "code",
   "execution_count": 72,
   "metadata": {
    "vscode": {
     "languageId": "c++"
    }
   },
   "outputs": [],
   "source": [
    "#include \"xcpp/xdisplay.hpp\""
   ]
  },
  {
   "cell_type": "code",
   "execution_count": 73,
   "metadata": {
    "vscode": {
     "languageId": "c++"
    }
   },
   "outputs": [
    {
     "data": {
      "text/html": [
       "<audio controls=\"controls\"><source src=\"data:audio/wav;base64,\" type=\"audio/wav\" /></audio>"
      ]
     },
     "metadata": {},
     "output_type": "display_data"
    }
   ],
   "source": [
    "xcpp::display(drums);"
   ]
  },
  {
   "cell_type": "markdown",
   "metadata": {},
   "source": [
    "### Update-display"
   ]
  },
  {
   "cell_type": "code",
   "execution_count": 74,
   "metadata": {
    "vscode": {
     "languageId": "c++"
    }
   },
   "outputs": [],
   "source": [
    "#include <string>\n",
    "#include \"xcpp/xdisplay.hpp\"\n",
    "\n",
    "#include \"nlohmann/json.hpp\"\n",
    "\n",
    "namespace nl = nlohmann;\n",
    "\n",
    "namespace ht\n",
    "{\n",
    "    struct html\n",
    "    {   \n",
    "        inline html(const std::string& content)\n",
    "        {\n",
    "            m_content = content;\n",
    "        }\n",
    "        std::string m_content;\n",
    "    };\n",
    "\n",
    "    nl::json mime_bundle_repr(const html& a)\n",
    "    {\n",
    "        auto bundle = nl::json::object();\n",
    "        bundle[\"text/html\"] = a.m_content;\n",
    "        return bundle;\n",
    "    }\n",
    "}\n",
    "\n",
    "// A blue rectangle\n",
    "ht::html rect(R\"(\n",
    "<div style='\n",
    "    width: 90px;\n",
    "    height: 50px;\n",
    "    line-height: 50px;\n",
    "    background-color: blue;\n",
    "    color: white;\n",
    "    text-align: center;'>\n",
    "Original\n",
    "</div>)\");"
   ]
  },
  {
   "cell_type": "code",
   "execution_count": 75,
   "metadata": {
    "vscode": {
     "languageId": "c++"
    }
   },
   "outputs": [
    {
     "data": {
      "text/html": [
       "\n",
       "<div style='\n",
       "    width: 90px;\n",
       "    height: 50px;\n",
       "    line-height: 50px;\n",
       "    background-color: red;\n",
       "    color: white;\n",
       "    text-align: center;'>\n",
       "Updated\n",
       "</div>"
      ]
     },
     "metadata": {},
     "output_type": "display_data"
    }
   ],
   "source": [
    "xcpp::display(rect, \"some_display_id\");"
   ]
  },
  {
   "cell_type": "code",
   "execution_count": 76,
   "metadata": {
    "vscode": {
     "languageId": "c++"
    }
   },
   "outputs": [],
   "source": [
    "// Update the rectangle to be red\n",
    "rect.m_content = R\"(\n",
    "<div style='\n",
    "    width: 90px;\n",
    "    height: 50px;\n",
    "    line-height: 50px;\n",
    "    background-color: red;\n",
    "    color: white;\n",
    "    text-align: center;'>\n",
    "Updated\n",
    "</div>)\";\n",
    "\n",
    "xcpp::display(rect, \"some_display_id\", true);"
   ]
  },
  {
   "cell_type": "markdown",
   "metadata": {},
   "source": [
    "### Clear output"
   ]
  },
  {
   "cell_type": "code",
   "execution_count": 77,
   "metadata": {
    "vscode": {
     "languageId": "c++"
    }
   },
   "outputs": [],
   "source": [
    "#include <chrono>\n",
    "#include <iostream>\n",
    "#include <thread>\n",
    "\n",
    "#include \"xcpp/xdisplay.hpp\""
   ]
  },
  {
   "cell_type": "code",
   "execution_count": 78,
   "metadata": {
    "vscode": {
     "languageId": "c++"
    }
   },
   "outputs": [
    {
     "name": "stdout",
     "output_type": "stream",
     "text": [
      "goodbye\n"
     ]
    }
   ],
   "source": [
    "std::cout << \"hello\" << std::endl;\n",
    "std::this_thread::sleep_for(std::chrono::seconds(1));\n",
    "xcpp::clear_output();  // will flicker when replacing \"hello\" with \"goodbye\"\n",
    "std::this_thread::sleep_for(std::chrono::seconds(1));\n",
    "std::cout << \"goodbye\" << std::endl;"
   ]
  },
  {
   "cell_type": "code",
   "execution_count": 79,
   "metadata": {
    "vscode": {
     "languageId": "c++"
    }
   },
   "outputs": [
    {
     "name": "stdout",
     "output_type": "stream",
     "text": [
      "goodbye\n"
     ]
    }
   ],
   "source": [
    "std::cout << \"hello\" << std::endl;\n",
    "std::this_thread::sleep_for(std::chrono::seconds(1));\n",
    "xcpp::clear_output(true);  // prevents flickering\n",
    "std::this_thread::sleep_for(std::chrono::seconds(1));\n",
    "std::cout << \"goodbye\" << std::endl;"
   ]
  },
  {
   "cell_type": "markdown",
   "metadata": {},
   "source": [
    "## Magics\n",
    "\n",
    "Magics are special commands for the kernel that are not part of the C++ language.\n",
    "\n",
    "They are defined with the symbol `%` for a line magic and `%%` for a cell magic.\n",
    "\n",
    "More documentation for magics is available at https://xeus-cling.readthedocs.io/en/latest/magics.html."
   ]
  },
  {
   "cell_type": "code",
   "execution_count": 80,
   "metadata": {
    "vscode": {
     "languageId": "c++"
    }
   },
   "outputs": [],
   "source": [
    "#include <algorithm>\n",
    "#include <vector>"
   ]
  },
  {
   "cell_type": "code",
   "execution_count": 81,
   "metadata": {
    "vscode": {
     "languageId": "c++"
    }
   },
   "outputs": [],
   "source": [
    "std::vector<double> to_shuffle = {1, 2, 3, 4};"
   ]
  },
  {
   "cell_type": "code",
   "execution_count": 82,
   "metadata": {
    "vscode": {
     "languageId": "c++"
    }
   },
   "outputs": [
    {
     "name": "stdout",
     "output_type": "stream",
     "text": [
      "157 ns +- 2.46 ns per loop (mean +- std. dev. of 7 runs 10000000 loops each)\n"
     ]
    }
   ],
   "source": [
    "%timeit std::random_shuffle(to_shuffle.begin(), to_shuffle.end());"
   ]
  },
  {
   "cell_type": "markdown",
   "metadata": {},
   "source": [
    "[![xtensor](images/xtensor.png)](https://github.com/xtensor-stack/xtensor/)\n",
    "\n",
    "- GitHub repository: https://github.com/xtensor-stack/xtensor/\n",
    "- Online documentation: https://xtensor.readthedocs.io/\n",
    "- NumPy to xtensor cheat sheet: http://xtensor.readthedocs.io/en/latest/numpy.html\n",
    "\n",
    "`xtensor` is a C++ library for manipulating N-D arrays with an API very similar to that of numpy."
   ]
  },
  {
   "cell_type": "code",
   "execution_count": 84,
   "metadata": {
    "vscode": {
     "languageId": "c++"
    }
   },
   "outputs": [
    {
     "name": "stderr",
     "output_type": "stream",
     "text": [
      "input_line_127:2:10: fatal error: 'xtensor/xarray.hpp' file not found\n",
      "#include \"xtensor/xarray.hpp\"\n",
      "         ^~~~~~~~~~~~~~~~~~~~\n"
     ]
    },
    {
     "ename": "Interpreter Error",
     "evalue": "",
     "output_type": "error",
     "traceback": [
      "Interpreter Error: "
     ]
    }
   ],
   "source": [
    "#include <iostream>\n",
    "\n",
    "#include \"xtensor/xarray.hpp\"\n",
    "#include \"xtensor/xio.hpp\"\n",
    "#include \"xtensor/xview.hpp\"\n",
    "\n",
    "xt::xarray<double> arr1\n",
    "  {{1.0, 2.0, 3.0},\n",
    "   {2.0, 5.0, 7.0},\n",
    "   {2.0, 5.0, 7.0}};\n",
    "\n",
    "xt::xarray<double> arr2\n",
    "  {5.0, 6.0, 7.0};\n",
    "\n",
    "xt::view(arr1, 1) + arr2"
   ]
  },
  {
   "cell_type": "markdown",
   "metadata": {},
   "source": [
    "Together with the C++ Jupyter kernel, `xtensor` offers a similar experience as `NumPy` in the Python Jupyter kernel, including broadcasting and universal functions."
   ]
  },
  {
   "cell_type": "code",
   "execution_count": 85,
   "metadata": {
    "vscode": {
     "languageId": "c++"
    }
   },
   "outputs": [
    {
     "name": "stderr",
     "output_type": "stream",
     "text": [
      "input_line_128:2:10: fatal error: 'xtensor/xarray.hpp' file not found\n",
      "#include \"xtensor/xarray.hpp\"\n",
      "         ^~~~~~~~~~~~~~~~~~~~\n"
     ]
    },
    {
     "ename": "Interpreter Error",
     "evalue": "",
     "output_type": "error",
     "traceback": [
      "Interpreter Error: "
     ]
    }
   ],
   "source": [
    "#include <iostream>\n",
    "#include \"xtensor/xarray.hpp\"\n",
    "#include \"xtensor/xio.hpp\""
   ]
  },
  {
   "cell_type": "code",
   "execution_count": 86,
   "metadata": {
    "vscode": {
     "languageId": "c++"
    }
   },
   "outputs": [
    {
     "name": "stderr",
     "output_type": "stream",
     "text": [
      "input_line_129:2:2: error: use of undeclared identifier 'xt'\n",
      " xt::xarray<int> arr\n",
      " ^\n",
      "input_line_129:2:16: error: expected '(' for function-style cast or type construction\n",
      " xt::xarray<int> arr\n",
      "            ~~~^\n",
      "input_line_129:2:18: error: use of undeclared identifier 'arr'\n",
      " xt::xarray<int> arr\n",
      "                 ^\n",
      "input_line_129:4:1: error: use of undeclared identifier 'arr'\n",
      "arr.reshape({3, 3});\n",
      "^\n",
      "input_line_129:5:14: error: use of undeclared identifier 'arr'\n",
      "std::cout << arr;\n",
      "             ^\n"
     ]
    },
    {
     "ename": "Interpreter Error",
     "evalue": "",
     "output_type": "error",
     "traceback": [
      "Interpreter Error: "
     ]
    }
   ],
   "source": [
    "xt::xarray<int> arr\n",
    "  {1, 2, 3, 4, 5, 6, 7, 8, 9};\n",
    "\n",
    "arr.reshape({3, 3});\n",
    "\n",
    "std::cout << arr;"
   ]
  },
  {
   "cell_type": "code",
   "execution_count": null,
   "metadata": {
    "vscode": {
     "languageId": "c++"
    }
   },
   "outputs": [],
   "source": [
    "#include \"xtensor-blas/xlinalg.hpp\""
   ]
  },
  {
   "cell_type": "code",
   "execution_count": null,
   "metadata": {
    "vscode": {
     "languageId": "c++"
    }
   },
   "outputs": [],
   "source": [
    "xt::xtensor<double, 2> m = {{1.5, 0.5}, {0.7, 1.0}};\n",
    "std::cout << \"Matrix rank: \" << std::endl << xt::linalg::matrix_rank(m) << std::endl;\n",
    "std::cout << \"Matrix inverse: \" << std::endl << xt::linalg::inv(m) << std::endl;\n",
    "std::cout << \"Eigen values: \" << std::endl << xt::linalg::eigvals(m) << std::endl;"
   ]
  },
  {
   "cell_type": "code",
   "execution_count": null,
   "metadata": {
    "vscode": {
     "languageId": "c++"
    }
   },
   "outputs": [],
   "source": [
    "xt::xarray<double> arg1 = xt::arange<double>(9);\n",
    "xt::xarray<double> arg2 = xt::arange<double>(18);\n",
    "\n",
    "arg1.reshape({3, 3});\n",
    "arg2.reshape({2, 3, 3});\n",
    "\n",
    "std::cout << xt::linalg::dot(arg1, arg2) << std::endl;"
   ]
  },
  {
   "cell_type": "markdown",
   "metadata": {},
   "source": [
    "# CPP Object Oriented\n",
    "\n",
    "In a **preprocessor** directives which are commands beginning with `#` are processed *before* the program is compiled \n",
    "\n",
    "`<<` this is known as a **stream insertion operator**\n",
    "  - this points to where the data goes\n",
    "  - the right to this operator is known as a **operand**\n",
    "\n",
    "`\\r` -  Carriage return. Position the screen cursor to the beginning of the current\n",
    "line; do not advance to the next line"
   ]
  },
  {
   "cell_type": "code",
   "execution_count": 1,
   "metadata": {
    "vscode": {
     "languageId": "c++"
    }
   },
   "outputs": [
    {
     "name": "stdout",
     "output_type": "stream",
     "text": [
      "- Welcome to C++!\n"
     ]
    },
    {
     "data": {
      "text/plain": [
       "0"
      ]
     },
     "execution_count": 1,
     "metadata": {},
     "output_type": "execute_result"
    }
   ],
   "source": [
    "/* Text-printing program\n",
    "      - muli line comment */\n",
    "\n",
    "#include <iostream> // enables program to output data to the screen\n",
    "\n",
    "//function main begins program execution\n",
    "int main() {\n",
    "  std::cout << \"\\t Welcome to C++!\\r-\\n\"; //display message\n",
    "\n",
    "  return 0; // incdicate that the program ended successfully \n",
    "} // end function main\n",
    "\n",
    "main()"
   ]
  },
  {
   "cell_type": "code",
   "execution_count": 2,
   "metadata": {
    "vscode": {
     "languageId": "c++"
    }
   },
   "outputs": [],
   "source": [
    "/* Get user input\n",
    "   and add two integers */\n",
    "\n",
    "// Commented out so I can run entire notebook\n",
    "\n",
    "/* #include <iostream> // enables program to output data to the screen\n",
    "\n",
    "//function main begins program execution\n",
    "int main() {\n",
    "  // DECLARING AND INITIALIZING VARIABLES\n",
    "  int number1{0}; // first  integer to add      (initilized to 0)\n",
    "  int number2{0}; // second integer to add      (initilized to 0)\n",
    "  int sum{0};     // sum of number1 and number2 (initilized to 0)\n",
    "\n",
    "  std::cout << \"Enter first integer: \"; // prompt user for data\n",
    "  std::cin >> number1; // read first integer from user into number1\n",
    "  std::cout << number1 << std::endl;\n",
    "\n",
    "  std::cout << \"Enter second integer: \"; // prompt user for data\n",
    "  std::cin >> number2; // read second integer from user into number2\n",
    "  std::cout << number2 << std::endl;\n",
    "\n",
    "  sum = number1 + number2; // add the numbers; store the result in sum\n",
    "\n",
    "  std::cout << \"Sum is \" << sum << std::endl; // display sum; end line\n",
    "  std::cout << \"Sum is \" << number1 + number2 << std::endl; //alternative\n",
    "\n",
    "} // end function main\n",
    "\n",
    "main() */"
   ]
  },
  {
   "cell_type": "code",
   "execution_count": 3,
   "metadata": {
    "vscode": {
     "languageId": "c++"
    }
   },
   "outputs": [],
   "source": [
    "// Commented out so I don't have to worry about running entire notebook\n",
    "\n",
    "/* Comparing integers using if statements\n",
    "   and relational/equality operators */\n",
    "// using std::cin;  // program uses cin\n",
    "// using std::cout; // program uses cout\n",
    "// using std::endl; // program uses endl\n",
    "\n",
    "/*\n",
    "using namespace std; // alternative to above\n",
    "\n",
    "int number1{0}; // first  integer to compare  (initalized to 0)\n",
    "int number2{0}; // second integer to compare  (initalized to 0)\n",
    "\n",
    "cout << \"Enter two integers to compare:\\t\" << endl;\n",
    "cin >> number1 >> number2; // read two integers from user\n",
    "\n",
    "if (number1 != number2)\n",
    "  cout << number1 << \" != \" << number2 << endl;\n",
    "\n",
    "if (number1 < number2)\n",
    "  cout << number1 << \" < \" << number2 << endl;\n",
    "\n",
    "if (number1 > number2)\n",
    "{\n",
    "  cout << number1 << \" > \" << number2 << endl;\n",
    "}\n",
    "\n",
    "if (number1 <= number2)\n",
    "{\n",
    "  cout << number1 << \" <= \" << number2 << endl;\n",
    "}\n",
    "\n",
    "if (number1 >= number2)\n",
    "{\n",
    "  cout << number1 << \" >= \" << number2 << endl;\n",
    "}\n",
    "*/"
   ]
  },
  {
   "cell_type": "markdown",
   "metadata": {},
   "source": [
    "```cpp\n",
    "cin >> number1 >> number2; // read two integers from user\n",
    "```\n",
    "Above is called **cascaded stream**"
   ]
  },
  {
   "cell_type": "code",
   "execution_count": 4,
   "metadata": {
    "vscode": {
     "languageId": "c++"
    }
   },
   "outputs": [
    {
     "name": "stdout",
     "output_type": "stream",
     "text": [
      "Hello World!\n"
     ]
    },
    {
     "data": {
      "text/plain": [
       "0"
      ]
     },
     "execution_count": 4,
     "metadata": {},
     "output_type": "execute_result"
    }
   ],
   "source": [
    "int main() {\n",
    "    using std::cout;\n",
    "    cout << \"Hello World!\\n\";\n",
    "    return 0;\n",
    "}\n",
    "\n",
    "main()"
   ]
  },
  {
   "cell_type": "markdown",
   "metadata": {},
   "source": [
    "## Variable Declaration\n",
    "### Compound declarations\n",
    "\n",
    "```cpp\n",
    "int x = 4;\n",
    "int x {4}; //preferred\n",
    "```\n",
    "\n",
    "Its preferred because is allows narrowing conversion\n",
    "\n",
    "```cpp\n",
    "int x = 4.99; // same as int x = 4\n",
    "int x {4.99}; // => error\n",
    "```\n",
    "\n",
    "### Auto Types\n",
    "\n",
    "Types in C++ can be automatically deduced with the `auto` keyword"
   ]
  },
  {
   "cell_type": "code",
   "execution_count": 5,
   "metadata": {
    "vscode": {
     "languageId": "c++"
    }
   },
   "outputs": [
    {
     "data": {
      "text/plain": [
       "4.9900000"
      ]
     },
     "execution_count": 5,
     "metadata": {},
     "output_type": "execute_result"
    }
   ],
   "source": [
    "const auto x{4.99}; x"
   ]
  },
  {
   "cell_type": "markdown",
   "metadata": {},
   "source": [
    "### Constants\n",
    "\n",
    "**Constants data objects whose vales remain fixed during execution**\n",
    "\n",
    "With `const` keyword variables can not be reassigned a value\n",
    "\n",
    "```cpp\n",
    "const double PI {3.14};\n",
    "```\n",
    "\n",
    "### Mixed Type Expressions\n",
    "\n",
    "Expressions containing values of two or more data types are **allowed**\n",
    "\n",
    "> In a mixed-type expression\n",
    "> The type of each value is *promoted* to the **highest type**\n",
    ">> eg `int + double => double + double` \n",
    "\n",
    "The data types in order from *highest to lowest* are:\n",
    "\n",
    "`long double` | `double` | `float` |` unsigned long long int`     | `long` |\n",
    " \n",
    "`long int`   | `unsigned long int` | `long int` | `unsigned int`  | `int`  |\n",
    " \n",
    "`unsigned short int` | `short int` | `char` | `bool`\n",
    "\n",
    "## Control Statements\n",
    "Normally programs are executed one after the other **sequential execution**\n",
    "\n",
    "However we can skip statements with a **transfer of control**\n",
    "\n",
    "### Sentinel-Controlled Iteration\n",
    "\n",
    "A **sentinel value** also called a **signal value** a **dummy value** or **flag value** \n",
    "Is used to indicate a *end of data entry*\n",
    "\n",
    "this type of iteration can also be called a **indefinite iteration** because the number of iterations is not known before execution\n",
    "\n",
    "### Conditional Operator\n",
    "\n",
    "The **conditional operator** is C++'s only **ternary operator** *the operator takes three operands*\n",
    "\n",
    "```cpp\n",
    "cout << (studentGrade >= 60 ? \"Passed\" : \"Failed\");\n",
    "```\n",
    "\n",
    "### Self Explanatory \n",
    "#### Nesting Conditional Statements\n",
    "#### While Loops\n",
    "\n",
    "#### Explicit and Implicit casting\n",
    "\n",
    "##### Explicit Casting\n",
    "```cpp\n",
    "double average{static_cast<double>(total) / gradeCounter};\n",
    "```\n",
    "If we didn't cast we could loose information from int to float conversions\n",
    "\n",
    "> Using a cast operator in this manner is called **explicit conversion**\n",
    "\n",
    "##### Implicit Casting\n",
    "\n",
    "###### Promotions\n",
    "\n",
    "**Promotions** are also known as **implicit conversion** \n",
    "\n",
    "#### Formatting Floating-Point Numbers\n",
    "```cpp\n",
    "cout << setprecision(2) << fixed; // eg 92.37\n",
    "```\n",
    "\n",
    "`setprecision` is a **parameterized stream manipulator** because it requires a argument to perform a task\n",
    "\n",
    "to use fixed formatting instead of scientific notation use the `fixed` keyword from `<iostream>`\n",
    "\n",
    "To use this include the header `<iomanip>` \n",
    "\n",
    "In contract the manipulator `endl` is known as a **non-parameterized stream manipulator**\n"
   ]
  },
  {
   "cell_type": "code",
   "execution_count": 6,
   "metadata": {
    "vscode": {
     "languageId": "c++"
    }
   },
   "outputs": [
    {
     "name": "stdout",
     "output_type": "stream",
     "text": [
      "4.332\n"
     ]
    }
   ],
   "source": [
    "#include <iostream> \n",
    "#include <iomanip> \n",
    "using namespace std;\n",
    "\n",
    "cout << setprecision(3) << fixed << 4.332 << endl;\n"
   ]
  },
  {
   "cell_type": "code",
   "execution_count": 7,
   "metadata": {
    "vscode": {
     "languageId": "c++"
    }
   },
   "outputs": [],
   "source": [
    "// #include <iostream>\n",
    "\n",
    "// void ternaryOperator() {\n",
    "//   using namespace std;\n",
    "\n",
    "//   const int ROWS{10};\n",
    "//   const int WIDTH{10};\n",
    "\n",
    "//   for (int i = 1; i < ROWS; i++)\n",
    "//   {\n",
    "//     for (int j = 1; i < WIDTH; j++){\n",
    "//       cout << (j <= i ? '*' : ' ');\n",
    "//     }\n",
    "    \n",
    "//     cout << endl;\n",
    "//   }\n",
    "// }\n",
    "// ternaryOperator()"
   ]
  },
  {
   "cell_type": "code",
   "execution_count": 8,
   "metadata": {
    "vscode": {
     "languageId": "c++"
    }
   },
   "outputs": [
    {
     "name": "stdout",
     "output_type": "stream",
     "text": [
      "\u001b[32m(A)       \t\u001b[33m(B)       \t\u001b[34m(C)       \t\u001b[35m(D)       \t\n",
      "\n",
      "\u001b[32m*        \u001b[33m\t*********\u001b[34m\t*********\u001b[35m\t        *\u001b[36m\t\n",
      "\u001b[32m**       \u001b[33m\t******** \u001b[34m\t ********\u001b[35m\t       **\u001b[36m\t\n",
      "\u001b[32m***      \u001b[33m\t*******  \u001b[34m\t  *******\u001b[35m\t      ***\u001b[36m\t\n",
      "\u001b[32m****     \u001b[33m\t******   \u001b[34m\t   ******\u001b[35m\t     ****\u001b[36m\t\n",
      "\u001b[32m*****    \u001b[33m\t*****    \u001b[34m\t    *****\u001b[35m\t    *****\u001b[36m\t\n",
      "\u001b[32m******   \u001b[33m\t****     \u001b[34m\t     ****\u001b[35m\t   ******\u001b[36m\t\n",
      "\u001b[32m*******  \u001b[33m\t***      \u001b[34m\t      ***\u001b[35m\t  *******\u001b[36m\t\n",
      "\u001b[32m******** \u001b[33m\t**       \u001b[34m\t       **\u001b[35m\t ********\u001b[36m\t\n",
      "\u001b[32m*********\u001b[33m\t*        \u001b[34m\t        *\u001b[35m\t*********\u001b[36m\t\n",
      "\u001b[0m\n",
      "\n"
     ]
    }
   ],
   "source": [
    "// NESTED FOR LOOPS\n",
    "\n",
    "#include <iostream>\n",
    "#include <string>\n",
    "\n",
    "using namespace std;\n",
    "\n",
    "const int ROWS{10};\n",
    "const int WIDTH{10};\n",
    "char pattern{'A'};\n",
    "int color{2};\n",
    "\n",
    "for (int i = 0; i < 4; i++)\n",
    "{\n",
    "  cout << (\"\\x1b[3\" + to_string(color++) + \"m(\" + pattern++ + \")\");\n",
    "\n",
    "  for (int j = 3; j < WIDTH; j++)\n",
    "    cout << ' ';\n",
    "  \n",
    "  cout << \"\\t\";\n",
    "}\n",
    "cout << endl << endl;\n",
    "\n",
    "for (int i = 1; i < ROWS; i++)\n",
    "{\n",
    "  color = 2; // reset color\n",
    "\n",
    "  cout << \"\\x1b[3\" + to_string(color++) + \"m\";\n",
    "  for (int j = 1; j < WIDTH; j++) // A.\n",
    "    cout << (j <= i ? '*' : ' ');\n",
    "  cout << \"\\x1b[3\" + to_string(color++) + \"m\\t\";\n",
    "\n",
    "  for (int j = 1; j < WIDTH; j++) // B.\n",
    "    cout << (WIDTH - j >= i ? '*' : ' ');\n",
    "  cout << \"\\x1b[3\" + to_string(color++) + \"m\\t\";\n",
    "\n",
    "  for (int j = 1; j < WIDTH; j++) // C.\n",
    "    cout << (j >= i ? '*' : ' ');\n",
    "  cout << \"\\x1b[3\" + to_string(color++) + \"m\\t\";\n",
    "\n",
    "  for (int j = 1; j < WIDTH; j++) // D.\n",
    "    cout << (WIDTH - j <= i ? '*' : ' ');\n",
    "  cout << \"\\x1b[3\" + to_string(color++) + \"m\\t\" << endl;\n",
    "}\n",
    "cout << \"\\x1b[0m\\n\\n\";"
   ]
  },
  {
   "cell_type": "markdown",
   "metadata": {},
   "source": [
    "## Logical Operators\n",
    "\n",
    "<div class=\"alert alert-danger\">\n",
    "Watch out for operator precedence <br>\n",
    "Example <code>&&</code> takes precedence over <code>||</code>\n",
    "\n",
    "so <code>true || true && false</code> will actually evaluate to <code>true</code>\n",
    "</div>"
   ]
  },
  {
   "cell_type": "code",
   "execution_count": 9,
   "metadata": {
    "vscode": {
     "languageId": "c++"
    }
   },
   "outputs": [
    {
     "name": "stderr",
     "output_type": "stream",
     "text": [
      "input_line_25:2:24: warning: '&&' within '||' [-Wlogical-op-parentheses]\n",
      " bool x = true || true && false ? true : false; x // its cool that there is a warning to prevent this mistake\n",
      "               ~~ ~~~~~^~~~~~~~\n",
      "input_line_25:2:24: note: place parentheses around the '&&' expression to silence this warning\n",
      " bool x = true || true && false ? true : false; x // its cool that there is a warning to prevent this mistake\n",
      "                       ^\n",
      "                  (            )\n"
     ]
    },
    {
     "data": {
      "text/plain": [
       "true"
      ]
     },
     "execution_count": 9,
     "metadata": {},
     "output_type": "execute_result"
    }
   ],
   "source": [
    "bool x = true || true && false ? true : false; x // its cool that there is a warning to prevent this mistake"
   ]
  },
  {
   "cell_type": "markdown",
   "metadata": {},
   "source": [
    "## Strings\n",
    "\n",
    "You can represent strings with **char arrays** \n",
    "<u>or</u> we use **class string** with `#include<string>`"
   ]
  },
  {
   "cell_type": "code",
   "execution_count": 10,
   "metadata": {
    "vscode": {
     "languageId": "c++"
    }
   },
   "outputs": [
    {
     "name": "stdout",
     "output_type": "stream",
     "text": [
      "Hello world \t with string length: 5"
     ]
    }
   ],
   "source": [
    "string s1{\"Hi\"};\n",
    "string s2 = \"Hello\";\n",
    "\n",
    "s1 = s2; // assign the value of s2 to s1\n",
    "\n",
    "cout << s2 + \" world \\t with string length: \" << to_string(s1.length());"
   ]
  },
  {
   "cell_type": "code",
   "execution_count": 11,
   "metadata": {
    "vscode": {
     "languageId": "c++"
    }
   },
   "outputs": [],
   "source": [
    "// int day, month, year; // below is the input string to handle\n",
    "// // 23/10/2021   we need to ignore all the `/` chars\n",
    "// char c;\n",
    "\n",
    "// cin >> day >> c >> month >> c >> year;\n",
    "// cout << day << endl;\n",
    "// cout << month << endl;\n",
    "// cout << year << endl;"
   ]
  },
  {
   "cell_type": "code",
   "execution_count": 12,
   "metadata": {
    "vscode": {
     "languageId": "c++"
    }
   },
   "outputs": [],
   "source": [
    "// #include <iostream>\n",
    "// #include <iomanip>\n",
    "// #include <string>\n",
    "// using namespace std;\n",
    "\n",
    "// cout << \"Please enter your first and last name\" << endl;\n",
    "\n",
    "// string first, last;\n",
    "\n",
    "// cin >> first >> last; // notice how the space character splits the input\n",
    "// string name = first + \" \" + last;\n",
    "\n",
    "// cout << \"Hello, \" << setw(20) << right << name << endl;"
   ]
  },
  {
   "cell_type": "code",
   "execution_count": 13,
   "metadata": {
    "vscode": {
     "languageId": "c++"
    }
   },
   "outputs": [
    {
     "name": "stdout",
     "output_type": "stream",
     "text": [
      "   Hello,      World\n",
      "2.667\n",
      "3.000\n",
      "2.667\n",
      "3.000\n",
      "2.6667\n",
      "3.0000\n",
      "    2.6667\n",
      "3.0000\n"
     ]
    }
   ],
   "source": [
    "#include <iostream>\n",
    "#include <iomanip>\n",
    "#include <string>\n",
    "using namespace std;\n",
    "\n",
    "cout << setw(10) << right << \"Hello, \" << setw(10) << right << \"World\" << endl;\n",
    "\n",
    "// setw([field legth])\n",
    "// right or left kewords to align in field    right is default\n",
    "// actually set w workd only once ie all subsequent values\n",
    "\n",
    "double alpha {8.0/3.0};\n",
    "double beta {9.0/3.0};\n",
    "\n",
    "cout << alpha << endl << beta << endl; // dont know why output different to lecture\n",
    "cout << showpoint << alpha << endl << beta << endl;\n",
    "cout << showpoint << fixed << setprecision(4) << alpha << endl << beta << endl;\n",
    "cout << showpoint << fixed << setprecision(4) << setw(10) << right << alpha << endl << beta << endl;"
   ]
  },
  {
   "cell_type": "markdown",
   "metadata": {},
   "source": [
    "## Functions\n",
    "\n",
    "<big><strong>Function definitions are only written <u>once</u> </strong></big>\n",
    "\n",
    "<big><strong>Function <u>cannot</u> be defined inside other functions</strong></big>\n",
    "\n",
    "### Storage Classes\n",
    "\n",
    "Here are some special storage-class specifiers\n",
    "\n",
    "- auto\n",
    "  - only local variables of functions can be automatic\n",
    "  - automatic by default\n",
    "- register\n",
    "  - Suggests that variable should be placed in a high-speed register\n",
    "  - Good for often-used items such as loop counters \n",
    "  - (cpp)`register int counter = 1;`\n",
    "  - we usually don't use these because modern compilers can place them in high speed registers themselves\n",
    "- extern \n",
    "  - Default for global variables *declared outside class or function definition*\n",
    "  - Global variables are usually declared at the beginning of program\n",
    "- static \n",
    "  - Variables exist for entire programs    "
   ]
  },
  {
   "cell_type": "markdown",
   "metadata": {},
   "source": [
    "\n",
    "### Math Library Functions\n",
    "\n",
    "We use the `<cmath>` header to get math functions such as `sqrt(900.0)`\n",
    "\n",
    "`ceil(x)` Rounds x to the smallest integer not less than x \\\n",
    "`floor(x)` Rounds x to the largest integer not greater than x \\\n",
    "`fabs(x)` absolute value of x \\\n",
    "`fmod(x,y)` remainder of $x/y$ as a floating point number\\\n",
    "`pow(x,y)` $x$ raised to power $y$ (*x^y*)\\\n",
    "`sqrt(x)` square root of $x$ (*where $x$ is a nonnegative value*)\\\n",
    "`exp(x)` exponential function $e^x$ \\\n",
    "`log(x)` natural logarithm of x (*base e*)\\\n",
    "`log10(x)` natural logarithm of x (*base 10*)\\\n",
    "`sin(x)` trigonometric sine of $x$ (*x in radians*)\\\n",
    "`cos(x)` Trigonometric cosine of x (*x in radians*) \\\n",
    "`tan(x)` trigonometric tangent of $x$ (*$x$ in radians*)\n",
    "\n",
    "\n"
   ]
  },
  {
   "cell_type": "code",
   "execution_count": 14,
   "metadata": {
    "vscode": {
     "languageId": "c++"
    }
   },
   "outputs": [
    {
     "data": {
      "text/plain": [
       "0.0000000"
      ]
     },
     "execution_count": 14,
     "metadata": {},
     "output_type": "execute_result"
    }
   ],
   "source": [
    "ceil(9.2);        //==>  10.000000\n",
    "ceil(-9.2);       //==> -9.0000000\n",
    "floor(9.2);       //==>  9.0000000\n",
    "floor(-9.2);      //==> -10.000000\n",
    "fabs(-5.1);       //==>  5.1000000\n",
    "fmod(2.6, 1.2);   //==>  0.20000000\n",
    "pow(9,.5);        //==>  3.0000000\n",
    "sqrt(9.0);        //==>  3.0000000\n",
    "exp(1.0);         //==>  2.7182818\n",
    "log(2.718282);    //==>  1.0000001\n",
    "log10(10.0);      //==>  1.0000000\n",
    "sin(0);           //==>  0.0000000\n",
    "cos(0.0);         //==>  1.0000000\n",
    "tan(0.0);         //==>  0.0000000"
   ]
  },
  {
   "cell_type": "markdown",
   "metadata": {},
   "source": [
    "### Function Prototype\n",
    "\n",
    "```cpp \n",
    "int maximum(int x, int y, int z); // function prototype\n",
    "```\n",
    "\n",
    "**Function prototype** describes a function <u>without</u> revealing its implementation\n",
    "\n",
    "The function is described by revealing to the compiler the ...\n",
    "- **function name**\n",
    "- its **return type**\n",
    "- types of its **parameters**\n",
    "\n",
    "> **Note** this is different to a function declaration because it ends with a compulsory `;`\n",
    "\n",
    "<div class=\"alert alert-danger\">A function prototype is <b>required</b> <em>unless</em> the function is defined <u>before</u> it is used</div>\n",
    "\n",
    "<div class=\"alert alert-info\">It is <b>recommended</b> to always provide function prototypes <em>even if the function is used after it is already defined</em> this avoid errors & bugs <u>in the future </u> as the program evolves <hr> It is always better to eliminate errors at compile time rather than at runtime</div>\n",
    "\n",
    "The *function name* & *parameters* is known as the **function's signature**\n",
    "\n",
    "#### Argument Coercion\n",
    "\n",
    "A program can call a function with a integer argument\\\n",
    "even though the function prototype specifies a `double` parameter\\\n",
    "<mark>The function will still work correctly</mark>\\\n",
    "provided this is not a narrowing conversion\n",
    "\n",
    "### Standard Library Headers\n",
    "\n",
    "`<iostream>` Contains standard input and output functions\n",
    "`<iomanip>` Contains stream manipulators that format streams of data\n",
    "`<cmath>` Contains math library functions\n",
    "`<cstdlib>` Contains prototypes for conversions of numbers to text, text to numbers, memory allocation, random numbers and other utility functions\n",
    "`<ctime>` Contains prototypes for manipulating time and data\n",
    "\n",
    "`<arrays>` `<vector>` `<list>` `<forward_list>` `<queue>` `<dequeue>` `<stack>` `<map>` `<unordered_map>` `<set>` `<unordered_set>` `<bitset>`\\\n",
    "Above headers contain classes that implement standard library containers\\\n",
    "Containers store data during a programs execution\n",
    "\n",
    "`<cctype>` Contains function prototypes for functions that test characters for certain properties *eg whether the character is a digit ir a punctuation* as well as functions such as upper/lowercase conversions\n",
    "\n",
    "`<cstring>` Contains function prototypes for C-style string-processing functions\n",
    "\n",
    "`<typeinfo>` Contains classes for runtime type identifications *determining data types ar execution time*\n",
    "\n",
    "`exception` `stdexcept`  These headers contain classes that used for exception handling \n",
    "\n",
    "`<memory>` Contains classes and functions to allocate memory\n",
    "\n",
    "`<fstream>` Contains function prototypes for functions that perform input from and output to files on a disk\n",
    "\n",
    "`<string>` Contains the definition of class `string`\n",
    "\n",
    "`<sstream>` Contains function prototypes for functions that perform input from and output to strings in memory\n",
    "\n",
    "`<functional>` Contains classes and functions for algorithms\n",
    "\n",
    "`<iterator>` Contains classes for accessing data containers\n",
    "\n",
    "`<algorithm>` Contains functions for manipulating data in containers\n",
    "\n",
    "`<cassert>` Contains macros for adding diagnostics that aid program debugging\n",
    "\n",
    "`<cfloat>` Contains the floating-point size limits of the system\n",
    "\n",
    "`<climits>` Contains the integral size limits of the system\n",
    "\n",
    "`<cstio>` Contains function prototypes for the C-style standard input/output library functions\n",
    "\n",
    "`<locale>` Contains classes and functions normally used by stream processing for data in the natural form for differing languages *eg, monetary formats, sorting strings, character presentation, etc*\n",
    "\n",
    "`<limits>` Contains classes for defining the numerical data type limits on each computer platform\n",
    "\n",
    "`<utility>` Contains classes and functions that are used by many other headers\n",
    "\n",
    "### Random Number Generation\n",
    "\n",
    "Use standard library `rand`\n",
    "\n",
    "`RAND_MAX` a symbolic constant defined in the `<cstdlib>` header"
   ]
  },
  {
   "cell_type": "code",
   "execution_count": 15,
   "metadata": {
    "vscode": {
     "languageId": "c++"
    }
   },
   "outputs": [
    {
     "name": "stdout",
     "output_type": "stream",
     "text": [
      "Random integer between 0 and RAND_MAX:\t1136839577\n",
      "RAND_MAX:\t\t\t\t2147483647\n",
      "Rolling a six sided die:\t\t6\n",
      "Big boy number:\t6000000\n",
      "\n",
      "With seed:\t1\n",
      "         2         5         4         2         6\n",
      "         5         3         4         5         6\n",
      "         2         2         6         4         4\n",
      "         1         5         3         6         6\n"
     ]
    }
   ],
   "source": [
    "\n",
    "#include <iostream> \n",
    "#include <cstdlib> //contains prototypes for functions srand and rand \n",
    "using namespace std;\n",
    "\n",
    "auto i = rand(); // generators an unigned random integer between 0 and RAND_MAX\n",
    "srand(i); // seed random number generator\n",
    "srand(static_cast<unsigned int>(time(0))); // use unix time to random seed\n",
    "\n",
    "cout << \"Random integer between 0 and RAND_MAX:\\t\" << i << endl;\n",
    "cout << \"RAND_MAX:\\t\\t\\t\\t\" << RAND_MAX << endl;\n",
    "\n",
    "const int SCALING_FACTOR = 6; // this is used in what is called scaling\n",
    "\n",
    "cout << \"Rolling a six sided die:\\t\\t\" << 1 + i % SCALING_FACTOR << endl; \n",
    "// the 1 is to remove 0 so itstead of [0,5] we have [1,6]\n",
    "// think of this as a \"shift factor\"\n",
    "\n",
    "// DIGIT SEPERATOR (  '  )\n",
    "\n",
    "int num = 6'000'000; // in C++14 you could use ' as commas for big numbers\n",
    "cout << \"Big boy number:\\t\" << num << endl; \n",
    "\n",
    "/* Becuase these random numbers are actually psuedo-random the same sequence is used in generation to use a random seed we use the srand function from <cstdlib> */\n",
    "\n",
    "unsigned int seed{1};\n",
    "// cout << \"Enter seed\";\n",
    "// cin >> seed;\n",
    "cout << \"\\nWith seed:\\t\" << seed << endl;\n",
    "srand(seed);\n",
    "\n",
    "for (unsigned int counter{1}; counter <= 20; ++counter){\n",
    "  cout << setw(10) << (1 + rand() % 6);\n",
    "\n",
    "  if(counter % 5 == 0)\n",
    "    cout << endl;\n",
    "}"
   ]
  },
  {
   "cell_type": "code",
   "execution_count": 16,
   "metadata": {
    "vscode": {
     "languageId": "c++"
    }
   },
   "outputs": [
    {
     "name": "stdout",
     "output_type": "stream",
     "text": [
      "\n",
      "With seed:\t1\n",
      "         2         5         4         2         6\n",
      "         2         2         4         5         2\n",
      "         3         3         6         3         5\n",
      "         5         2         1         1         2\n"
     ]
    }
   ],
   "source": [
    "unsigned int seed{1};\n",
    "// cout << \"Enter seed\";\n",
    "// cin >> seed;\n",
    "cout << \"\\nWith seed:\\t\" << seed << endl;\n",
    "srand(seed);\n",
    "\n",
    "for (unsigned int counter{1}; counter <= 20; ++counter){\n",
    "  cout << setw(10) << (1 + rand() % 6);\n",
    "\n",
    "  if(counter % 5 == 0)\n",
    "    cout << endl;\n",
    "}"
   ]
  },
  {
   "cell_type": "code",
   "execution_count": 17,
   "metadata": {
    "vscode": {
     "languageId": "c++"
    }
   },
   "outputs": [
    {
     "name": "stdout",
     "output_type": "stream",
     "text": [
      "\n",
      "With seed:\t1696704442\n",
      "         1         1         2         1         4\n",
      "         5         6         2         4         4\n",
      "         3         2         2         3         5\n",
      "         3         2         1         1         5\n"
     ]
    }
   ],
   "source": [
    "// time (with argument 0) from <ctime>\n",
    "// returns current time as number of seconds since Jan 1, 1970 at midnight GMT\n",
    "unsigned int seed{static_cast<unsigned int>(time(0))};\n",
    "cout << \"\\nWith seed:\\t\" << seed << endl;\n",
    "srand(seed);\n",
    "\n",
    "for (unsigned int counter{1}; counter <= 20; ++counter){\n",
    "  cout << setw(10) << (1 + rand() % 6);\n",
    "\n",
    "  if(counter % 5 == 0)\n",
    "    cout << endl;\n",
    "}"
   ]
  },
  {
   "cell_type": "code",
   "execution_count": 18,
   "metadata": {
    "vscode": {
     "languageId": "c++"
    }
   },
   "outputs": [
    {
     "name": "stdout",
     "output_type": "stream",
     "text": [
      "\n",
      "With seed:\t1696704442\n",
      "         1         3         4         1         2\n",
      "         1         2         4         2         3\n",
      "         3         5         6         4         4\n",
      "         6         2         5         5         2\n"
     ]
    }
   ],
   "source": [
    "// random number generation engine and distribution\n",
    "#include <random> // contains C++ random number generation features\n",
    "\n",
    "unsigned int seed{static_cast<unsigned int>(time(0))};\n",
    "cout << \"\\nWith seed:\\t\" << seed << endl;\n",
    "\n",
    "default_random_engine engine{seed};\n",
    "uniform_int_distribution<unsigned int> randomInt{ 1, 6 };\n",
    "\n",
    "for (unsigned int counter{1}; counter <= 20; ++counter){\n",
    "  cout << setw(10) << randomInt(engine);\n",
    "\n",
    "  if(counter % 5 == 0)\n",
    "    cout << endl;\n",
    "}"
   ]
  },
  {
   "cell_type": "markdown",
   "metadata": {},
   "source": [
    "### Enums\n",
    "\n",
    "> A set of integer constants represented by identifiers\n",
    "\n",
    "<big><strong>enum</strong> <i>typeName</i> { <i>constant1</i>, <i>constant2</i>... };</big>\n",
    "\n",
    "By default the values of these enumeration constants start at 0, unless specified otherwise and increment by 1\n",
    "\n",
    "Cannot assign an integer to an enumeration variable\n",
    "\n",
    "```cpp\n",
    "enum Color {RED, GREEN, WHITE};\n",
    "\n",
    "Color enumVar;\n",
    "enumVar = GREEN; // cannot do enumVar = 1\n",
    "```"
   ]
  },
  {
   "cell_type": "code",
   "execution_count": 19,
   "metadata": {
    "vscode": {
     "languageId": "c++"
    }
   },
   "outputs": [
    {
     "name": "stdout",
     "output_type": "stream",
     "text": [
      "using Month enum 3"
     ]
    }
   ],
   "source": [
    "enum Months { JAN = 1, FEB, MAR, APR, MAY, JUN, JUL, AUG, SEP, OCT, NOV, DEC };\n",
    "\n",
    "Months currentMonth;\n",
    "currentMonth = MAR; // cannot do currentMonth = 3\n",
    " \n",
    "cout << \"using Month enum \" << currentMonth;"
   ]
  },
  {
   "cell_type": "markdown",
   "metadata": {},
   "source": [
    "#### Scoped Enums\n",
    "\n",
    "One problem with enum is that multiple enums may contain the same identifiers\n",
    "- using enums in the same program can lead to naming collisions\n",
    "- examples\n",
    "```cpp\n",
    "enum Status {CONTINUE, WON, LOST};\n",
    "enum Looping {CONTINUE, STOP};\n",
    "```\n",
    "- C++ introduced **scoped enum** to solve this problem\n",
    "- use scope resolution operator Status::CONTINUE"
   ]
  },
  {
   "cell_type": "code",
   "execution_count": 20,
   "metadata": {
    "vscode": {
     "languageId": "c++"
    }
   },
   "outputs": [
    {
     "name": "stdout",
     "output_type": "stream",
     "text": [
      "Enum value from CONTINUE \n"
     ]
    }
   ],
   "source": [
    "enum class Status {CONTINUE = 1, WON, LOST};\n",
    "enum class Looping {CONTINUE, STOP};\n",
    "\n",
    "Status gameStatus;\n",
    "gameStatus = Status::CONTINUE;\n",
    "\n",
    "if(Status::CONTINUE == gameStatus)\n",
    "  cout << \"Enum value from CONTINUE \" << endl;"
   ]
  },
  {
   "cell_type": "markdown",
   "metadata": {},
   "source": [
    "### Better rand\n",
    "\n",
    "> According to CERT function `rand` does not have *good statistical properties* and can be predictable which makes programs that use `rand` less secure \n",
    "\n",
    "C++11 provides a *more* secure library that can produce a **non-deterministic random numbers**: a set of numbers that can't be predicted\n",
    "\n",
    "```cpp\n",
    "// Using a C++11 random-number generation engine and distribution\n",
    "// to roll a six-sided die\n",
    "\n",
    "#include<iostream>\n",
    "#include <random> // contains C++11 random number generation features\n",
    "#include<iomanip>\n",
    "#include <ctime>\n",
    "using namespace std;\n",
    "\n",
    "\n",
    "int main() {\n",
    "  // use default random-number generation engine to\n",
    "  // produce uniformly distributed pseudorandom int values from 1 to 6\n",
    "  default_random_engine engine{static_cast<unsigned int>(time(0))};\n",
    "  uniform_int_distribution<unsigned int> randomInt{1, 6};\n",
    "\n",
    "  for (unsigned int counter{1}; counter <= 10; ++counter) {\n",
    "    cout << setw(10) << randomInt(engine); \n",
    "\n",
    "    if(counter % 5 == 0) {\n",
    "      cout << endl;\n",
    "    } \n",
    "  }\n",
    "}\n",
    "```\n",
    "\n",
    "`<unsigned int>` indicates that `uniform_int)distribution` is a **class template**\\\n",
    "In this case any integer type can be specified in he angle brackets\n",
    "\n",
    "### Scopes\n",
    "\n",
    "#### Block Scopes\n",
    "This is the scope that we mean in code blocks characterized by  brackets `{}`\n",
    "\n",
    "##### Static Variables\n",
    "\n",
    "Local variables can be set to `static` so the *value remains after function returns to caller* so next time function is called the value remains from last completed execution \n",
    "\n",
    "```cpp\n",
    "static unsigned int count{1};\n",
    "static unsigned int count; // by default all numeric types are initialized to 0\n",
    "```\n",
    "#### Global scopes\n",
    "An identifier declared <u>outside</u> any function or class has *global namespace scope*\n",
    "\n",
    "#### Other Scopes\n",
    "##### Function Scope\n",
    "```cpp\n",
    "void func(type parameter) { \n",
    "  /* Parameter with function scope here */\n",
    "}\n",
    "```\n",
    "##### Function-Prototype\n",
    "\n",
    "#### Local scopes\n",
    "\n"
   ]
  },
  {
   "cell_type": "code",
   "execution_count": 21,
   "metadata": {
    "vscode": {
     "languageId": "c++"
    }
   },
   "outputs": [
    {
     "data": {
      "text/plain": [
       "0"
      ]
     },
     "execution_count": 21,
     "metadata": {},
     "output_type": "execute_result"
    }
   ],
   "source": [
    "static unsigned int count; // by default all numeric types are initialized to 0\n",
    "count"
   ]
  },
  {
   "cell_type": "code",
   "execution_count": 22,
   "metadata": {
    "vscode": {
     "languageId": "c++"
    }
   },
   "outputs": [
    {
     "data": {
      "text/plain": [
       "1"
      ]
     },
     "execution_count": 22,
     "metadata": {},
     "output_type": "execute_result"
    }
   ],
   "source": [
    "// execute this cell and bellow\n",
    "\n",
    "int x{1}; x // global variable"
   ]
  },
  {
   "cell_type": "code",
   "execution_count": 23,
   "metadata": {
    "vscode": {
     "languageId": "c++"
    }
   },
   "outputs": [],
   "source": [
    "void useLocal();        // function prototype\n",
    "void useStaticLocal();  // function prototype\n",
    "void useGlobal();       // function prototype"
   ]
  },
  {
   "cell_type": "code",
   "execution_count": 44,
   "metadata": {
    "vscode": {
     "languageId": "c++"
    }
   },
   "outputs": [
    {
     "name": "stdout",
     "output_type": "stream",
     "text": [
      "global x in main is 3.2000\n",
      "local x in main's outer scope is 5\n",
      "local x in main's inner scope is 7\n",
      "local x in main's outer scope is 5\n",
      "\n",
      "local x is 25 on entering useLocal\n",
      "local x is 26 on exiting useLocal\n",
      "\n",
      "local static x is 50 on entering useStaticLocal\n",
      "local static x is 51 on exiting useStaticLocal\n",
      "\n",
      "global x is 1 on entering useGlobal\n",
      "global x is 10 on exiting useGlobal\n",
      "\n",
      "local x is 25 on entering useLocal\n",
      "local x is 26 on exiting useLocal\n",
      "\n",
      "local static x is 51 on entering useStaticLocal\n",
      "local static x is 52 on exiting useStaticLocal\n",
      "\n",
      "global x is 10 on entering useGlobal\n",
      "global x is 100 on exiting useGlobal\n",
      "\n",
      "local x in main is 5\n"
     ]
    },
    {
     "data": {
      "text/plain": [
       "0"
      ]
     },
     "execution_count": 44,
     "metadata": {},
     "output_type": "execute_result"
    }
   ],
   "source": [
    "\n",
    "// can't declare global variables here so declare them in previous cells\n",
    "// run previous cell than run this cell\n",
    "\n",
    "\n",
    "\n",
    "int main() {\n",
    "  cout << \"global x in main is \" << x << endl;\n",
    "\n",
    "  int x{5}; // local variable to main\n",
    "  cout << \"local x in main's outer scope is \" << x << endl;\n",
    "\n",
    "  { // block starts a new scope                               \n",
    "    int x{7}; // hides both x in outer scope and global x   \n",
    "    cout << \"local x in main's inner scope is \" << x << endl;\n",
    "  }\n",
    "\n",
    "  cout << \"local x in main's outer scope is \" << x << endl;\n",
    "\n",
    "  useLocal(); // useLocal has local x\n",
    "  useStaticLocal(); // useStaticLocal has static local x\n",
    "  useGlobal(); // useGlobal uses global x\n",
    "  useLocal(); // useLocal reinitializes its local x\n",
    "  useStaticLocal(); // static local x retains its prior value\n",
    "  useGlobal(); // global x also retains its prior value\n",
    "\n",
    "  cout << \"\\nlocal x in main is \" << x << endl;\n",
    "} \n",
    "main();\n",
    "\n"
   ]
  },
  {
   "cell_type": "code",
   "execution_count": 25,
   "metadata": {
    "vscode": {
     "languageId": "c++"
    }
   },
   "outputs": [],
   "source": [
    "// useLocal reinitializes local variable x during each call\n",
    "void useLocal() {\n",
    "   int x{25}; // initialized each time useLocal is called\n",
    "\n",
    "   cout << \"\\nlocal x is \" << x << \" on entering useLocal\" << endl;\n",
    "   ++x;\n",
    "   cout << \"local x is \" << x << \" on exiting useLocal\" << endl;\n",
    "}"
   ]
  },
  {
   "cell_type": "code",
   "execution_count": 26,
   "metadata": {
    "vscode": {
     "languageId": "c++"
    }
   },
   "outputs": [],
   "source": [
    "// useStaticLocal initializes static local variable x only the\n",
    "// first time the function is called; value of x is saved\n",
    "// between calls to this function\n",
    "void useStaticLocal() {\n",
    "   static int x{50}; // initialized first time useStaticLocal is called\n",
    "\n",
    "   cout << \"\\nlocal static x is \" << x << \" on entering useStaticLocal\"\n",
    "      << endl;\n",
    "   ++x;\n",
    "   cout << \"local static x is \" << x << \" on exiting useStaticLocal\"\n",
    "      << endl;\n",
    "}"
   ]
  },
  {
   "cell_type": "code",
   "execution_count": 27,
   "metadata": {
    "vscode": {
     "languageId": "c++"
    }
   },
   "outputs": [],
   "source": [
    "// useGlobal modifies global variable x during each call\n",
    "void useGlobal() {\n",
    "   cout << \"\\nglobal x is \" << x << \" on entering useGlobal\" << endl;\n",
    "   x *= 10;\n",
    "   cout << \"global x is \" << x << \" on exiting useGlobal\" << endl;\n",
    "}"
   ]
  },
  {
   "cell_type": "markdown",
   "metadata": {},
   "source": [
    "### Function-Call Stack and Activation Records\n",
    "\n",
    "C++ uses a data structure called a **stack**\n",
    "\n",
    "#### Stack Frames\n",
    "As each function is called, it may call other functions each function must eventually return control to the function that had initially called it\n",
    "\n",
    "Each time a function calls another function an entry is *pushed* onto the stack\\\n",
    "this entry is called a **stack frame** or an **activation record**\\\n",
    "it contains a **return address** that the called function needs in order to return to the calling function\\\n",
    "if the function returns instead of calling another function before returning\\ \n",
    "the stack frame is *popped* \\\n",
    "and control transfers to the return address in the popped stack frame\n",
    "\n",
    "local non-static variables need to be destroyed when the function is finished executing so non-static local variables are gone when the stack frame is popped from the function call stack\n",
    "\n",
    "#### Stack Overflow\n",
    "Self explanatory this is how [stack overflow website](stackoverflow.com) got its name\n",
    "\n",
    "### Inline Functions\n",
    "Implementing a program as a set of functions is good from a software engineering standpoint\\\n",
    "but function calls *involve execution-time overhead*\n",
    "\n",
    "> C++ provides **inline functions** to help reduce function-call\n",
    "overhead\n",
    "\n",
    "Placing the qualifier `inline` before a function’s return type\n",
    "in the function definition advises the compiler to generate a copy of\n",
    "the function’s body code in every place where the function is called\n",
    "(*when appropriate*) to avoid a function call\\\n",
    "**This often makes the program larger**\n",
    "\n",
    "The compiler can ignore the `inline` qualifier and generally does so for all but the smallest functions\n",
    "\n",
    "Reusable `inline` functions are typically placed in headers, so that their definitions can be included in each source file that uses them\n"
   ]
  },
  {
   "cell_type": "code",
   "execution_count": 28,
   "metadata": {
    "vscode": {
     "languageId": "c++"
    }
   },
   "outputs": [],
   "source": [
    "inline double cube(const double side) {\n",
    "  return side * side * side;\n",
    "}"
   ]
  },
  {
   "cell_type": "code",
   "execution_count": 29,
   "metadata": {
    "vscode": {
     "languageId": "c++"
    }
   },
   "outputs": [
    {
     "name": "stdout",
     "output_type": "stream",
     "text": [
      "Volume of cube with side 2\t=\t8.0000\n"
     ]
    },
    {
     "data": {
      "text/plain": [
       "@0x7f263bb3c4e0"
      ]
     },
     "execution_count": 29,
     "metadata": {},
     "output_type": "execute_result"
    }
   ],
   "source": [
    "const int side{2};\n",
    "cout << \"Volume of cube with side \" << 2 << \"\\t=\\t\" << cube(side) << endl;\n",
    "\n",
    "// note becuase cube is inline cube(2) is replaced by compiler with:\n",
    "// side * side * side \n",
    "// to conserve function overhead"
   ]
  },
  {
   "cell_type": "markdown",
   "metadata": {},
   "source": [
    "\n",
    "### References and Reference Parameters\n",
    "\n",
    "2 ways to pass arguments to functions\n",
    "1. **pass-by-value**\n",
    "2. **pass-by-reference**\n",
    "\n",
    "#### Pass-by-Value\n",
    "When a value is passed to function a <strong><u>copy</u></strong> of that variable is created \n",
    "\n",
    "> This prevents the *accidental side effects* that so greatly hinder the\n",
    "development of correct and reliable software systems\n",
    "\n",
    "<div class=\"alert alert-warning\">One disadvantage of pass-by-value is that, if a large data item is being passed, copying that data can take a considerable amount of execution time and memory space</div>\n",
    "\n",
    "#### Pass-by-Reference\n",
    "References are aliases for other variables\n",
    "    - refer to the same variable\n",
    "    - can be used within a function\n",
    "\n",
    "References must be initialized when declared\n",
    "    \n",
    "    cannot be reassigned as aliases to other variables\n"
   ]
  },
  {
   "cell_type": "code",
   "execution_count": 30,
   "metadata": {
    "vscode": {
     "languageId": "c++"
    }
   },
   "outputs": [
    {
     "name": "stdout",
     "output_type": "stream",
     "text": [
      "2\n",
      "x= 3\n",
      "y= 3\n",
      "x= 7\n",
      "y= 7\n",
      "Address of x is 0x7f263bce80dc\n",
      "Address of y is 0x7f263bce80dc\n"
     ]
    }
   ],
   "source": [
    "int count{1}; // declare variable count\n",
    "int &cRef{count}; // create cRef as an alias for count\n",
    "++cRef; // increment count using its alias\n",
    "cout << count << endl;\n",
    "\n",
    "/////////////////////////////\n",
    "\n",
    "int x{3};\n",
    "int&y{x}; // y refers to (is an alias for) x\n",
    "\n",
    "cout << \"x= \" << x << endl << \"y= \" << y << endl;\n",
    "\n",
    "y = 7;\n",
    "\n",
    "cout << \"x= \" << x << endl << \"y= \" << y << endl;\n",
    "\n",
    "cout << \"Address of x is \" << &x << endl;\n",
    "cout << \"Address of y is \" << &y << endl;"
   ]
  },
  {
   "cell_type": "code",
   "execution_count": 31,
   "metadata": {
    "vscode": {
     "languageId": "c++"
    }
   },
   "outputs": [
    {
     "name": "stdout",
     "output_type": "stream",
     "text": [
      "pass by value 7\n",
      "pass by value 7\n"
     ]
    }
   ],
   "source": [
    "void squareByValue(int number){\n",
    "  number *= number;\n",
    "  cout << \"pass by value \" << x << endl;\n",
    "}\n",
    "squareByValue(x);\n",
    "squareByValue(x);"
   ]
  },
  {
   "cell_type": "code",
   "execution_count": 32,
   "metadata": {
    "vscode": {
     "languageId": "c++"
    }
   },
   "outputs": [
    {
     "name": "stdout",
     "output_type": "stream",
     "text": [
      "pass by reference 49\n",
      "pass by reference 2401\n"
     ]
    }
   ],
   "source": [
    "void squareByReference(int &number){\n",
    "  number *= number;\n",
    "  cout << \"pass by reference \" << x << endl;\n",
    "}\n",
    "squareByReference(x);\n",
    "squareByReference(x);"
   ]
  },
  {
   "cell_type": "markdown",
   "metadata": {},
   "source": [
    "\n",
    "### Default Arguments\n",
    "\n",
    "```cpp\n",
    "unsigned int squareArea(unsigned int length = 1, unsigned int width = 1)\n",
    "squareArea();   // A = 1\n",
    "squareArea(2);  // A = 2\n",
    "squareArea(3,4) // A = 12\n",
    "```\n",
    "\n",
    "### Unary Scope Resolution Operator\n",
    "\n",
    "**Unary scope operator** `::` is used to access a global variables when a local variable of the same name is in scope\n",
    "\n",
    "<div class=\"alert alert-success\">We should always use unary scope operator to reference global variables because it is good programming practice</div>"
   ]
  },
  {
   "cell_type": "code",
   "execution_count": 33,
   "metadata": {
    "vscode": {
     "languageId": "c++"
    }
   },
   "outputs": [],
   "source": [
    "int number{7}; // global variable named number"
   ]
  },
  {
   "cell_type": "code",
   "execution_count": 34,
   "metadata": {
    "vscode": {
     "languageId": "c++"
    }
   },
   "outputs": [
    {
     "name": "stdout",
     "output_type": "stream",
     "text": [
      "Local variable number:\t10.5000\n",
      "Global variable number:\t7\n"
     ]
    }
   ],
   "source": [
    "int main() {\n",
    "  double number{10.5}; // local variable named number\n",
    "\n",
    "  cout  << \"Local variable number:\\t\"   <<   number   << endl\n",
    "        << \"Global variable number:\\t\"  << ::number   << endl;\n",
    "} \n",
    "\n",
    "main();"
   ]
  },
  {
   "cell_type": "markdown",
   "metadata": {},
   "source": [
    "### Function Overloading\n",
    "\n",
    "> Functions with the same name but different parameters\n",
    "\n",
    "should perform similar tasks **look at signatures**"
   ]
  },
  {
   "cell_type": "code",
   "execution_count": 35,
   "metadata": {
    "vscode": {
     "languageId": "c++"
    }
   },
   "outputs": [],
   "source": [
    "int square (double x) {\n",
    "  return x * x;\n",
    "}"
   ]
  },
  {
   "cell_type": "code",
   "execution_count": 36,
   "metadata": {
    "vscode": {
     "languageId": "c++"
    }
   },
   "outputs": [],
   "source": [
    "int square (int x) {\n",
    "  return x * x;\n",
    "}"
   ]
  },
  {
   "cell_type": "code",
   "execution_count": 37,
   "metadata": {
    "vscode": {
     "languageId": "c++"
    }
   },
   "outputs": [
    {
     "name": "stdout",
     "output_type": "stream",
     "text": [
      "function overloading\n",
      "square(float 4.0) \t->\t16\n",
      "square(int 4) \t\t->\t16\n"
     ]
    }
   ],
   "source": [
    "cout << \"function overloading\" << endl\n",
    "     << \"square(float 4.0) \\t->\\t\" << square(4.0) << endl\n",
    "     << \"square(int 4) \\t\\t->\\t\"   << square(4) << endl;"
   ]
  },
  {
   "cell_type": "markdown",
   "metadata": {},
   "source": [
    "### Function Templates\n",
    "\n",
    "**Compact way to make overloaded functions**\n",
    "\n",
    "> generate separate function for different data types\n",
    "\n",
    "Begin with keyword `template`\n",
    "\n",
    "Formal type parameter in brackets `< >`\n",
    "- every type parameter is preceded by `typename` or `class`\n",
    "- specify arguments types, return types, declare variables\n",
    "\n",
    "The function is defined as normal, except formal types used"
   ]
  },
  {
   "cell_type": "code",
   "execution_count": 38,
   "metadata": {
    "vscode": {
     "languageId": "c++"
    }
   },
   "outputs": [],
   "source": [
    "template<class T> // or template<typename T> \n",
    "// ussually we use T for type but you can use whatever\n",
    "T square(const T value) { // that's right we can const parameters in C++\n",
    "  return value * value;\n",
    "}"
   ]
  },
  {
   "cell_type": "code",
   "execution_count": 39,
   "metadata": {
    "vscode": {
     "languageId": "c++"
    }
   },
   "outputs": [
    {
     "name": "stdout",
     "output_type": "stream",
     "text": [
      "With user defined formal type T 100.0000"
     ]
    }
   ],
   "source": [
    "float number{10.0}; \n",
    "cout << \"With user defined formal type T \" << square(number);"
   ]
  },
  {
   "cell_type": "markdown",
   "metadata": {},
   "source": [
    "## Arrays\n",
    "\n",
    "**Arrays** are <u>fixed size</u> in of the <u>same type</u> C++\\\n",
    "**Vectors** on the other hand although also of the same type of sizes that are dynamically based\n",
    "\n",
    "`<array>` and `<vector>` headers\n",
    "\n",
    "### Declaring Arrays\n",
    "\n",
    "Its in the form of \n",
    "```cpp\n",
    "array<type, arraySize> arrayName;\n",
    "```"
   ]
  },
  {
   "cell_type": "code",
   "execution_count": 40,
   "metadata": {
    "vscode": {
     "languageId": "c++"
    }
   },
   "outputs": [
    {
     "name": "stdout",
     "output_type": "stream",
     "text": [
      "2 1\n",
      "1 0\n",
      "0 0\n",
      "2 1 0 \n",
      "4 2 0 "
     ]
    }
   ],
   "source": [
    "// its good pragramming practice to use a const variable as the size of array\n",
    "const int SIZE{10};\n",
    "int myArray[SIZE];\n",
    "\n",
    "array<int, 3> arr; // this way is called a class template array\n",
    "\n",
    "arr[1] = 2;\n",
    "arr[3] = 1;\n",
    "arr[1+1] = 0;\n",
    "\n",
    "cout << arr[1] << \" \" << arr[1 + 2] << endl; \n",
    "\n",
    "array<int, 3> arr2{2,1,0}; // alternative way to declare array\n",
    "cout << arr2[1] << \" \" << arr2[1 + 2] << endl;\n",
    "\n",
    "array<int, 5> n{}; // initialize elements of empty array n to 0\n",
    "cout << n[1] << \" \" << n[1 + 2] << endl;\n",
    "\n",
    "// Range based for loop\n",
    "for (int item : arr2) {\n",
    "  cout << item << \" \";\n",
    "}\n",
    "// multiple the elements of items by 2\n",
    "for (int& itemRef : arr2) {\n",
    "  itemRef *= 2;\n",
    "}\n",
    "cout << endl;\n",
    "// Display items after modifications\n",
    "for (int item : arr2) {\n",
    "  cout << item << \" \";\n",
    "}"
   ]
  },
  {
   "cell_type": "markdown",
   "metadata": {},
   "source": [
    "If the array size is omitted, initializers determine the size\n",
    "\n",
    "```cpp\n",
    "int score[]{1, 2, 3, 4, 5}; // size is automatically initialized to 5\n",
    "```\n",
    "\n",
    "### Array Index Out of Bound\n",
    "<em>C++ has <u>no</u> array bounds checking</em>\n",
    "\n",
    "Refering to an element outside the array bound is an  <font color=\"red\">execution time logic error</font>\\\n",
    "**It is not a syntax error**"
   ]
  },
  {
   "cell_type": "markdown",
   "metadata": {},
   "source": [
    "## Pointers\n",
    "\n",
    "```cpp\n",
    "int count{7}; // count \"directly\" references a variable that contains the value 7\n",
    "int countPtr{count&}; // countPtr \"indirectly\" references a variable that contains the value 7\n",
    "\n",
    "int* countPtr, count;\n",
    "```\n",
    "\n",
    "### Declaration\n",
    "`*` indicates the variable is a pointer\\\n",
    "**Note**: the whitespace around the asterisk does not matter\n",
    "\n",
    "    typeName *variableName;\n",
    "\n",
    "Multiple pointers require multiple asterisks\n",
    "\n",
    "    int *myPtr1, *myPtr2;\n",
    "\n",
    "### Null Pointer \n",
    "\n",
    "In previous versions either `0` or `null` as values for a **null pointer**\n",
    "\n",
    "Since, C++11 `nullptr` is introduced as the replacement for a **null pointer**\n",
    "\n",
    "### Pointer Operators\n",
    "\n",
    "#### Address Operators\n",
    "\n",
    "<big><code>&</code> address operator</big>\n",
    "\n",
    "This returns the memory address of its operand *eg* `010FFB3C`\n",
    "\n",
    "#### Indirection Operator\n",
    "\n",
    "Returns the synonym for object its pointer operand points to\n",
    "\n",
    "`*` and `&` are inverses of each other"
   ]
  },
  {
   "cell_type": "code",
   "execution_count": 41,
   "metadata": {
    "vscode": {
     "languageId": "c++"
    }
   },
   "outputs": [
    {
     "data": {
      "text/plain": [
       "6.4000000"
      ]
     },
     "execution_count": 41,
     "metadata": {},
     "output_type": "execute_result"
    }
   ],
   "source": [
    "double *dPtr, x, y;\n",
    "dPtr = &x;\n",
    "x = 3.2;\n",
    "y = *dPtr * 2; y"
   ]
  },
  {
   "cell_type": "code",
   "execution_count": 42,
   "metadata": {
    "vscode": {
     "languageId": "c++"
    }
   },
   "outputs": [
    {
     "name": "stdout",
     "output_type": "stream",
     "text": [
      "The address of a is 0x7f263bce8178\n",
      "The value of aPtr is 0x7f263bce8178\n",
      "\n",
      "The value of a is 7\n",
      "The value of *aPtr is 7\n",
      "\n",
      "Showing that * and & are inverses of each other.\n",
      "&*aPtr = 0x7f263bce8178\n",
      "*&aPtr = 0x7f263bce8178\n"
     ]
    }
   ],
   "source": [
    "int a;\n",
    "// a is an integer\n",
    "int* aPtr; // aPtr is a pointer to an integer\n",
    "a = 7;\n",
    "aPtr = &a; // aPtr assigned address of a\n",
    "\n",
    "cout << \"The address of a is \" << &a\n",
    "<< \"\\nThe value of aPtr is \" << aPtr;\n",
    "cout << \"\\n\\nThe value of a is \" << a\n",
    "<< \"\\nThe value of *aPtr is \" << *aPtr;\n",
    "cout << \"\\n\\nShowing that * and & are inverses of \"\n",
    "<< \"each other.\\n&*aPtr = \" << &*aPtr\n",
    "<< \"\\n*&aPtr = \" << *&aPtr << endl;"
   ]
  },
  {
   "cell_type": "markdown",
   "metadata": {},
   "source": [
    "There are now three ways to pass arguments to a function\n",
    "1) pass-by-value\n",
    "2) pass-by-reference with a referenced argument\n",
    "3) pass-by-reference with a pointer argument 🌟\n",
    "\n"
   ]
  },
  {
   "cell_type": "code",
   "execution_count": 43,
   "metadata": {
    "vscode": {
     "languageId": "c++"
    }
   },
   "outputs": [
    {
     "name": "stdout",
     "output_type": "stream",
     "text": [
      "Luca"
     ]
    }
   ],
   "source": [
    "char s[5];\n",
    "cin >> setw(5) >> s;\n",
    "cout << s;\n",
    "\n",
    "char* p = s;\n",
    "cin >> p;"
   ]
  },
  {
   "cell_type": "code",
   "execution_count": 51,
   "metadata": {
    "vscode": {
     "languageId": "c++"
    }
   },
   "outputs": [
    {
     "name": "stdout",
     "output_type": "stream",
     "text": [
      "Happy New Year -6\n",
      "46"
     ]
    }
   ],
   "source": [
    "#include <cstring> // strcat comes from here\n",
    "\n",
    "char s1[20] {\"Happy \"};\n",
    "char s2[] {\"New Year \"};\n",
    "cout << strcat(s1, s2); // concatenate s2 to s1\n",
    "\n",
    "// compare stings return 0 if equal\n",
    "// negative if the first string is less than second string\n",
    "// positive if the first string is greater than second string\n",
    "cout << strcmp(s1, s2) << endl; \n",
    "\n",
    "const char *string1{\"four\"};\n",
    "const char *string2{\"Boston\"};\n",
    "cout << strlen(string1) << strlen(string2);"
   ]
  },
  {
   "cell_type": "code",
   "execution_count": 57,
   "metadata": {
    "vscode": {
     "languageId": "c++"
    }
   },
   "outputs": [
    {
     "name": "stdout",
     "output_type": "stream",
     "text": [
      "0x7f263bce8338\n",
      "0x7f263bce8338"
     ]
    }
   ],
   "source": [
    " double list[ ] {1.1, 3.4, 5.5, 3.5};\n",
    " cout << &list[1] << endl;\n",
    " cout << list + 1; "
   ]
  },
  {
   "cell_type": "code",
   "execution_count": 58,
   "metadata": {
    "vscode": {
     "languageId": "c++"
    }
   },
   "outputs": [
    {
     "name": "stdout",
     "output_type": "stream",
     "text": [
      "Hello \n",
      "C++"
     ]
    }
   ],
   "source": [
    "cout << \"Hello \" << endl;\n",
    "\n",
    "          cout << \"C++\";"
   ]
  },
  {
   "cell_type": "code",
   "execution_count": 60,
   "metadata": {
    "vscode": {
     "languageId": "c++"
    }
   },
   "outputs": [],
   "source": [
    "const int size{5};\n",
    "\n",
    "       int array[size] {1, 2, 3, 4};"
   ]
  },
  {
   "cell_type": "code",
   "execution_count": 67,
   "metadata": {
    "vscode": {
     "languageId": "c++"
    }
   },
   "outputs": [
    {
     "name": "stdout",
     "output_type": "stream",
     "text": [
      "1"
     ]
    },
    {
     "data": {
      "text/plain": [
       "@0x7f263bb3c4e0"
      ]
     },
     "execution_count": 67,
     "metadata": {},
     "output_type": "execute_result"
    }
   ],
   "source": [
    "int x{0};\n",
    "if(x == 0)\n",
    "  x++;\n",
    "\n",
    "cout << x;\n",
    "\n"
   ]
  },
  {
   "cell_type": "code",
   "execution_count": 69,
   "metadata": {
    "vscode": {
     "languageId": "c++"
    }
   },
   "outputs": [
    {
     "name": "stdout",
     "output_type": "stream",
     "text": [
      "1\n",
      "12\n",
      "6\n"
     ]
    }
   ],
   "source": [
    "void fun(int x, int*y, int &z) {\n",
    "  z = z + 2;\n",
    "  x = x * z;\n",
    "  *y = z * *y;\n",
    "}\n",
    "\n",
    "int a{1}, b{2}, c{4};\n",
    "fun(a, &b, c);\n",
    "\n",
    "cout << a << endl;\n",
    "cout << b << endl;\n",
    "cout << c << endl;"
   ]
  },
  {
   "cell_type": "markdown",
   "metadata": {},
   "source": [
    "```cpp\n",
    "long *longPtr;      // Declare the variable longPtr to be a pointer to an object of type long\n",
    "longPtr = &value1;  // Assign the address of variable value1 to longPtr\n",
    "cout << *longPtr;   // Print the value of the object pointed to by longPtr\n",
    "value2 = *longPtr;  // Assign the value of the object pointed to by longPtr to variable value2\n",
    "cout << &value1;    // Print the address of value1\n",
    "cout << longPtr;    // Print the address stored in longPtr\n",
    "```"
   ]
  }
 ],
 "metadata": {
  "kernelspec": {
   "display_name": "C++14",
   "language": "C++14",
   "name": "xcpp14"
  },
  "language_info": {
   "codemirror_mode": "text/x-c++src",
   "file_extension": ".cpp",
   "mimetype": "text/x-c++src",
   "name": "C++14",
   "version": "14"
  }
 },
 "nbformat": 4,
 "nbformat_minor": 2
}
