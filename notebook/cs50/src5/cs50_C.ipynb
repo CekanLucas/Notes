{
 "cells": [
  {
   "cell_type": "code",
   "execution_count": 1,
   "metadata": {
    "vscode": {
     "languageId": "c"
    }
   },
   "outputs": [
    {
     "name": "stdout",
     "output_type": "stream",
     "text": [
      "HI!\n",
      "72 73 33\n"
     ]
    }
   ],
   "source": [
    "#include <stdio.h>\n",
    "\n",
    "int main(void) {\n",
    "  char c1 = 'H';\n",
    "  char c2 = 'I';\n",
    "  char c3 = '!';\n",
    "\n",
    "  printf(\"%c%c%c\\n\", c1, c2, c3);\n",
    "  printf(\"%i %i %i\\n\", c1, c2, c3);\n",
    "}"
   ]
  },
  {
   "cell_type": "code",
   "execution_count": 25,
   "metadata": {
    "vscode": {
     "languageId": "c"
    }
   },
   "outputs": [
    {
     "name": "stdout",
     "output_type": "stream",
     "text": [
      "0xff 0x7ffeea87c6c4 255 -360200504\n",
      "HI!\n",
      "0x7239fcc53052\n",
      "0x7239fcc53053\n",
      "H I !\n",
      "H I J\n",
      "\n",
      "HI! I! !\n",
      "\n",
      "H I !\n"
     ]
    }
   ],
   "source": [
    "// Pointers, Addresses in memory\n",
    "\n",
    "#include <stdio.h>\n",
    "\n",
    "int main(void) {\n",
    "  int n = 255;\n",
    "  int *p = &n;\n",
    "  printf(\"%p %p %i %i\\n\", n, p, *p, &p);\n",
    "  // %p is the format flag for pointer\n",
    "\n",
    "  char *s = \"HI!\"; // there is no such thing as string in C\n",
    "  printf(\"%s\\n\", s);\n",
    "  printf(\"%p\\n%p\\n%c %c %c\", &s[0], &s[1], s[0], s[1], s[2]);\n",
    "  printf(\"\\n%c %c %c\\n\", *s, *s + 1, *s + 2);\n",
    "  printf(\"\\n%s %s %s\\n\", s, s + 1, s + 2);\n",
    "  printf(\"\\n%c %c %c\\n\", *s, *s + 1, *(s + 2));\n",
    "}"
   ]
  },
  {
   "cell_type": "markdown",
   "metadata": {},
   "source": [
    "## Data Structures\n",
    "\n",
    "**FIFO** - first in first out *stack*\n",
    "**LIFO** - Last in first out *queue*\n",
    "  - **enqueue** add to end of queue\n",
    "  - **dequeue** remove element from front of queue"
   ]
  },
  {
   "cell_type": "code",
   "execution_count": 1,
   "metadata": {
    "vscode": {
     "languageId": "c"
    }
   },
   "outputs": [
    {
     "name": "stdout",
     "output_type": "stream",
     "text": [
      "1\n",
      "2\n",
      "3\n"
     ]
    }
   ],
   "source": [
    "// Implements a list of numbers with an array of fixed size\n",
    "\n",
    "#include <stdio.h>\n",
    "\n",
    "int main(void) {\n",
    "    // List of size 3\n",
    "    int list[3];\n",
    "\n",
    "    // Initialize list with numbers\n",
    "    list[0] = 1;\n",
    "    list[1] = 2;\n",
    "    list[2] = 3;\n",
    "\n",
    "    // Print list\n",
    "    for (int i = 0; i < 3; i++) {\n",
    "        printf(\"%i\\n\", list[i]);\n",
    "    }\n",
    "}\n",
    "\n",
    "/* So how can we do this with a array that grow? */"
   ]
  },
  {
   "cell_type": "code",
   "execution_count": 3,
   "metadata": {
    "vscode": {
     "languageId": "c"
    }
   },
   "outputs": [
    {
     "name": "stdout",
     "output_type": "stream",
     "text": [
      "1\n",
      "2\n",
      "3\n",
      "4\n"
     ]
    }
   ],
   "source": [
    "// Implements a list of numbers with an array of dynamic size\n",
    "/**\n",
    " * Better Comments Extension\n",
    " * * Important information is highlighted\n",
    " * ! Deprecated method, do not use\n",
    " * ? Should this method be exposed in the public API?\n",
    " * TODO Refactor this method so that it conforms to the API\n",
    " * @param myParam this parameter for this method\n",
    "  */\n",
    "\n",
    "#include <stdio.h>\n",
    "#include <stdlib.h> // malloc (memory allocate) and free\n",
    "\n",
    "int main(void) {\n",
    "    //// List of size 3\n",
    "    int *list = malloc(3 * sizeof(int));\n",
    "    if (list == NULL) {\n",
    "        return 1;\n",
    "    }\n",
    "\n",
    "    // Initialize list of size 3 with numbers\n",
    "    list[0] = 1;\n",
    "    list[1] = 2;\n",
    "    list[2] = 3;\n",
    "\n",
    "    // List of size 4\n",
    "    int *tmp = malloc(4 * sizeof(int));\n",
    "    if (tmp == NULL) { // something went wrong\n",
    "        free(list); //! need to free previously allocated memory\n",
    "        return 1;\n",
    "    }\n",
    "\n",
    "    // Copy list of size 3 into list of size 4\n",
    "    for (int i = 0; i < 3; i++) {\n",
    "        tmp[i] = list[i];\n",
    "    }\n",
    "\n",
    "    // Add number to list of size 4\n",
    "    tmp[3] = 4;\n",
    "\n",
    "    // Free list of size 3\n",
    "    free(list);\n",
    "\n",
    "    // Remember list of size 4\n",
    "    list = tmp;\n",
    "\n",
    "    // Print list\n",
    "    for (int i = 0; i < 4; i++) {\n",
    "        printf(\"%i\\n\", list[i]);\n",
    "    }\n",
    "\n",
    "    // Free list\n",
    "    free(list);\n",
    "    return 0;\n",
    "}\n"
   ]
  },
  {
   "cell_type": "code",
   "execution_count": null,
   "metadata": {
    "vscode": {
     "languageId": "c"
    }
   },
   "outputs": [],
   "source": [
    "typedef struct { //* definition example of a struct in C\n",
    "  string name;\n",
    "  string number;\n",
    "} person;\n",
    "\n",
    "//* Defining a node for a linked list\n",
    "typedef struct node { // need to define node here  \n",
    "  int number;\n",
    "  struct node *next; // otherwise node would not be defined here\n",
    "} node;"
   ]
  },
  {
   "cell_type": "code",
   "execution_count": 11,
   "metadata": {
    "tags": [
     "List3"
    ],
    "vscode": {
     "languageId": "c"
    }
   },
   "outputs": [
    {
     "name": "stdout",
     "output_type": "stream",
     "text": [
      "4\n",
      "1\n",
      "2\n"
     ]
    }
   ],
   "source": [
    "// Prepends numbers to a linked list, using while loop to print\n",
    "#include <stdio.h>\n",
    "#include <stdlib.h>\n",
    "\n",
    "typedef struct node\n",
    "{\n",
    "  int number;\n",
    "  struct node *next;\n",
    "} node;\n",
    "\n",
    "int main(int argc, char *argv[]) {\n",
    "\n",
    "  // Simulate command-line arguments\n",
    "  argc = 4; // Including the program name\n",
    "  argv = (char *[]){\" \", \"2\", \"1\", \"4\"};\n",
    "\n",
    "  // Memory for numbers\n",
    "  node *list = NULL;\n",
    "\n",
    "  // For each command-line argument\n",
    "  for (int i = 1; i < argc; i++) {\n",
    "    // Convert argument to int\n",
    "    int number = atoi(argv[i]); //? ascii to integer\n",
    "\n",
    "    // Allocate node for number\n",
    "    node *n = malloc(sizeof(node));\n",
    "    if (n == NULL) {\n",
    "        return 1;\n",
    "    }\n",
    "    n->number = number;\n",
    "    n->next = NULL;\n",
    "\n",
    "    // Prepend node to list\n",
    "    n->next = list;\n",
    "    list = n;\n",
    "  }\n",
    "\n",
    "  // Print numbers\n",
    "  node *ptr = list;\n",
    "  while (ptr != NULL) {\n",
    "    printf(\"%i\\n\", ptr->number);\n",
    "    ptr = ptr->next;\n",
    "  }\n",
    "\n",
    "  // Free memory\n",
    "  ptr = list;\n",
    "  while (ptr != NULL) {\n",
    "    node *next = ptr->next;\n",
    "    free(ptr);\n",
    "    ptr = next;\n",
    "  }\n",
    "}"
   ]
  }
 ],
 "metadata": {
  "kernelspec": {
   "display_name": "C",
   "language": "c",
   "name": "c"
  },
  "language_info": {
   "file_extension": ".c",
   "mimetype": "text/x-csrc",
   "name": "text/x-csrc"
  }
 },
 "nbformat": 4,
 "nbformat_minor": 2
}
