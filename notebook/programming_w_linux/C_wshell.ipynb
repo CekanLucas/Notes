{
 "cells": [
  {
   "cell_type": "markdown",
   "metadata": {},
   "source": [
    "# Programming with Linux\n",
    "*BY WROX*\n",
    "\n",
    "Normally when we are not working in notebook setting we need to compile the program\n",
    "\n",
    "```bash\n",
    "$ gcc -o hello hello.c\n",
    "$ ./hello\n",
    "```\n",
    "    Hello World"
   ]
  },
  {
   "cell_type": "code",
   "execution_count": 37,
   "metadata": {},
   "outputs": [
    {
     "name": "stdout",
     "output_type": "stream",
     "text": [
      "gcc (Ubuntu 9.4.0-1ubuntu1~20.04.2) 9.4.0\n",
      "Copyright (C) 2019 Free Software Foundation, Inc.\n",
      "This is free software; see the source for copying conditions.  There is NO\n",
      "warranty; not even for MERCHANTABILITY or FITNESS FOR A PARTICULAR PURPOSE.\n",
      "\n"
     ]
    },
    {
     "name": "stdout",
     "output_type": "stream",
     "text": [
      "Hello, world!\n"
     ]
    }
   ],
   "source": [
    "%%bash\n",
    "gcc --version\n",
    "\n",
    "# compile hello.c into hello binary then run it\n",
    "gcc -o hello hello.c \n",
    "./hello"
   ]
  },
  {
   "cell_type": "markdown",
   "metadata": {},
   "source": [
    "> If you forget the `-o` flag then compiled program would go to `a.out` meaning assembler output *this comes from early days of UNIX when people would play games as `a.out` to avoid being caught by system administrators*"
   ]
  },
  {
   "cell_type": "markdown",
   "metadata": {},
   "source": [
    "## Directory Structure\n",
    "\n",
    "### Applications\n",
    "\n",
    "`/usr/bin` supplied by system for general use including program development\n",
    "\n",
    "`/usr/local/bin` or `/opt` applications added by sys admins for a specific host computer or local network\n",
    "\n",
    "\n"
   ]
  },
  {
   "cell_type": "code",
   "execution_count": null,
   "metadata": {},
   "outputs": [],
   "source": [
    "%%bash\n",
    "echo \"--- /usr/bin ---\"\n",
    "ls /usr/bin | tail\n",
    "echo \"--- /usr/local/bin ---\"\n",
    "ls /usr/local/bin | tail"
   ]
  },
  {
   "cell_type": "markdown",
   "metadata": {},
   "source": [
    "### Header Files \n",
    "Usually located within `/usr/include` for C \n",
    "`usr/include/sys` adn `usr/include/linux`"
   ]
  },
  {
   "cell_type": "code",
   "execution_count": null,
   "metadata": {},
   "outputs": [],
   "source": [
    "%%bash\n",
    "echo \"--- /usr/include ---\"\n",
    "ls /usr/include | tail\n",
    "echo \"--- /usr/include/sys ---\"\n",
    "ls /usr/include/sys | tail\n",
    "echo \"--- /usr/include/linux ---\"\n",
    "ls /usr/include/linux | head"
   ]
  },
  {
   "cell_type": "code",
   "execution_count": null,
   "metadata": {},
   "outputs": [],
   "source": [
    "%%bash\n",
    "cd /usr/include\n",
    "grep EXIT_ *.h | head"
   ]
  },
  {
   "cell_type": "markdown",
   "metadata": {},
   "source": [
    "### Libraries\n",
    "**Libraries** are collections of precompiled functions that have been written to be reusable\n",
    "#### Stored In\n",
    "`/lib` and `/usr/lib`\n",
    "\n",
    "- `.a` for traditional static libraries\n",
    "- `.so` for shared libraries"
   ]
  },
  {
   "cell_type": "code",
   "execution_count": null,
   "metadata": {},
   "outputs": [],
   "source": [
    "%%bash\n",
    "echo \"--- /lib ---\"\n",
    "ls /lib | head\n",
    "echo \"--- /usr/lib ---\"\n",
    "ls /usr/lib | head"
   ]
  },
  {
   "cell_type": "markdown",
   "metadata": {},
   "source": [
    "## Static Libraries\n",
    "\n",
    "`fred.c`\n",
    "```c\n",
    "#include <stdio.h>\n",
    "void fred(int arg) {\n",
    "  printf(\"fred: you passed %d\\n\", arg);\n",
    "}\n",
    "```\n",
    "`bill.c`\n",
    "```c\n",
    "#include <stdio.h>\n",
    "void bill(char *arg) {\n",
    "  printf(\"bill: you passed %s\\n\", arg);\n",
    "}\n",
    "```"
   ]
  },
  {
   "cell_type": "code",
   "execution_count": null,
   "metadata": {},
   "outputs": [],
   "source": [
    "%%bash\n",
    "gcc -c bill.c fred.c\n",
    "ls *.o"
   ]
  },
  {
   "cell_type": "markdown",
   "metadata": {},
   "source": [
    "> `c` flag prevents compiler from created a complete program which is needed because `main` function has not been defined \n",
    "\n",
    "We should create a header file\n",
    "\n",
    "    lib.h\n",
    "\n",
    "```c\n",
    "/*\n",
    "This is lib.h. It declares the functions fred and bill for users\n",
    "*/\n",
    "void bill(char *);\n",
    "void fred(int);\n",
    "```\n",
    "\n",
    "We can include this header file in the calling program\n",
    "\n",
    "    program.c\n",
    "\n",
    "```c\n",
    "#include \"lib.h\"\n",
    "int main() {\n",
    "    bill(\"Hello World\");\n",
    "    exit(0);\n",
    "}\n",
    "```"
   ]
  },
  {
   "cell_type": "code",
   "execution_count": null,
   "metadata": {},
   "outputs": [],
   "source": [
    "%%bash\n",
    "gcc -c program.c\n",
    "gcc -o program program.o bill.o\n",
    "./program"
   ]
  },
  {
   "cell_type": "code",
   "execution_count": 1,
   "metadata": {},
   "outputs": [
    {
     "name": "stdout",
     "output_type": "stream",
     "text": [
      "Mon 02 Oct 2023 07:02:47 PM EDT\n"
     ]
    }
   ],
   "source": [
    "%%bash\n",
    "date"
   ]
  },
  {
   "cell_type": "markdown",
   "metadata": {},
   "source": [
    "## who command\n",
    "\n",
    "Explanation of the `who` command\n",
    "\n",
    "    username     terminal being used         date and time that each user logged in\n",
    "\n",
    "### Options\n",
    "`-H` `--heading` display headings\\\n",
    "`-q` `--count` quick who just display name and number of users\\\n",
    "`-b` Displays the time and date of the last reboot\\\n",
    "`--help` \n"
   ]
  },
  {
   "cell_type": "code",
   "execution_count": null,
   "metadata": {},
   "outputs": [],
   "source": [
    "%%sh\n",
    "who -H # lists the login names, terminal lines, and login times of the users who are currently logged on the system\n"
   ]
  },
  {
   "cell_type": "markdown",
   "metadata": {},
   "source": [
    "### Display Calender \n",
    "\n",
    "`cal`"
   ]
  },
  {
   "cell_type": "code",
   "execution_count": 26,
   "metadata": {},
   "outputs": [
    {
     "name": "stdout",
     "output_type": "stream",
     "text": [
      "    October 2023      \n",
      "Su Mo Tu We Th Fr Sa  \n",
      " 1  2  3  4  5  6  7  \n",
      " 8  9 10 11 12 13 14  \n",
      "15 16 17 18 19 20 21  \n",
      "22 23 24 25 26 27 28  \n",
      "29 30 31              \n",
      "                      \n"
     ]
    }
   ],
   "source": [
    "%%sh\n",
    "cal"
   ]
  },
  {
   "cell_type": "markdown",
   "metadata": {},
   "source": [
    "`learn` not installed on this system\n",
    "`help` much better than learn"
   ]
  },
  {
   "cell_type": "code",
   "execution_count": 29,
   "metadata": {},
   "outputs": [
    {
     "name": "stdout",
     "output_type": "stream",
     "text": [
      "GNU bash, version 5.0.17(1)-release (x86_64-pc-linux-gnu)\n",
      "These shell commands are defined internally.  Type `help' to see this list.\n",
      "Type `help name' to find out more about the function `name'.\n",
      "Use `info bash' to find out more about the shell in general.\n",
      "Use `man -k' or `info' to find out more about commands not in this list.\n",
      "\n",
      "A star (*) next to a name means that the command is disabled.\n",
      "\n",
      " job_spec [&]                            history [-c] [-d offset] [n] or hist>\n",
      " (( expression ))                        if COMMANDS; then COMMANDS; [ elif C>\n",
      " . filename [arguments]                  jobs [-lnprs] [jobspec ...] or jobs >\n",
      " :                                       kill [-s sigspec | -n signum | -sigs>\n",
      " [ arg... ]                              let arg [arg ...]\n",
      " [[ expression ]]                        local [option] name[=value] ...\n",
      " alias [-p] [name[=value] ... ]          logout [n]\n",
      " bg [job_spec ...]                       mapfile [-d delim] [-n count] [-O or>\n",
      " bind [-lpsvPSVX] [-m keymap] [-f file>  popd [-n] [+N | -N]\n",
      " break [n]                               printf [-v var] format [arguments]\n",
      " builtin [shell-builtin [arg ...]]       pushd [-n] [+N | -N | dir]\n",
      " caller [expr]                           pwd [-LP]\n",
      " case WORD in [PATTERN [| PATTERN]...)>  read [-ers] [-a array] [-d delim] [->\n",
      " cd [-L|[-P [-e]] [-@]] [dir]            readarray [-d delim] [-n count] [-O >\n",
      " command [-pVv] command [arg ...]        readonly [-aAf] [name[=value] ...] o>\n",
      " compgen [-abcdefgjksuv] [-o option] [>  return [n]\n",
      " complete [-abcdefgjksuv] [-pr] [-DEI]>  select NAME [in WORDS ... ;] do COMM>\n",
      " compopt [-o|+o option] [-DEI] [name .>  set [-abefhkmnptuvxBCHP] [-o option->\n",
      " continue [n]                            shift [n]\n",
      " coproc [NAME] command [redirections]    shopt [-pqsu] [-o] [optname ...]\n",
      " declare [-aAfFgilnrtux] [-p] [name[=v>  source filename [arguments]\n",
      " dirs [-clpv] [+N] [-N]                  suspend [-f]\n",
      " disown [-h] [-ar] [jobspec ... | pid >  test [expr]\n",
      " echo [-neE] [arg ...]                   time [-p] pipeline\n",
      " enable [-a] [-dnps] [-f filename] [na>  times\n",
      " eval [arg ...]                          trap [-lp] [[arg] signal_spec ...]\n",
      " exec [-cl] [-a name] [command [argume>  true\n",
      " exit [n]                                type [-afptP] name [name ...]\n",
      " export [-fn] [name[=value] ...] or ex>  typeset [-aAfFgilnrtux] [-p] name[=v>\n",
      " false                                   ulimit [-SHabcdefiklmnpqrstuvxPT] [l>\n",
      " fc [-e ename] [-lnr] [first] [last] o>  umask [-p] [-S] [mode]\n",
      " fg [job_spec]                           unalias [-a] name [name ...]\n",
      " for NAME [in WORDS ... ] ; do COMMAND>  unset [-f] [-v] [-n] [name ...]\n",
      " for (( exp1; exp2; exp3 )); do COMMAN>  until COMMANDS; do COMMANDS; done\n",
      " function name { COMMANDS ; } or name >  variables - Names and meanings of so>\n",
      " getopts optstring name [arg]            wait [-fn] [id ...]\n",
      " hash [-lr] [-p pathname] [-dt] [name >  while COMMANDS; do COMMANDS; done\n",
      " help [-dms] [pattern ...]               { COMMANDS ; }\n"
     ]
    }
   ],
   "source": [
    "%%bash\n",
    "help"
   ]
  },
  {
   "cell_type": "code",
   "execution_count": 36,
   "metadata": {},
   "outputs": [
    {
     "name": "stdout",
     "output_type": "stream",
     "text": [
      "   September 1752     \n",
      "Su Mo Tu We Th Fr Sa  \n",
      "       1  2 14 15 16  \n",
      "17 18 19 20 21 22 23  \n",
      "24 25 26 27 28 29 30  \n",
      "                      \n",
      "                      \n",
      "                      \n"
     ]
    }
   ],
   "source": [
    "%%sh\n",
    "cal 9 1752 # see manual page below for explanation\n",
    "\n",
    "# An unusual calendar is printed for September 1752. That is the month 11 days were skipped to make up for lack of leap year adjustments. To see this calendar, type: cal 9 1752\n"
   ]
  },
  {
   "cell_type": "markdown",
   "metadata": {},
   "source": [
    "## Unix system - Navigating the directory structure\n",
    "\n",
    "## Make directory\n",
    "\n",
    "`mkdir` *newDirectoryName* - make directory command creates a new subdirectory under your working directory or any other directory you specify as part of the command\n",
    "\n",
    "### Create with levels \n",
    "\n",
    "`-p` Use this option with mkdir to also create other levels\n",
    "\n",
    "```sh\n",
    "mkdir -p ./a/b/c/d\n",
    "```\n",
    "      a\n",
    "       \\\n",
    "        b    Directory Structure after command\n",
    "         \\\n",
    "          c\n",
    "           \\\n",
    "            d\n",
    "\n",
    "## Example of using Directory Commands"
   ]
  },
  {
   "cell_type": "code",
   "execution_count": 1,
   "metadata": {},
   "outputs": [
    {
     "name": "stdout",
     "output_type": "stream",
     "text": [
      "/home/dubi/projects/Notes/notebook/programming_w_linux/test\n",
      "newDirectory\n",
      "newDirectory2\n"
     ]
    }
   ],
   "source": [
    "%%sh\n",
    "\n",
    "mkdir -p ./test/newDirectory # Create a test directory with subdirectory newDirectory\n",
    "cd test # change working directory to the newly created test directory\n",
    "pwd # print working directory \n",
    "mkdir newDirectory2 # now create a new directory in the test directory\n",
    "ls # list command should display the contents of the test directory so the 2 newDirectories\n",
    "# rm -r ./test # remove recursively (-r option) to delete test directory with its contents\n",
    "\n",
    "rmdir newDirectory # remove directory (works because directory is empty)\n",
    "rmdir newDirectory2 # remove directory (works because directory is empty)\n",
    "ls # should be empty directory\n",
    "\n",
    "cd ../ #change directory up one level\n",
    "rmdir test # remove directory (works because directory is empty)"
   ]
  }
 ],
 "metadata": {
  "jupytext": {
   "formats": "ipynb,md:myst"
  },
  "kernelspec": {
   "display_name": "Python 3 (ipykernel)",
   "language": "python",
   "name": "python3"
  },
  "language_info": {
   "codemirror_mode": {
    "name": "ipython",
    "version": 3
   },
   "file_extension": ".py",
   "mimetype": "text/x-python",
   "name": "python",
   "nbconvert_exporter": "python",
   "pygments_lexer": "ipython3",
   "version": "3.8.10"
  }
 },
 "nbformat": 4,
 "nbformat_minor": 2
}
