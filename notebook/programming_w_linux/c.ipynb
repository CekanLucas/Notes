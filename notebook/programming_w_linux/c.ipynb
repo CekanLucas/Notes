{
 "cells": [
  {
   "cell_type": "markdown",
   "metadata": {},
   "source": [
    "# Programming with Linux\n",
    "*BY WROX*\n",
    "\n",
    "Normally when we are not working in notebook setting we need to compile the program\n",
    "\n",
    "```bash\n",
    "$ gcc -o hello hello.c\n",
    "$ ./hello\n",
    "```\n",
    "    Hello World"
   ]
  },
  {
   "cell_type": "code",
   "execution_count": 8,
   "metadata": {},
   "outputs": [
    {
     "name": "stdout",
     "output_type": "stream",
     "text": [
      "Hello, world!\n"
     ]
    }
   ],
   "source": [
    "# include <stdio.h>\n",
    "\n",
    "int main() {\n",
    "    printf(\"Hello, world!\\n\");\n",
    "    return 0;\n",
    "}"
   ]
  },
  {
   "cell_type": "code",
   "execution_count": 4,
   "metadata": {},
   "outputs": [
    {
     "name": "stdout",
     "output_type": "stream",
     "text": [
      "Hello world!\n",
      "But with different return code\n"
     ]
    }
   ],
   "source": [
    "#include <stdio.h>\n",
    "#include <stdlib.h>\n",
    "\n",
    "int main() {\n",
    "  printf(\"Hello world!\\nBut with different return code\\n\");\n",
    "  exit(0); // works from stdlib.h\n",
    "}"
   ]
  },
  {
   "cell_type": "markdown",
   "metadata": {},
   "source": [
    "## Review of C\n",
    "We have `for` `while` and `do` `while` loops\n",
    "\n",
    "### Arrays\n",
    "#### Declaration\n",
    "\n",
    "    dataType arrayName [arraySize]; // here is how we declare a array\n",
    "\n",
    "### Format Strings\n",
    "\n",
    "`%c` : char\\\n",
    "`%s` : string\\\n",
    "`%f` : float\n",
    "\n",
    "### Pointer\n",
    "\n",
    "Pointers enable programs to\n",
    "- accomplish *pass-by-reference*\n",
    "- pass functions between functions\n",
    "- manipulate strings and arrays\n",
    "- create and manipulate dynamic data structures\\\n",
    "  grow and shrink at execution time\\\n",
    "  such as linked lists, queues, stacks and trees\n",
    "\n",
    "A pointer <font color=\"yellow\">indirectly references</font> a variable\\\n",
    "as supposed to a normal variable which *directly references a variable*\n",
    "\n",
    "**The `&` and `*` are *compliments* of one another**\n",
    "\n",
    "#### Generic Pointer\n",
    "\n",
    "Pointers of the same type may be assigned to one another\n",
    "\n",
    "**exception** pointer to void `void *` a pointer which can represent <u>any</u> pointer type\n",
    "\n",
    "### Character and Strings\n",
    "\n",
    "Every character can be treated as a `int` value which can be represented by *single quotes*\n",
    "\n",
    "**String are Null Terminated**\\\n",
    "  Every string must end with the **null character** `'\\0'`\n",
    "\n",
    "**String Literals should not be Modified**\\\n",
    "  C standard states that a string literal is **immutable** - *not modifiable*\\\n",
    "  if you need to modify a string use character array\n",
    "\n",
    "### Strings and Pointer\n",
    "- You can access a string via a **pointer** to its <u>first</u> character\n",
    "- A strings *value* is the *address of the its first character*\n",
    "- Strings are like because they are **arrays of characters**\n",
    "\n",
    "### Character Handling Library\n",
    "`<ctype.h>` contains functions that test and manipulate character data\\\n",
    "Each function receives an **unsigned char** *as a int* or `EOF`\n",
    "\n",
    "`EOF` is typically represented by value `-1`\n",
    "\n",
    "```c\n",
    "// returns true value or 0 (false) otherwise\n",
    "int isblank(int c);\n",
    "int isspace(int c); // test for \\n \\f \\r \\t \\v \n",
    "int iscntrl(int c);\n",
    "int ispunct(int c);\n",
    "int isprint(int c); // tests for visible character including space\n",
    "int isgraph(int c); // tests for printing character not including space\n",
    "int isdigit(int c);\n",
    "int isalpha(int c);\n",
    "int isalnum(int c); // upper or lower case letter or digit\n",
    "int isxdigit(int c); // if c is a hexadecimal digit character\n",
    "int islower(int c); \n",
    "int isupper(int c);\n",
    "int tolower(int c); // returns c as a lowercase letter\n",
    "int toupper(int c);\n",
    "```\n",
    "### String Conversion Function\n",
    "`<stdlib.h>` contains functions that convert strings to integer and floating point values\n",
    "\n",
    "```c\n",
    "// Converts the string nPtr to double (String to Digit)\n",
    "double strtod(const char *nPtr, char **endPtr); \n",
    "\n",
    "// Converts the string nPtr to long (String to Long)\n",
    "long strtol(const char *nPtr, char **endPtr, int base);\n",
    "\n",
    "// Converts the string nPtr to unsigned long (String to Unsigned Long)\n",
    "unsigned long strtoul(const char *nPtr, char **endPtr, int base);\n",
    "```\n",
    "\n",
    "### Standard Input Output Library Function\n",
    "\n",
    "```c\n",
    "// Returns the next character from the standard input as a integer\n",
    "int getchar(void); \n",
    "\n",
    "/* \n",
    "Reads characters from the specified stream into the array s\n",
    "until a newline or end-of-file character is encountered\n",
    "or until n-1 bytes are read\n",
    " */\n",
    "char *fgets(char *s, int n, FILE *stream);\n",
    "\n",
    "int putchar(int c); // prints the character stored in c and returns it as an integer\n",
    "\n",
    "// Prints the string s followed by a newline character\n",
    "// returns the nonzero integer if successful, or EOF if an error occurs\n",
    "int puts(const char *s); \n",
    "\n",
    "// Equivalent to printf but the output is stored in the array s instead of printed to screen\n",
    "// returns the number of characters written to s, or EOF if an error occurs\n",
    "int sprintf(char *s, const char *format, ...);\n",
    "\n",
    "\n",
    "// Equivalent to scanf but the input is read from the array s rather than keyboard\n",
    "// returns the number of items successfully read by the function, or EOF if an error occurs\n",
    "int sscanf(char *s, const char *format, ...);\n",
    "```\n",
    "\n",
    "### String-Manipulation Functions of the String-Handling Library\n",
    "\n",
    "The string-handling library `<string.h>` provides functions for\n",
    "- copying strings\n",
    "- concatenating strings\n",
    "- comparing strings\n",
    "- searching strings for characters and other strings\n",
    "- *tokenizing strings* separating strings into logical pieces\n",
    "- determining the length of strings\n",
    "\n",
    "```c\n",
    "// Other than strncpy each function appends the null character to its result\n",
    "\n",
    "char *strcpy(char *s1, const char *s2) // copies string s2 into array s1 and returns s1\n",
    "\n",
    "\n",
    "// copies at most n characters of strong s2 into array s1 and returns s1\n",
    "char *strncpy(char *s1, const char *s2, size_t n)\n",
    "\n",
    "// Appends string s2 to array s1 and returns s1\n",
    "// String s2's first character overwrites s1's terminating null character\n",
    "char *strcat(char *s1, const char *s2) \n",
    "\n",
    "// Appends at most n characters of string s2 to array s1 and returns s1\n",
    "// String s2's first character overwrites s1's terminating null character\n",
    "char *strncat(char *s1, const char *s2) \n",
    "```"
   ]
  },
  {
   "cell_type": "code",
   "execution_count": 13,
   "metadata": {},
   "outputs": [
    {
     "name": "stdout",
     "output_type": "stream",
     "text": [
      "blue b     blue\n",
      "The string \"52.2% are admitted\" is converted to the\n",
      "double value 52.20 and the string \"% are admitted\"\n"
     ]
    }
   ],
   "source": [
    "#include <stdio.h>\n",
    "#include <ctype.h> // character-handling library\n",
    "#include <stdlib.h> // string-conversion function of general utilities library\n",
    "#include <string.h> // string-processsing functions\n",
    "\n",
    "int main() {\n",
    "  // various ways to initialize strings char array\n",
    "  char color[] = \"blue\"; // this is modifiable\n",
    "  const char *colorPtr = \"blue\"; // points to 'b' and is not modifiable\n",
    "  char color2[] = {'b', 'l', 'u', 'e', '\\0'}; // don't forget null terminating character\n",
    "\n",
    "\n",
    "  printf(\"%-5s\", color); \n",
    "  printf(\"%-5c\", *colorPtr); // string %s would not work only char %c\n",
    "  printf(\"%5s\", color2); \n",
    "\n",
    "  const char *string = \"52.2% are admitted\";\n",
    "  char *stringPtr = NULL;\n",
    "\n",
    "  double d = strtod(string, &stringPtr);\n",
    "\n",
    "  printf(\"\\nThe string \\\"%s\\\" is converted to the\\n\", string);\n",
    "  printf(\"double value %.2f and the string \\\"%s\\\"\\n\", d, stringPtr);\n",
    "}"
   ]
  },
  {
   "cell_type": "code",
   "execution_count": 2,
   "metadata": {},
   "outputs": [
    {
     "name": "stdout",
     "output_type": "stream",
     "text": [
      "Enter an integer and a double:\n"
     ]
    },
    {
     "name": "stdout",
     "output_type": "stream",
     "text": [
      "The formatted output stored in array s is:\n",
      "integer:   289\n",
      "double:  87.38\n"
     ]
    }
   ],
   "source": [
    "// Using function sprintf\n",
    "#include <stdio.h>\n",
    "#define SIZE 80\n",
    "\n",
    "int main(void) {\n",
    "  int x = 0;\n",
    "  double y = 0.0;\n",
    "\n",
    "  puts(\"Enter an integer and a double:\");\n",
    "  scanf(\"%d%lf\", &x, &y);\n",
    "\n",
    "  char s[SIZE] = \"\"; // create char array\n",
    "  sprintf(s, \"integer:%6d\\ndouble:%7.2f\", x, y);\n",
    "\n",
    "  printf(\"The formatted output stored in array s is:\\n%s\\n\", s);\n",
    "}"
   ]
  },
  {
   "cell_type": "code",
   "execution_count": 5,
   "metadata": {},
   "outputs": [
    {
     "name": "stdout",
     "output_type": "stream",
     "text": [
      "The values stored in character array s are:\n",
      "integer: 31298\n",
      "double:  87.375\n"
     ]
    }
   ],
   "source": [
    "// Using function sscanf\n",
    "#include <stdio.h>\n",
    "\n",
    "int main(void) {\n",
    "  char s[] = \"31298 87.375\";\n",
    "  int x = 0;\n",
    "  double y = 0;\n",
    "\n",
    "  sscanf(s, \"%d%lf\", &x, &y);\n",
    "  puts(\"The values stored in character array s are:\");\n",
    "  printf(\"integer:%6d\\ndouble:%8.3f\\n\", x, y);\n",
    "}"
   ]
  },
  {
   "cell_type": "code",
   "execution_count": 8,
   "metadata": {},
   "outputs": [
    {
     "name": "stdout",
     "output_type": "stream",
     "text": [
      "5\n",
      "0x5"
     ]
    }
   ],
   "source": [
    "#include <stdio.h>\n",
    "\n",
    "int main(void) {\n",
    "  int y = 5;\n",
    "  int *yPtr = &y;\n",
    "  printf(\"%d\\n%p\", *yPtr, *yPtr);\n",
    "  /* %p output a memory location as a hexadecimal integer */\n",
    "}"
   ]
  },
  {
   "cell_type": "code",
   "execution_count": 3,
   "metadata": {},
   "outputs": [
    {
     "name": "stdout",
     "output_type": "stream",
     "text": [
      "Element   Value\n",
      "      0       0\n",
      "      1       1\n",
      "      2       2\n",
      "      3       3\n",
      "      4       4\n"
     ]
    }
   ],
   "source": [
    "#include <stdio.h>\n",
    "#include <stddef.h>\n",
    "\n",
    "int main(void) {\n",
    "  int n[5]; // n is an array of five integers\n",
    "\n",
    "  // set elements of array n to 0\n",
    "  for (size_t i = 0; i < 5; ++i)\n",
    "    n[i] = i; // set element at location i to 0\n",
    "  \n",
    "  printf(\"%s%8s\\n\", \"Element\", \"Value\");\n",
    "  \n",
    "  // output contents of array n in tabular format\n",
    "  for (size_t i = 0; i < 5; ++i)\n",
    "    printf(\"%7zu%8d\\n\", i, n[i]);\n",
    "}"
   ]
  },
  {
   "cell_type": "code",
   "execution_count": 4,
   "metadata": {},
   "outputs": [
    {
     "name": "stdout",
     "output_type": "stream",
     "text": [
      " array = 0x7ffc930cde63\n",
      "&array[0] = 0x7ffc930cde63\n",
      " &array = 0x7ffc930cde63\n"
     ]
    }
   ],
   "source": [
    "// Array name is the same as the address of the array’s first element.\n",
    "#include <stdio.h>\n",
    "\n",
    "int main(void) {\n",
    "  char array[5] = \"\"; // define an array of size 5\n",
    "\n",
    "  printf(\" array = %p\\n&array[0] = %p\\n &array = %p\\n\", array, &array[0], &array);\n",
    "}"
   ]
  },
  {
   "cell_type": "code",
   "execution_count": 7,
   "metadata": {},
   "outputs": [
    {
     "name": "stdout",
     "output_type": "stream",
     "text": [
      "\u001b[1;36m equal"
     ]
    }
   ],
   "source": [
    "#include <stdio.h>\n",
    "\n",
    "// if else\n",
    "\n",
    "int main() {\n",
    "  // int arr[3];\n",
    "  // arr[0] = 1;\n",
    "  // arr[1] = 2;\n",
    "  // arr[2] = 1;\n",
    "\n",
    "  int arr[] = {1,2,1}; // more compact array initialization \n",
    "\n",
    "  if (arr[2] > arr[1]) {\n",
    "    printf(\"\\x1b[1;32m true\");\n",
    "  } else if (arr[0] == arr[2]) { // yup C can do else if clauses\n",
    "    printf(\"\\x1b[1;36m equal\");\n",
    "  } else {\n",
    "    printf(\"\\x1b[1;31m false\");\n",
    "  }\n",
    "  return 0;\n",
    "}"
   ]
  },
  {
   "cell_type": "code",
   "execution_count": 12,
   "metadata": {},
   "outputs": [
    {
     "name": "stdout",
     "output_type": "stream",
     "text": [
      "Enter three integers: "
     ]
    },
    {
     "name": "stdout",
     "output_type": "stream",
     "text": [
      "Maximum is: 5\n"
     ]
    }
   ],
   "source": [
    "// Finding the maximum of three integers.\n",
    "#include <stdio.h>\n",
    "\n",
    "int maximum(int x, int y, int z); // function prototype\n",
    "\n",
    "int main(void) {\n",
    "  int number1 = 0; // first integer entered by the user\n",
    "  int number2 = 0; // second integer entered by the user\n",
    "  int number3 = 0; // third integer entered by the user\n",
    "\n",
    "  printf(\"%s\", \"Enter three integers: \");\n",
    "  scanf(\"%d%d%d\", &number1, &number2, &number3);\n",
    "\n",
    "  // number1, number2 and number3 are arguments\n",
    "  // to the maximum function call\n",
    "  printf(\"Maximum is: %d\\n\", maximum(number1, number2, number3));\n",
    "  return 0;\n",
    "}\n",
    "\n",
    "// Function maximum definition\n",
    "int maximum(int x, int y, int z) {\n",
    "  int max = x; // assume x is largest\n",
    "\n",
    "  if (y > max) // if y is larger than max,\n",
    "    max = y; // assign y to max\n",
    "\n",
    "  if (z > max) // if z is larger than max,\n",
    "    max = z; // assign z to max\n",
    "\n",
    "  return max; // max is largest value\n",
    "}\n"
   ]
  },
  {
   "cell_type": "code",
   "execution_count": 46,
   "metadata": {},
   "outputs": [
    {
     "name": "stdout",
     "output_type": "stream",
     "text": [
      "random six sided die :\t 5\n",
      "random six sided die :\t 4\n",
      "random six sided die :\t 3\n",
      "random six sided die :\t 2\n",
      "random six sided die :\t 1\n",
      "random six sided die :\t 5\n",
      "random six sided die :\t 4\n",
      "random six sided die :\t 6\n",
      "random six sided die :\t 6\n",
      "random six sided die :\t 6\n"
     ]
    }
   ],
   "source": [
    "#include <stdio.h>\n",
    "#include <stdlib.h> // random function here\n",
    "#include <time.h> // time function here\n",
    "\n",
    "\n",
    "int main() {\n",
    "  // int value = rand();\n",
    "  srand(time(NULL)); // seed random number generator with time\n",
    "  for (int i = 1; i <= 10; ++i)\n",
    "    printf(\"random six sided die :\\t %d\\n\", 1 + (rand() % 6));\n",
    "}\n",
    "\n",
    "/* rand() generates pseudo-random values but srand(int seed) uses a seed */"
   ]
  },
  {
   "cell_type": "code",
   "execution_count": 1,
   "metadata": {},
   "outputs": [
    {
     "name": "stdout",
     "output_type": "stream",
     "text": [
      "\u001b[34mAddition of two numbers\t=\t\u001b[1;33m8"
     ]
    }
   ],
   "source": [
    "#include <stdio.h>\n",
    "\n",
    "// Take user input\n",
    "\n",
    "int main() {\n",
    "  int a = 5;\n",
    "  int b = 3;\n",
    "  int c = a + b;\n",
    "  printf(\"\\x1b[34mAddition of two numbers\\t=\\t\\x1b[1;33m%d\", c);\n",
    "\n",
    "  return 0;\n",
    "}"
   ]
  },
  {
   "cell_type": "code",
   "execution_count": null,
   "metadata": {},
   "outputs": [],
   "source": []
  },
  {
   "cell_type": "code",
   "execution_count": 1,
   "metadata": {},
   "outputs": [
    {
     "name": "stdout",
     "output_type": "stream",
     "text": [
      "\u001b[35mEnter the value of a\u001b[1;33m\t"
     ]
    },
    {
     "name": "stdout",
     "output_type": "stream",
     "text": [
      "10\n",
      "\u001b[35mEnter the value of b\u001b[1;33m\t11\n",
      "\n",
      "\u001b[34mAddition\t=\t\u001b[1;33m 10 + 11 = 21\n",
      "\n",
      "\u001b[0m"
     ]
    }
   ],
   "source": [
    "#include <stdio.h>\n",
    "\n",
    "int sum(int num1, int num2); // function declaration\n",
    "\n",
    "// Take user input\n",
    "int main()\n",
    "{\n",
    "\n",
    "  int a, b, c;\n",
    "\n",
    "  printf(\"\\x1b[35mEnter the value of a\\x1b[1;33m\\t\");\n",
    "  scanf(\"%d\", &a);\n",
    "  printf(\"%d\", a);\n",
    "\n",
    "  printf(\"\\n\\x1b[35mEnter the value of b\\x1b[1;33m\\t\");\n",
    "  scanf(\"%d\", &b);\n",
    "  printf(\"%d\", b);\n",
    "\n",
    "  c = sum(a, b);\n",
    "\n",
    "  printf(\"\\n\\n\\x1b[34mAddition\\t=\\t\\x1b[1;33m %d + %d = %d\\n\\n\\x1b[0m\", a, b, c);\n",
    "\n",
    "  return 0;\n",
    "}\n",
    "\n",
    "int sum(int num1, int num2)\n",
    "{\n",
    "  return num1 + num2;\n",
    "}"
   ]
  },
  {
   "cell_type": "markdown",
   "metadata": {},
   "source": [
    "      read a character\n",
    "        while( character is not end-of-file indicator)\n",
    "          output the character just read\n",
    "          read a character"
   ]
  },
  {
   "cell_type": "code",
   "execution_count": 5,
   "metadata": {},
   "outputs": [
    {
     "name": "stdout",
     "output_type": "stream",
     "text": [
      "Hello\n",
      "my n"
     ]
    }
   ],
   "source": [
    "#include <stdio.h>\n",
    "\n",
    "int main() {\n",
    "  int c;\n",
    "  c = getchar();\n",
    "  while (c != 'a') {\n",
    "    putchar(c); // prints contents of c to screen\n",
    "    c = getchar();\n",
    "  }\n",
    "  // printf(\"%s\\a\", 'a');\n",
    "  // putchar(EOF);\n",
    "  return 0;\n",
    "}"
   ]
  },
  {
   "cell_type": "markdown",
   "metadata": {},
   "source": [
    "### Enums\n",
    "\n",
    "> These are a set of integer constants\n",
    "Values of `enum` start with 0 and increment by 1\n",
    "\n",
    "### Storage Classes\n",
    "**Storage-class specifiers** `auto`, `register`, `extern`, `static`\n",
    "\n",
    "1) #### auto - declares that a variable has automatic storage duration\n",
    "  - local variables have automatic storage duration by default, so rarely used\n",
    "  - Created when program control enters the block in which they’re defined\n",
    "  - Exist while the block is active\n",
    "  - Destroyed when program control exits the block"
   ]
  },
  {
   "cell_type": "markdown",
   "metadata": {},
   "source": [
    "### File Processing\n",
    "\n",
    "Opening a file returns a pointer to a `FILE` structure\\\n",
    "*defined in* `<stdio.h>`\n",
    "\n",
    "May include a **file descriptor**:\\ \n",
    "an integer index into an operating system array called the open file table\n",
    "\n",
    "▪ Each element contains a file control block (FCB) \n",
    "information the operating system uses to administer a particular file\n",
    "\n",
    "– Manipulate the standard input, standard output and standard error\n",
    "streams using the FILE pointers stdin, stdout and stderr.\n",
    "• File-Processing Function fgetc\n",
    "– Like getchar, but reads one character from the file specified by\n",
    "its FILE pointer argument\n"
   ]
  },
  {
   "cell_type": "markdown",
   "metadata": {},
   "source": [
    "## Programming Assignment \n",
    "For *Programming Languages Course*\n",
    "\n",
    "Please watch the assignment instruction video before working on this assignment. \n",
    "\n",
    "Given the grammar for a hypothetical imperative programming language,\\\n",
    "write a program that analyzes the syntax of input programs for the language.\\\n",
    "Your program should read an input test program from a file\\\n",
    "and then determine whether or not it contains any syntax errors\\\n",
    "The program does not have to show where the syntax error occurred\\\n",
    "or what kind of error it was. You can use any programming language you prefer to write the program.\n",
    "\n",
    "In your program:\n",
    "\n",
    "    Implement a lexical analyzer as a subprogram of your program. \n",
    "    Each time the lexical analyzer is called, it should return the next lexeme and its token code.\n",
    "    Implement a parser based on the following EBNF rules. \n",
    "    Create a subprogram for each non-terminal symbol which should parse only sentences that can be generated by the non-terminal.\n",
    "\n",
    "```ebnf\n",
    "<program>               -> program begin <statement_list> end\n",
    "<statement_list>        -> <statement> {;<statement>}\n",
    "<statement>             -> <assignment_statement> | <if_statement> | <loop_statement>\n",
    "<assignment_statement>  -> <variable> = <expression>\n",
    "<variable>              -> identifier (An identifier is a string that begins with a letter followed by 0 or more letters and/or digits)\n",
    "<expression>            -> <term> { (+|-) <term>}\n",
    "<term>                  -> <factor> {(* | /) <factor> }\n",
    "<factor>                -> identifier | int_constant | (<expr>)\n",
    "<if_statement>          -> if (<logic_expression>) then <statement>\n",
    "<logic_expression>      -> <variable> (< | >) <variable> (Assume that logic expressions have only less than or greater than operators)\n",
    "<loop_statement>        -> loop (<logic_expression>) <statement>\n",
    "```\n",
    "\n",
    "Upload the following:\n",
    "\n",
    "1. All your source code\n",
    "\n",
    "2. Screen dumps of the execution of your program\\\n",
    "   The file below contains 6 input program examples which you need to use to test your parser\\\n",
    "   Run your parser using every input program\\\n",
    "   In each screen dump, show the input test file (containing one input program example) and the output generated by your parser\\\n",
    "   <font color=\"red\">If you do not upload the screen dumps, your assignment will be considered incomplete and marks will be deducted</font>\n",
    "   "
   ]
  },
  {
   "cell_type": "markdown",
   "metadata": {},
   "source": []
  }
 ],
 "metadata": {
  "kernelspec": {
   "display_name": "C",
   "language": "c",
   "name": "c"
  },
  "language_info": {
   "file_extension": ".c",
   "mimetype": "text/x-csrc",
   "name": "c"
  }
 },
 "nbformat": 4,
 "nbformat_minor": 2
}
