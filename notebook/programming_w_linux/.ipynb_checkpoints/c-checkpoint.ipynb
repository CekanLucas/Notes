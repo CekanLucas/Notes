{
 "cells": [
  {
   "cell_type": "markdown",
   "metadata": {},
   "source": [
    "# Programming with Linux\n",
    "*BY WROX*\n",
    "\n",
    "Normally when we are not working in notebook setting we need to compile the program\n",
    "\n",
    "```bash\n",
    "$ gcc -o hello hello.c\n",
    "$ ./hello\n",
    "```\n",
    "    Hello World"
   ]
  },
  {
   "cell_type": "code",
   "execution_count": 8,
   "metadata": {},
   "outputs": [
    {
     "name": "stdout",
     "output_type": "stream",
     "text": [
      "Hello, world!\n"
     ]
    }
   ],
   "source": [
    "# include <stdio.h>\n",
    "\n",
    "int main() {\n",
    "    printf(\"Hello, world!\\n\");\n",
    "    return 0;\n",
    "}"
   ]
  },
  {
   "cell_type": "code",
   "execution_count": 4,
   "metadata": {},
   "outputs": [
    {
     "name": "stdout",
     "output_type": "stream",
     "text": [
      "Hello world!\n",
      "But with different return code\n"
     ]
    }
   ],
   "source": [
    "#include <stdio.h>\n",
    "#include <stdlib.h>\n",
    "\n",
    "int main() {\n",
    "  printf(\"Hello world!\\nBut with different return code\\n\");\n",
    "  exit(0); // works from stdlib.h\n",
    "}"
   ]
  },
  {
   "cell_type": "markdown",
   "metadata": {},
   "source": [
    "## Review of C\n",
    "We have `for` `while` and `do` `while` loops\n",
    "\n",
    "### Arrays\n",
    "#### Declaration\n",
    "\n",
    "    dataType arrayName [arraySize]; // here is how we declare a array\n",
    "\n",
    "### Format Strings\n",
    "\n",
    "`%c` : char\n",
    "`%s` : string\n",
    "`%f` : float\n",
    "\n"
   ]
  },
  {
   "cell_type": "code",
   "execution_count": 1,
   "metadata": {},
   "outputs": [
    {
     "name": "stdout",
     "output_type": "stream",
     "text": [
      "\u001b[1;31m false"
     ]
    }
   ],
   "source": [
    "#include <stdio.h>\n",
    "\n",
    "// if else\n",
    "\n",
    "int main() {\n",
    "  // int arr[3];\n",
    "  // arr[1] = 1;\n",
    "  // arr[2] = 2;\n",
    "  // arr[3] = 1;\n",
    "\n",
    "  int arr[] = {1,2,1}; // more compact array initialization \n",
    "\n",
    "  if (arr[2] >= arr[1]) {\n",
    "    printf(\"\\x1b[1;32m true\");\n",
    "  } else {\n",
    "    printf(\"\\x1b[1;31m false\");\n",
    "  }\n",
    "  return 0;\n",
    "}"
   ]
  },
  {
   "cell_type": "code",
   "execution_count": 1,
   "metadata": {},
   "outputs": [
    {
     "name": "stdout",
     "output_type": "stream",
     "text": [
      "\u001b[34mAddition of two numbers\t=\t\u001b[1;33m8"
     ]
    }
   ],
   "source": [
    "#include <stdio.h>\n",
    "\n",
    "// Take user input\n",
    "\n",
    "int main() {\n",
    "  int a = 5;\n",
    "  int b = 3;\n",
    "  int c = a + b;\n",
    "  printf(\"\\x1b[34mAddition of two numbers\\t=\\t\\x1b[1;33m%d\", c);\n",
    "\n",
    "  return 0;\n",
    "}"
   ]
  },
  {
   "cell_type": "code",
   "execution_count": null,
   "metadata": {},
   "outputs": [],
   "source": []
  },
  {
   "cell_type": "code",
   "execution_count": 3,
   "metadata": {},
   "outputs": [
    {
     "name": "stdout",
     "output_type": "stream",
     "text": [
      "\u001b[35mEnter the value of a\u001b[1;33m\t\n",
      "\u001b[35mEnter the value of b\u001b[1;33m\t\n",
      "\u001b[34mAddition\t=\t\u001b[1;33m-1015640881\n",
      "\n",
      "\u001b[0m"
     ]
    }
   ],
   "source": [
    "#include <stdio.h>\n",
    "\n",
    "int sum(int num1, int num2); // function declaration\n",
    "\n",
    "// Take user input\n",
    "int main()\n",
    "{\n",
    "\n",
    "  int a, b, c;\n",
    "\n",
    "  printf(\"\\x1b[35mEnter the value of a\\x1b[1;33m\\t\");\n",
    "  scanf(\"%d\", &a);\n",
    "\n",
    "  printf(\"\\n\\x1b[35mEnter the value of b\\x1b[1;33m\\t\");\n",
    "  scanf(\"%d\", &b);\n",
    "\n",
    "  c = sum(a, b);\n",
    "\n",
    "  printf(\"\\n\\x1b[34mAddition\\t=\\t\\x1b[1;33m%d\\n\\n\\x1b[0m\", c);\n",
    "\n",
    "  return 0;\n",
    "}\n",
    "\n",
    "int sum(int num1, int num2)\n",
    "{\n",
    "  return num1 + num2;\n",
    "}"
   ]
  },
  {
   "cell_type": "markdown",
   "metadata": {},
   "source": [
    "## Programming Assignment \n",
    "For *Programming Languages Course*\n",
    "\n",
    "Please watch the assignment instruction video before working on this assignment. \n",
    "\n",
    "Given the grammar for a hypothetical imperative programming language,\\\n",
    "write a program that analyzes the syntax of input programs for the language.\\\n",
    "Your program should read an input test program from a file\\\n",
    "and then determine whether or not it contains any syntax errors\\\n",
    "The program does not have to show where the syntax error occurred\\\n",
    "or what kind of error it was. You can use any programming language you prefer to write the program.\n",
    "\n",
    "In your program:\n",
    "\n",
    "    Implement a lexical analyzer as a subprogram of your program. \n",
    "    Each time the lexical analyzer is called, it should return the next lexeme and its token code.\n",
    "    Implement a parser based on the following EBNF rules. \n",
    "    Create a subprogram for each non-terminal symbol which should parse only sentences that can be generated by the non-terminal.\n",
    "\n",
    "```ebnf\n",
    "<program>               -> program begin <statement_list> end\n",
    "<statement_list>        -> <statement> {;<statement>}\n",
    "<statement>             -> <assignment_statement> | <if_statement> | <loop_statement>\n",
    "<assignment_statement>  -> <variable> = <expression>\n",
    "<variable>              -> identifier (An identifier is a string that begins with a letter followed by 0 or more letters and/or digits)\n",
    "<expression>            -> <term> { (+|-) <term>}\n",
    "<term>                  -> <factor> {(* | /) <factor> }\n",
    "<factor>                -> identifier | int_constant | (<expr>)\n",
    "<if_statement>          -> if (<logic_expression>) then <statement>\n",
    "<logic_expression>      -> <variable> (< | >) <variable> (Assume that logic expressions have only less than or greater than operators)\n",
    "<loop_statement>        -> loop (<logic_expression>) <statement>\n",
    "```\n",
    "\n",
    "Upload the following:\n",
    "\n",
    "1. All your source code\n",
    "\n",
    "2. Screen dumps of the execution of your program\\\n",
    "   The file below contains 6 input program examples which you need to use to test your parser\\\n",
    "   Run your parser using every input program\\\n",
    "   In each screen dump, show the input test file (containing one input program example) and the output generated by your parser\\\n",
    "   <font color=\"red\">If you do not upload the screen dumps, your assignment will be considered incomplete and marks will be deducted</font>\n",
    "   "
   ]
  },
  {
   "cell_type": "markdown",
   "metadata": {},
   "source": []
  }
 ],
 "metadata": {
  "kernelspec": {
   "display_name": "C",
   "language": "c",
   "name": "c"
  },
  "language_info": {
   "file_extension": ".c",
   "mimetype": "text/plain",
   "name": "c"
  }
 },
 "nbformat": 4,
 "nbformat_minor": 2
}
