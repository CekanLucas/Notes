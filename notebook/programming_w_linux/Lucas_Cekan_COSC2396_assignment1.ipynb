{
 "cells": [
  {
   "cell_type": "markdown",
   "metadata": {},
   "source": [
    "# Assignment 1\n",
    "*BY Lucas Cekan* For `COSC2396` **UNIX and C Systems Programming**\n",
    "\n",
    "Using **Jupyter Notebook** to demonstrate the execution of 5 unix command"
   ]
  },
  {
   "cell_type": "markdown",
   "metadata": {},
   "source": [
    "## Getting Date"
   ]
  },
  {
   "cell_type": "code",
   "execution_count": 20,
   "metadata": {},
   "outputs": [
    {
     "name": "stdout",
     "output_type": "stream",
     "text": [
      "Wed 04 Oct 2023 08:05:05 AM EDT\n"
     ]
    }
   ],
   "source": [
    "%%bash\n",
    "date"
   ]
  },
  {
   "cell_type": "markdown",
   "metadata": {},
   "source": [
    "## who command\n",
    "\n",
    "Explanation of the `who` command\n",
    "\n",
    "    username     terminal being used         date and time that each user logged in\n",
    "\n",
    "### Options\n",
    "`-H` `--heading` display headings 🔻<span style=\"color:indianred\">Default headings below</span> \\\n",
    "Lists the login names, terminal lines, and login times of the users who are currently logged on the system\n",
    "\n",
    "`-q` `--count` quick who just display name and number of users\\\n",
    "`-b` Displays the time and date of the last reboot\\\n",
    "`--help` like many command this displays the man page for this command\n"
   ]
  },
  {
   "cell_type": "code",
   "execution_count": 21,
   "metadata": {},
   "outputs": [
    {
     "name": "stdout",
     "output_type": "stream",
     "text": [
      "NAME     LINE         TIME                    PID COMMENT\n",
      "         system boot  2023-10-02 09:52\n"
     ]
    }
   ],
   "source": [
    "%%sh\n",
    "who -Hb # Who command with headings and b which Displays the time and date of the last reboot\n"
   ]
  },
  {
   "cell_type": "markdown",
   "metadata": {},
   "source": [
    "### Display Calender \n",
    "\n",
    "`cal`"
   ]
  },
  {
   "cell_type": "code",
   "execution_count": 22,
   "metadata": {},
   "outputs": [
    {
     "name": "stdout",
     "output_type": "stream",
     "text": [
      "    October 2023      \n",
      "Su Mo Tu We Th Fr Sa  \n",
      " 1  2  3  4  5  6  7  \n",
      " 8  9 10 11 12 13 14  \n",
      "15 16 17 18 19 20 21  \n",
      "22 23 24 25 26 27 28  \n",
      "29 30 31              \n",
      "                      \n"
     ]
    }
   ],
   "source": [
    "%%sh\n",
    "cal"
   ]
  },
  {
   "cell_type": "code",
   "execution_count": 23,
   "metadata": {},
   "outputs": [
    {
     "name": "stdout",
     "output_type": "stream",
     "text": [
      "   September 1752     \n",
      "Su Mo Tu We Th Fr Sa  \n",
      "       1  2 14 15 16  \n",
      "17 18 19 20 21 22 23  \n",
      "24 25 26 27 28 29 30  \n",
      "                      \n",
      "                      \n",
      "                      \n"
     ]
    }
   ],
   "source": [
    "%%sh\n",
    "cal 9 1752 # see manual page below for explanation\n",
    "\n",
    "# An unusual calendar is printed for September 1752. That is the month 11 days were skipped to make up for lack of leap year adjustments. To see this calendar, type: cal 9 1752\n"
   ]
  },
  {
   "cell_type": "markdown",
   "metadata": {},
   "source": [
    "## Learning or getting help\n",
    "\n",
    "`learn` not installed on this system\n",
    "`help` much better than learn"
   ]
  },
  {
   "cell_type": "code",
   "execution_count": 24,
   "metadata": {},
   "outputs": [
    {
     "name": "stdout",
     "output_type": "stream",
     "text": [
      "GNU bash, version 5.0.17(1)-release (x86_64-pc-linux-gnu)\n",
      "These shell commands are defined internally.  Type `help' to see this list.\n",
      "Type `help name' to find out more about the function `name'.\n",
      "Use `info bash' to find out more about the shell in general.\n",
      "Use `man -k' or `info' to find out more about commands not in this list.\n",
      "\n",
      "A star (*) next to a name means that the command is disabled.\n",
      "\n",
      " job_spec [&]                            history [-c] [-d offset] [n] or hist>\n",
      " (( expression ))                        if COMMANDS; then COMMANDS; [ elif C>\n",
      " . filename [arguments]                  jobs [-lnprs] [jobspec ...] or jobs >\n",
      " :                                       kill [-s sigspec | -n signum | -sigs>\n",
      " [ arg... ]                              let arg [arg ...]\n",
      " [[ expression ]]                        local [option] name[=value] ...\n",
      " alias [-p] [name[=value] ... ]          logout [n]\n",
      " bg [job_spec ...]                       mapfile [-d delim] [-n count] [-O or>\n",
      " bind [-lpsvPSVX] [-m keymap] [-f file>  popd [-n] [+N | -N]\n",
      " break [n]                               printf [-v var] format [arguments]\n",
      " builtin [shell-builtin [arg ...]]       pushd [-n] [+N | -N | dir]\n",
      " caller [expr]                           pwd [-LP]\n",
      " case WORD in [PATTERN [| PATTERN]...)>  read [-ers] [-a array] [-d delim] [->\n",
      " cd [-L|[-P [-e]] [-@]] [dir]            readarray [-d delim] [-n count] [-O >\n",
      " command [-pVv] command [arg ...]        readonly [-aAf] [name[=value] ...] o>\n",
      " compgen [-abcdefgjksuv] [-o option] [>  return [n]\n",
      " complete [-abcdefgjksuv] [-pr] [-DEI]>  select NAME [in WORDS ... ;] do COMM>\n",
      " compopt [-o|+o option] [-DEI] [name .>  set [-abefhkmnptuvxBCHP] [-o option->\n",
      " continue [n]                            shift [n]\n",
      " coproc [NAME] command [redirections]    shopt [-pqsu] [-o] [optname ...]\n",
      " declare [-aAfFgilnrtux] [-p] [name[=v>  source filename [arguments]\n",
      " dirs [-clpv] [+N] [-N]                  suspend [-f]\n",
      " disown [-h] [-ar] [jobspec ... | pid >  test [expr]\n",
      " echo [-neE] [arg ...]                   time [-p] pipeline\n",
      " enable [-a] [-dnps] [-f filename] [na>  times\n",
      " eval [arg ...]                          trap [-lp] [[arg] signal_spec ...]\n",
      " exec [-cl] [-a name] [command [argume>  true\n",
      " exit [n]                                type [-afptP] name [name ...]\n",
      " export [-fn] [name[=value] ...] or ex>  typeset [-aAfFgilnrtux] [-p] name[=v>\n",
      " false                                   ulimit [-SHabcdefiklmnpqrstuvxPT] [l>\n",
      " fc [-e ename] [-lnr] [first] [last] o>  umask [-p] [-S] [mode]\n",
      " fg [job_spec]                           unalias [-a] name [name ...]\n",
      " for NAME [in WORDS ... ] ; do COMMAND>  unset [-f] [-v] [-n] [name ...]\n",
      " for (( exp1; exp2; exp3 )); do COMMAN>  until COMMANDS; do COMMANDS; done\n",
      " function name { COMMANDS ; } or name >  variables - Names and meanings of so>\n",
      " getopts optstring name [arg]            wait [-fn] [id ...]\n",
      " hash [-lr] [-p pathname] [-dt] [name >  while COMMANDS; do COMMANDS; done\n",
      " help [-dms] [pattern ...]               { COMMANDS ; }\n"
     ]
    }
   ],
   "source": [
    "%%bash\n",
    "help"
   ]
  },
  {
   "cell_type": "markdown",
   "metadata": {},
   "source": [
    "## Unix system - Navigating the directory structure\n",
    "\n",
    "## Make directory\n",
    "\n",
    "`mkdir` *newDirectoryName* - make directory command creates a new subdirectory under your working directory or any other directory you specify as part of the command\n",
    "\n",
    "### Create with levels \n",
    "\n",
    "`-p` Use this option with mkdir to also create other levels\n",
    "\n",
    "```sh\n",
    "mkdir -p ./a/b/c/d\n",
    "```\n",
    "      a\n",
    "       \\\n",
    "        b    Directory Structure after command\n",
    "         \\\n",
    "          c\n",
    "           \\\n",
    "            d\n",
    "\n",
    "## Example of using Directory Commands"
   ]
  },
  {
   "cell_type": "code",
   "execution_count": 25,
   "metadata": {},
   "outputs": [
    {
     "name": "stdout",
     "output_type": "stream",
     "text": [
      "/home/dubi/projects/Notes/notebook/programming_w_linux/test\n",
      "newDirectory\n",
      "newDirectory2\n"
     ]
    }
   ],
   "source": [
    "%%sh\n",
    "\n",
    "mkdir -p ./test/newDirectory # Create a test directory with subdirectory newDirectory\n",
    "cd test # change working directory to the newly created test directory\n",
    "pwd # print working directory \n",
    "mkdir newDirectory2 # now create a new directory in the test directory\n",
    "ls # list command should display the contents of the test directory so the 2 newDirectories\n",
    "# rm -r ./test # remove recursively (-r option) to delete test directory with its contents\n",
    "\n",
    "rmdir newDirectory # remove directory (works because directory is empty)\n",
    "rmdir newDirectory2 # remove directory (works because directory is empty)\n",
    "ls # should be empty directory\n",
    "\n",
    "cd ../ #change directory up one level\n",
    "rmdir test # remove directory (works because directory is empty)"
   ]
  },
  {
   "cell_type": "markdown",
   "metadata": {},
   "source": [
    "## Review of Commands Demonstrated\n",
    "\n",
    "1) `date` command\n",
    "2) `who` command\n",
    "3) `help` command\n",
    "4) `cal` command\n",
    "5) `mkdir` `rmdir` `cd` `ls` various directory commands"
   ]
  }
 ],
 "metadata": {
  "jupytext": {
   "formats": "ipynb,md:myst"
  },
  "kernelspec": {
   "display_name": "Python 3 (ipykernel)",
   "language": "python",
   "name": "python3"
  },
  "language_info": {
   "codemirror_mode": {
    "name": "ipython",
    "version": 3
   },
   "file_extension": ".py",
   "mimetype": "text/x-python",
   "name": "python",
   "nbconvert_exporter": "python",
   "pygments_lexer": "ipython3",
   "version": "3.8.10"
  }
 },
 "nbformat": 4,
 "nbformat_minor": 2
}
