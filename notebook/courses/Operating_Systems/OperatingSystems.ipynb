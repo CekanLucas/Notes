{
 "cells": [
  {
   "cell_type": "code",
   "execution_count": 1,
   "metadata": {},
   "outputs": [
    {
     "name": "stdout",
     "output_type": "stream",
     "text": [
      "procs -----------memory---------- ---swap-- -----io---- -system-- ------cpu-----\n",
      " r  b   swpd   free   buff  cache   si   so    bi    bo   in   cs us sy id wa st\n",
      " 8  0 2096964 655852 311428 1082616    1    7    30    33   94   11 17  7 77  0  0\n",
      " 5  0 2096964 648644 312016 1085644    0    0  2300   396 21763 60315 25  6 69  0  0\n",
      " 4  0 2096964 644092 312016 1088396    0    0     0     0 21598 46518 17  6 78  0  0\n"
     ]
    }
   ],
   "source": [
    "%%bash\n",
    "\n",
    "vmstat 1 3"
   ]
  },
  {
   "cell_type": "code",
   "execution_count": 3,
   "metadata": {},
   "outputs": [
    {
     "name": "stdout",
     "output_type": "stream",
     "text": [
      "Name:\tkworker/0:0H-events_highpri\n",
      "Umask:\t0000\n",
      "State:\tI (idle)\n",
      "Tgid:\t8\n",
      "Ngid:\t0\n",
      "Pid:\t8\n",
      "PPid:\t2\n",
      "TracerPid:\t0\n",
      "Uid:\t0\t0\t0\t0\n",
      "Gid:\t0\t0\t0\t0\n",
      "FDSize:\t64\n",
      "Groups:\t \n",
      "NStgid:\t8\n",
      "NSpid:\t8\n",
      "NSpgid:\t0\n",
      "NSsid:\t0\n",
      "Threads:\t1\n",
      "SigQ:\t0/63051\n",
      "SigPnd:\t0000000000000000\n",
      "ShdPnd:\t0000000000000000\n",
      "SigBlk:\t0000000000000000\n",
      "SigIgn:\tffffffffffffffff\n",
      "SigCgt:\t0000000000000000\n",
      "CapInh:\t0000000000000000\n",
      "CapPrm:\t000001ffffffffff\n",
      "CapEff:\t000001ffffffffff\n",
      "CapBnd:\t000001ffffffffff\n",
      "CapAmb:\t0000000000000000\n",
      "NoNewPrivs:\t0\n",
      "Seccomp:\t0\n",
      "Seccomp_filters:\t0\n",
      "Speculation_Store_Bypass:\tthread vulnerable\n",
      "SpeculationIndirectBranch:\tconditional enabled\n",
      "Cpus_allowed:\t0001\n",
      "Cpus_allowed_list:\t0\n",
      "Mems_allowed:\t00000000,00000000,00000000,00000000,00000000,00000000,00000000,00000000,00000000,00000000,00000000,00000000,00000000,00000000,00000000,00000000,00000000,00000000,00000000,00000000,00000000,00000000,00000000,00000000,00000000,00000000,00000000,00000000,00000000,00000000,00000000,00000001\n",
      "Mems_allowed_list:\t0\n",
      "voluntary_ctxt_switches:\t4\n",
      "nonvoluntary_ctxt_switches:\t0\n"
     ]
    }
   ],
   "source": [
    "%%bash\n",
    "# We use the /proc file system to determine the number of\n",
    "# context switches for a given process. For example, the contents of the file\n",
    "# /proc/2166/status will list various statistics for the process with pid = 2166\n",
    "cat /proc/8/status"
   ]
  },
  {
   "cell_type": "code",
   "execution_count": 2,
   "metadata": {},
   "outputs": [
    {
     "name": "stdout",
     "output_type": "stream",
     "text": [
      "procs -----------memory---------- ---swap-- -----io---- -system-- ------cpu-----\n",
      " r  b   swpd   free   buff  cache   si   so    bi    bo   in   cs us sy id wa st\n",
      " 3  0 442624 463304 1465992 2306480    0    1    17    16   63   36  6  2 92  0  0\n"
     ]
    },
    {
     "name": "stdout",
     "output_type": "stream",
     "text": [
      " 3  0 442624 457596 1466024 2308784    0    0     0   328 5150 13571 13  3 83  0  0\n",
      " 2  0 442624 459876 1466024 2308732    0    0     0     0 3116 8939 12  3 85  0  0\n"
     ]
    }
   ],
   "source": [
    "#include <stdio.h>\n",
    "#include <stdlib.h>\n",
    "\n",
    "int main() {\n",
    "    system(\"vmstat 1 3\"); // Execute a shell command\n",
    "    return 0;\n",
    "}\n"
   ]
  }
 ],
 "metadata": {
  "kernelspec": {
   "display_name": "C",
   "language": "c",
   "name": "c"
  },
  "language_info": {
   "file_extension": ".c",
   "mimetype": "text/x-csrc",
   "name": "c"
  }
 },
 "nbformat": 4,
 "nbformat_minor": 2
}
