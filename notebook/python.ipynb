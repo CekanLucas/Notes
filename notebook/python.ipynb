{
 "cells": [
  {
   "attachments": {},
   "cell_type": "markdown",
   "metadata": {},
   "source": [
    "# Python\n",
    "Released by **Guido van Rossum** in 1991\n",
    "\n",
    "Python is a **Interpreted Language** so there is no need in compiling it"
   ]
  },
  {
   "cell_type": "code",
   "execution_count": 11,
   "metadata": {},
   "outputs": [
    {
     "name": "stdout",
     "output_type": "stream",
     "text": [
      "Hello, world\n"
     ]
    }
   ],
   "source": [
    "print('Hello, world')"
   ]
  },
  {
   "cell_type": "code",
   "execution_count": 12,
   "metadata": {},
   "outputs": [
    {
     "name": "stdout",
     "output_type": "stream",
     "text": [
      "8\n"
     ]
    }
   ],
   "source": [
    "# Unlike some languages python can do exponents\n",
    "pow = 2**3\n",
    "print(pow)"
   ]
  },
  {
   "cell_type": "code",
   "execution_count": 13,
   "metadata": {},
   "outputs": [
    {
     "name": "stdout",
     "output_type": "stream",
     "text": [
      "199.0\n"
     ]
    }
   ],
   "source": [
    "# you can find out what type something is easily\n",
    "type(\"hello\") #=> str\n",
    "type(21) #=> int\n",
    "type(1.1) #=> float\n",
    "\n",
    "# TYPE Conversions\n",
    "print(float(99) + 100) # Convert int -> float"
   ]
  },
  {
   "cell_type": "code",
   "execution_count": 14,
   "metadata": {},
   "outputs": [
    {
     "name": "stdout",
     "output_type": "stream",
     "text": [
      "Lucas\n"
     ]
    }
   ],
   "source": [
    "# TAKE INPUT FROM USER\n",
    "myInputVar = input(\"Gimme input and I will echo it\")\n",
    "print(myInputVar)"
   ]
  },
  {
   "cell_type": "code",
   "execution_count": 15,
   "metadata": {},
   "outputs": [
    {
     "name": "stdout",
     "output_type": "stream",
     "text": [
      "We are going to ask you to provide two number inputs and then we will add them\n",
      "Sum is: \n",
      "3\n"
     ]
    }
   ],
   "source": [
    "print(\"We are going to ask you to provide two number inputs and then we will add them\")\n",
    "num1 = int(input(\"Enter First Number:\\t\"))\n",
    "num2 = int(input(\"Enter Second Number:\\t\"))\n",
    "sum = num1 + num2\n",
    "print(\"Sum is: \")\n",
    "print(sum)"
   ]
  },
  {
   "cell_type": "code",
   "execution_count": 16,
   "metadata": {},
   "outputs": [
    {
     "name": "stdout",
     "output_type": "stream",
     "text": [
      "you got the conditional statements\n"
     ]
    }
   ],
   "source": [
    "if 5 > 6:\n",
    "    print(\"Ha\")\n",
    "elif 3 == 4:\n",
    "    print(\"ha ha\");\n",
    "elif 3 != 4:\n",
    "    print(\"you got the conditional statements\")\n",
    "else:\n",
    "    print(\"No previous conditions were met\")"
   ]
  },
  {
   "cell_type": "code",
   "execution_count": 17,
   "metadata": {},
   "outputs": [
    {
     "name": "stdout",
     "output_type": "stream",
     "text": [
      "1\n",
      "3\n",
      "5\n",
      "7\n",
      "9\n"
     ]
    }
   ],
   "source": [
    "# Loopy Loops\n",
    "for num in range(1, 10 , 2):\n",
    "    print(num)"
   ]
  },
  {
   "cell_type": "code",
   "execution_count": 18,
   "metadata": {},
   "outputs": [
    {
     "name": "stdout",
     "output_type": "stream",
     "text": [
      "5\n",
      "Blastoff!\n",
      "4\n",
      "Blastoff!\n",
      "3\n",
      "Blastoff!\n",
      "2\n",
      "Blastoff!\n",
      "1\n",
      "Blastoff!\n"
     ]
    }
   ],
   "source": [
    "n = 5\n",
    "while n > 0 :\n",
    "    print (n)\n",
    "    n = n - 1\n",
    "    print('Blastoff!')"
   ]
  }
 ],
 "metadata": {
  "kernelspec": {
   "display_name": "base",
   "language": "python",
   "name": "python3"
  },
  "language_info": {
   "codemirror_mode": {
    "name": "ipython",
    "version": 3
   },
   "file_extension": ".py",
   "mimetype": "text/x-python",
   "name": "python",
   "nbconvert_exporter": "python",
   "pygments_lexer": "ipython3",
   "version": "3.10.12"
  },
  "orig_nbformat": 4
 },
 "nbformat": 4,
 "nbformat_minor": 2
}
