{
 "cells": [
  {
   "attachments": {},
   "cell_type": "markdown",
   "metadata": {},
   "source": [
    "# Python Community\n",
    "\n",
    "From Linked in Learning Course\n",
    "\n",
    "## Pip\n",
    "\n",
    "Pip is the python packaging way similar to `npm` \n",
    "\n",
    "## Virtual Environments\n",
    "\n",
    "`venv` module to create virtual environments\n"
   ]
  },
  {
   "cell_type": "code",
   "execution_count": 6,
   "metadata": {},
   "outputs": [
    {
     "name": "stdout",
     "output_type": "stream",
     "text": [
      "bin\n",
      "include\n",
      "lib\n",
      "lib64\n",
      "pyvenv.cfg\n",
      "share\n",
      "/home/dubi/projects/Notes/Markdown/notebook/mynewbook/test_env/bin/python3\n"
     ]
    }
   ],
   "source": [
    "%%bash\n",
    "\n",
    "# Create a virtual environment\n",
    "# python3 -m venv /path/to/new/virtual/environment\n",
    "\n",
    " \n",
    "# This creates a target directory and places a pyvenv.cfg file in it with a home key pointing \n",
    "python3 -m venv ../../test_env\n",
    "\n",
    "ls ../../test_env\n",
    "\n",
    "# to activate the env\n",
    "# Doesn't work with fish shell for some reason\n",
    "source ../../test_env/bin/activate\n",
    "\n",
    "# now if you do which python3 it would inform you it comes from the venv\n",
    "which python3\n",
    "\n",
    "# clean up directory\n",
    "rm -rf ../../test_env"
   ]
  }
 ],
 "metadata": {
  "kernelspec": {
   "display_name": "Python 3",
   "language": "python",
   "name": "python3"
  },
  "language_info": {
   "codemirror_mode": {
    "name": "ipython",
    "version": 3
   },
   "file_extension": ".py",
   "mimetype": "text/x-python",
   "name": "python",
   "nbconvert_exporter": "python",
   "pygments_lexer": "ipython3",
   "version": "3.8.10"
  },
  "orig_nbformat": 4
 },
 "nbformat": 4,
 "nbformat_minor": 2
}
