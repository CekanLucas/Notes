{
 "cells": [
  {
   "cell_type": "code",
   "execution_count": null,
   "metadata": {
    "tags": [],
    "vscode": {
     "languageId": "html"
    }
   },
   "outputs": [],
   "source": [
    "%%html\n",
    "\n",
    "<!DOCTYPE html>\n",
    "<div id=\"myplot\"></div>\n",
    "<script type=\"module\">\n",
    "\n",
    "import * as Plot from \"https://cdn.jsdelivr.net/npm/@observablehq/plot@0.6/+esm\";\n",
    "\n",
    "const relations = [\n",
    "  {A: 0, B:\"e\"},\n",
    "  {A: 1, B:\"d\"},\n",
    "  {A: 2, B:\"c\"},\n",
    "  {A: 1, B:\"b\"},\n",
    "  {A: 0, B:\"a\"},\n",
    "  {A: 2, B:\"a\"},\n",
    "]\n",
    "\n",
    "const plot = Plot.plot({\n",
    "  style: {backgroundColor:\"transparent\", color: \"azure\"},\n",
    "  width: 300, // default is 640\n",
    "  aspectRatio: 4,\n",
    "  inset: 20, // no corner data think padding\n",
    "  marginTop: 10,\n",
    "  marginRight: 20,\n",
    "  marginBottom: 30,\n",
    "  marginLeft: 40,\n",
    "  grid: true,\n",
    "  marks: [\n",
    "    Plot.dot(relations, { x: \"A\", y: \"B\", stroke: \"black\", fill: \"cyan\", reverse: \"A\" }),\n",
    "    Plot.frame(), // draw the box frame\n",
    "    Plot.text([\"R^2\"], {lineWidth: 1, frameAnchor: \"top\"})\n",
    "  ]\n",
    "})\n",
    "\n",
    "\n",
    "const div = document.querySelector(\"#myplot\");\n",
    "div.append(plot);\n",
    "\n",
    "</script>"
   ]
  },
  {
   "cell_type": "code",
   "execution_count": 94,
   "metadata": {
    "vscode": {
     "languageId": "html"
    }
   },
   "outputs": [
    {
     "data": {
      "text/html": [
       "<div id=\"r4plot\"></div>\n",
       "<script type=\"module\">\n",
       "\n",
       "  import * as Plot from \"https://cdn.jsdelivr.net/npm/@observablehq/plot@0.6/+esm\";\n",
       "\n",
       "  let xStart = -5;\n",
       "  let yStart = -5;\n",
       "\n",
       "  const points = new Array(11).fill(null).map(point => {\n",
       "    return { x: xStart++, y: yStart++ }\n",
       "  })\n",
       "\n",
       "  const r4Plot = Plot.plot({\n",
       "    style: { backgroundColor: \"transparent\", color: \"azure\" },\n",
       "    width: 300, // default is 640\n",
       "    aspectRatio: 1,\n",
       "    grid: true,\n",
       "    marginRight: 30, \n",
       "    marks: [\n",
       "      // Plot.lineY(points, { x: \"x\", y: \"y\", stroke: \"cyan\", fill: \"cyan\"}),\n",
       "      Plot.areaY(points, { x: \"x\", y: \"y\", y1: \"y\", y2: 5, stroke: \"cyan\", fill: \"cyan\", fillOpacity: 0.2}),\n",
       "      Plot.frame(), // draw the box frame\n",
       "      Plot.text([\"R_4\"], { lineWidth: 1, x: -3, y: 3, fontSize: 16, fill: \"cyan\" }),\n",
       "      Plot.text([\" x=y\"], { lineWidth: 1, x: 5, y: 5, fontSize: 16, fill: \"cyan\", textAnchor: \"start\" }),\n",
       "      Plot.ruleY([0]),\n",
       "      Plot.ruleX([0])\n",
       "    ]\n",
       "  })\n",
       "\n",
       "  const div = document.querySelector(\"#r4plot\");\n",
       "  div.append(r4Plot);\n",
       "\n",
       "</script>\n"
      ],
      "text/plain": [
       "<IPython.core.display.HTML object>"
      ]
     },
     "metadata": {},
     "output_type": "display_data"
    }
   ],
   "source": [
    "%%html\n",
    "<div id=\"r4plot\"></div>\n",
    "<script type=\"module\">\n",
    "\n",
    "  import * as Plot from \"https://cdn.jsdelivr.net/npm/@observablehq/plot@0.6/+esm\";\n",
    "\n",
    "  let xStart = -5;\n",
    "  let yStart = -5;\n",
    "\n",
    "  const points = new Array(11).fill(null).map(point => {\n",
    "    return { x: xStart++, y: yStart++ }\n",
    "  })\n",
    "\n",
    "  const r4Plot = Plot.plot({\n",
    "    style: { backgroundColor: \"transparent\", color: \"azure\" },\n",
    "    width: 300, // default is 640\n",
    "    aspectRatio: 1,\n",
    "    grid: true,\n",
    "    marginRight: 30, \n",
    "    marks: [\n",
    "      // Plot.lineY(points, { x: \"x\", y: \"y\", stroke: \"cyan\", fill: \"cyan\"}),\n",
    "      Plot.areaY(points, { x: \"x\", y: \"y\", y1: \"y\", y2: 5, stroke: \"cyan\", fill: \"cyan\", fillOpacity: 0.2}),\n",
    "      Plot.frame(), // draw the box frame\n",
    "      Plot.text([\"R_4\"], { lineWidth: 1, x: -3, y: 3, fontSize: 16, fill: \"cyan\" }),\n",
    "      Plot.text([\" x=y\"], { lineWidth: 1, x: 5, y: 5, fontSize: 16, fill: \"cyan\", textAnchor: \"start\" }),\n",
    "      Plot.ruleY([0]),\n",
    "      Plot.ruleX([0])\n",
    "    ]\n",
    "  })\n",
    "\n",
    "  const div = document.querySelector(\"#r4plot\");\n",
    "  div.append(r4Plot);\n",
    "\n",
    "</script>"
   ]
  },
  {
   "cell_type": "code",
   "execution_count": 119,
   "metadata": {
    "vscode": {
     "languageId": "html"
    }
   },
   "outputs": [
    {
     "data": {
      "text/html": [
       "<div id=\"s1plot\"></div>\n",
       "<script type=\"module\">\n",
       "\n",
       "  import * as Plot from \"https://cdn.jsdelivr.net/npm/@observablehq/plot@0.6/+esm\";\n",
       "\n",
       "  let x = -1;\n",
       "  let y = 0;\n",
       "\n",
       "  const pointsPositive = new Array(21).fill(null).map( point => {\n",
       "    const circleY = Math.sqrt(1 - Math.pow(x, 2));\n",
       "    x += 0.1;\n",
       "    return { x: x - 0.1, y: circleY }\n",
       "  })\n",
       "\n",
       "  x = -1;\n",
       "\n",
       "  const pointsNegative = new Array(21).fill(null).map( point => {\n",
       "    const circleY = Math.sqrt(1 - Math.pow(x, 2));\n",
       "    x += 0.1;\n",
       "    return { x: x - 0.1, y: -circleY }\n",
       "  })\n",
       "\n",
       "  const s1Plot = Plot.plot({\n",
       "    style: { backgroundColor: \"transparent\", color: \"azure\" },\n",
       "    width: 300, // default is 640\n",
       "    aspectRatio: 1,\n",
       "    // grid: true,\n",
       "    marginRight: 30,\n",
       "    marks: [\n",
       "      // Plot.lineY(points, { x: \"x\", y: \"y\", stroke: \"cyan\", fill: \"cyan\"}),\n",
       "      Plot.lineY(pointsPositive, { x: \"x\", y: \"y\", stroke: \"cyan\", fill: \"cyan\", fillOpacity: 0.1 }),\n",
       "      Plot.lineX(pointsNegative, { x: \"x\", y: \"y\", stroke: \"cyan\", fill: \"cyan\", fillOpacity: 0.1 }),\n",
       "      // Plot.frame(), // draw the box frame\n",
       "      Plot.text([\"S_1\"], { lineWidth: 1, x: -0.8, y: 1, fontSize: 16, fill: \"cyan\" }),\n",
       "      Plot.text([\"  x^2 + y^2 = 1\"], { x: 1/Math.sqrt(2), y: 1/Math.sqrt(2), fontSize: 10, fill: \"cyan\", textAnchor: \"start\", lineAnchor: \"bottom\" }),\n",
       "      Plot.text([\"   ( -1/sqrt(2) , -1/sqrt(2) )\"], { x: -1/Math.sqrt(2), y: -1/Math.sqrt(2), fontSize: 10, fill: \"cyan\", textAnchor: \"start\", lineAnchor: \"bottom\" }),\n",
       "      Plot.text([\"   ( -1/sqrt(2) , 1/sqrt(2) )\"], { x: -1/Math.sqrt(2), y: 1/Math.sqrt(2), fontSize: 10, fill: \"cyan\", textAnchor: \"start\", lineAnchor: \"top\" }),\n",
       "      Plot.ruleY([0]),\n",
       "      Plot.ruleX([0])\n",
       "    ]\n",
       "  })\n",
       "\n",
       "  const div = document.querySelector(\"#s1plot\");\n",
       "  div.append(s1Plot);\n",
       "\n",
       "</script>\n"
      ],
      "text/plain": [
       "<IPython.core.display.HTML object>"
      ]
     },
     "metadata": {},
     "output_type": "display_data"
    }
   ],
   "source": [
    "%%html\n",
    "<div id=\"s1plot\"></div>\n",
    "<script type=\"module\">\n",
    "\n",
    "  import * as Plot from \"https://cdn.jsdelivr.net/npm/@observablehq/plot@0.6/+esm\";\n",
    "\n",
    "  let x = -1;\n",
    "  let y = 0;\n",
    "\n",
    "  const pointsPositive = new Array(21).fill(null).map( point => {\n",
    "    const circleY = Math.sqrt(1 - Math.pow(x, 2));\n",
    "    x += 0.1;\n",
    "    return { x: x - 0.1, y: circleY }\n",
    "  })\n",
    "\n",
    "  x = -1;\n",
    "\n",
    "  const pointsNegative = new Array(21).fill(null).map( point => {\n",
    "    const circleY = Math.sqrt(1 - Math.pow(x, 2));\n",
    "    x += 0.1;\n",
    "    return { x: x - 0.1, y: -circleY }\n",
    "  })\n",
    "\n",
    "  const s1Plot = Plot.plot({\n",
    "    style: { backgroundColor: \"transparent\", color: \"azure\" },\n",
    "    width: 300, // default is 640\n",
    "    aspectRatio: 1,\n",
    "    // grid: true,\n",
    "    marginRight: 30,\n",
    "    marks: [\n",
    "      // Plot.lineY(points, { x: \"x\", y: \"y\", stroke: \"cyan\", fill: \"cyan\"}),\n",
    "      Plot.lineY(pointsPositive, { x: \"x\", y: \"y\", stroke: \"cyan\", fill: \"cyan\", fillOpacity: 0.1 }),\n",
    "      Plot.lineX(pointsNegative, { x: \"x\", y: \"y\", stroke: \"cyan\", fill: \"cyan\", fillOpacity: 0.1 }),\n",
    "      // Plot.frame(), // draw the box frame\n",
    "      Plot.text([\"S_1\"], { lineWidth: 1, x: -0.8, y: 1, fontSize: 16, fill: \"cyan\" }),\n",
    "      Plot.text([\"  x^2 + y^2 = 1\"], { x: 1/Math.sqrt(2), y: 1/Math.sqrt(2), fontSize: 10, fill: \"cyan\", textAnchor: \"start\", lineAnchor: \"bottom\" }),\n",
    "      Plot.text([\"   ( -1/sqrt(2) , -1/sqrt(2) )\"], { x: -1/Math.sqrt(2), y: -1/Math.sqrt(2), fontSize: 10, fill: \"cyan\", textAnchor: \"start\", lineAnchor: \"bottom\" }),\n",
    "      Plot.text([\"   ( -1/sqrt(2) , 1/sqrt(2) )\"], { x: -1/Math.sqrt(2), y: 1/Math.sqrt(2), fontSize: 10, fill: \"cyan\", textAnchor: \"start\", lineAnchor: \"top\" }),\n",
    "      Plot.ruleY([0]),\n",
    "      Plot.ruleX([0])\n",
    "    ]\n",
    "  })\n",
    "\n",
    "  const div = document.querySelector(\"#s1plot\");\n",
    "  div.append(s1Plot);\n",
    "</script>"
   ]
  },
  {
   "cell_type": "code",
   "execution_count": 139,
   "metadata": {
    "vscode": {
     "languageId": "html"
    }
   },
   "outputs": [
    {
     "data": {
      "text/html": [
       "<div id=\"r5plot\"></div>\n",
       "<script type=\"module\">\n",
       "\n",
       "  import * as Plot from \"https://cdn.jsdelivr.net/npm/@observablehq/plot@0.6/+esm\";\n",
       "\n",
       "  let x = -2;\n",
       "  let y = 0;\n",
       "\n",
       "  const pointsPositive = new Array(21).fill(null).map( point => {\n",
       "    const pointY = Math.pow(x, 3);\n",
       "    x += 0.2;\n",
       "    return { x: x - 0.2, y: pointY }\n",
       "  })\n",
       "\n",
       "  const s1Plot = Plot.plot({\n",
       "    style: { backgroundColor: \"transparent\", color: \"azure\" },\n",
       "    width: 300, // default is 640\n",
       "    aspectRatio: 3,\n",
       "    marginRight: 50,\n",
       "    x: {domain: [-2, 2]},\n",
       "    y: {domain: [-8, 8]},\n",
       "    marks: [\n",
       "      Plot.lineY(pointsPositive, { x: \"x\", y: \"y\", stroke: \"cyan\" }),\n",
       "      Plot.text([\"R_5\"], { lineWidth: 1, x: -1.8, y: 7, fontSize: 16, fill: \"cyan\" }),\n",
       "      Plot.text([\" y - x^3 = 0\"], { x: 2, y: 8, fontSize: 10, fill: \"cyan\", textAnchor: \"start\", lineAnchor: \"bottom\" }),\n",
       "      Plot.ruleY([0]),\n",
       "      Plot.ruleX([0])\n",
       "    ]\n",
       "  })\n",
       "\n",
       "  const div = document.querySelector(\"#r5plot\");\n",
       "  div.append(s1Plot);\n",
       "</script>\n"
      ],
      "text/plain": [
       "<IPython.core.display.HTML object>"
      ]
     },
     "metadata": {},
     "output_type": "display_data"
    }
   ],
   "source": [
    "%%html\n",
    "<div id=\"r5plot\"></div>\n",
    "<script type=\"module\">\n",
    "\n",
    "  import * as Plot from \"https://cdn.jsdelivr.net/npm/@observablehq/plot@0.6/+esm\";\n",
    "\n",
    "  let x = -2;\n",
    "  let y = 0;\n",
    "\n",
    "  const pointsPositive = new Array(21).fill(null).map( point => {\n",
    "    const pointY = Math.pow(x, 3);\n",
    "    x += 0.2;\n",
    "    return { x: x - 0.2, y: pointY }\n",
    "  })\n",
    "\n",
    "  const s1Plot = Plot.plot({\n",
    "    style: { backgroundColor: \"transparent\", color: \"azure\" },\n",
    "    width: 300, // default is 640\n",
    "    aspectRatio: 3,\n",
    "    marginRight: 50,\n",
    "    x: {domain: [-2, 2]},\n",
    "    y: {domain: [-8, 8]},\n",
    "    marks: [\n",
    "      Plot.lineY(pointsPositive, { x: \"x\", y: \"y\", stroke: \"cyan\" }),\n",
    "      Plot.text([\"R_5\"], { lineWidth: 1, x: -1.8, y: 7, fontSize: 16, fill: \"cyan\" }),\n",
    "      Plot.text([\" y - x^3 = 0\"], { x: 2, y: 8, fontSize: 10, fill: \"cyan\", textAnchor: \"start\", lineAnchor: \"bottom\" }),\n",
    "      Plot.ruleY([0]),\n",
    "      Plot.ruleX([0])\n",
    "    ]\n",
    "  })\n",
    "\n",
    "  const div = document.querySelector(\"#r5plot\");\n",
    "  div.append(s1Plot);\n",
    "</script>"
   ]
  }
 ],
 "metadata": {
  "kernelspec": {
   "display_name": "base",
   "language": "python",
   "name": "python3"
  },
  "language_info": {
   "codemirror_mode": {
    "name": "ipython",
    "version": 3
   },
   "file_extension": ".py",
   "mimetype": "text/x-python",
   "name": "python",
   "nbconvert_exporter": "python",
   "pygments_lexer": "ipython3",
   "version": "3.10.8"
  },
  "orig_nbformat": 4
 },
 "nbformat": 4,
 "nbformat_minor": 2
}
